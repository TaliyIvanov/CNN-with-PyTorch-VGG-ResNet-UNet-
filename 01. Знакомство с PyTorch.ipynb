{
 "cells": [
  {
   "cell_type": "code",
   "execution_count": null,
   "metadata": {
    "id": "9RdipMc3PXeQ"
   },
   "outputs": [],
   "source": [
    "import torch"
   ]
  },
  {
   "cell_type": "markdown",
   "metadata": {
    "id": "bEtfV_SZUhss"
   },
   "source": [
    "### Возможности тензоров"
   ]
  },
  {
   "cell_type": "code",
   "execution_count": null,
   "metadata": {
    "colab": {
     "base_uri": "https://localhost:8080/"
    },
    "executionInfo": {
     "elapsed": 260,
     "status": "ok",
     "timestamp": 1732275856909,
     "user": {
      "displayName": "Виталий Павлов",
      "userId": "11648481872593380875"
     },
     "user_tz": -180
    },
    "id": "hQkny288Ujjd",
    "outputId": "fa102b12-170c-44a4-9d62-718efef25916"
   },
   "outputs": [
    {
     "data": {
      "text/plain": [
       "tensor([[2, 4],\n",
       "        [1, 3]], device='cuda:0')"
      ]
     },
     "execution_count": 5,
     "metadata": {},
     "output_type": "execute_result"
    }
   ],
   "source": [
    "# torch.tensor([2,3])    # получение тензора\n",
    "# torch.tensor([[2, 3], [5, 6]]) #вложеный список создает двумерный тензор\n",
    "# torch.tensor([[1,5], [1,5]], dtype=torch.int32)           # двумерный тензор с присвоением типа int32\n",
    "# torch.tensor([[123, 453],[23, 23]], dtype=torch.float32)  # двумерный тензор с присвоением типа float32\n",
    "# torch.tensor([[45,123],[54,213]], dtype=torch.float32,requires_grad=True)    # двумерный тензор с присвоением типа float32\n",
    "# torch.tensor([[4,2], [5,4]], requires_grad=True) # Данный тензор не получает ошибку если не тот тип данных\n",
    "# torch.tensor([[2,4], [1,3]], device=torch.device('cuda:0')) # перемещение тензора на графический процессор"
   ]
  },
  {
   "cell_type": "markdown",
   "metadata": {
    "id": "OIgHMeetr1qJ"
   },
   "source": [
    "### Свойства и методы tensor"
   ]
  },
  {
   "cell_type": "code",
   "execution_count": null,
   "metadata": {
    "colab": {
     "base_uri": "https://localhost:8080/"
    },
    "executionInfo": {
     "elapsed": 266,
     "status": "ok",
     "timestamp": 1732275977800,
     "user": {
      "displayName": "Виталий Павлов",
      "userId": "11648481872593380875"
     },
     "user_tz": -180
    },
    "id": "kbqoRQ2YU-Lm",
    "outputId": "c74612e9-439e-4902-eafd-fc9f5846aea2"
   },
   "outputs": [
    {
     "data": {
      "text/plain": [
       "tensor([[[2., 3.],\n",
       "         [4., 5.]],\n",
       "\n",
       "        [[6., 7.],\n",
       "         [8., 9.]]], requires_grad=True)"
      ]
     },
     "execution_count": 6,
     "metadata": {},
     "output_type": "execute_result"
    }
   ],
   "source": [
    "tensor = torch.tensor([[[2,3], [4,5]], [[6,7], [8,9]]],\n",
    "                      dtype=torch.float32,\n",
    "                      requires_grad=True\n",
    "                      )\n",
    "tensor"
   ]
  },
  {
   "cell_type": "code",
   "execution_count": null,
   "metadata": {
    "colab": {
     "base_uri": "https://localhost:8080/"
    },
    "executionInfo": {
     "elapsed": 275,
     "status": "ok",
     "timestamp": 1732276521583,
     "user": {
      "displayName": "Виталий Павлов",
      "userId": "11648481872593380875"
     },
     "user_tz": -180
    },
    "id": "rm6LbO6asbvL",
    "outputId": "df9807e4-9dc1-48be-8160-7a31b1e1f172"
   },
   "outputs": [
    {
     "data": {
      "text/plain": [
       "float"
      ]
     },
     "execution_count": 16,
     "metadata": {},
     "output_type": "execute_result"
    }
   ],
   "source": [
    "# tensor.dtype # тип тензора --> torch.float32\n",
    "# tensor.shape # размер тензора --> torch.Size([2, 2, 2])\n",
    "# tensor.size() # размер тензора --> torch.Size([2, 2, 2])\n",
    "# tensor.ndim # кол-во осей в тензоре --> 3\n",
    "\n",
    "# tensor[0,0,0] # слайсинг тензора --> tensor(2., grad_fn=<SelectBackward0>)\n",
    "# type(tensor[0,0,0]) # тип элемента тензора\n",
    "\n",
    "# tensor[0,0,0].item() # вернет само число --> 2.0\n",
    "type(tensor[0,0,0].item()) # вернет тип элемента --> float"
   ]
  },
  {
   "cell_type": "markdown",
   "metadata": {
    "id": "JTnVt-Msulip"
   },
   "source": [
    "### Создание массивов разного размера"
   ]
  },
  {
   "cell_type": "code",
   "execution_count": null,
   "metadata": {
    "colab": {
     "base_uri": "https://localhost:8080/"
    },
    "executionInfo": {
     "elapsed": 268,
     "status": "ok",
     "timestamp": 1732276752536,
     "user": {
      "displayName": "Виталий Павлов",
      "userId": "11648481872593380875"
     },
     "user_tz": -180
    },
    "id": "t5SO4F8Vs4Pk",
    "outputId": "c1816f3f-6102-47fc-9d01-ee7adf6721f7"
   },
   "outputs": [
    {
     "name": "stdout",
     "output_type": "stream",
     "text": [
      "tensor([[[0., 0.],\n",
      "         [0., 0.],\n",
      "         [0., 0.]],\n",
      "\n",
      "        [[0., 0.],\n",
      "         [0., 0.],\n",
      "         [0., 0.]]])\n",
      "torch.float32\n"
     ]
    }
   ],
   "source": [
    "tensor = torch.zeros([2,3,2]) # создает матрицу 0, тип float32\n",
    "print(tensor)\n",
    "print(tensor.dtype)"
   ]
  },
  {
   "cell_type": "code",
   "execution_count": null,
   "metadata": {
    "colab": {
     "base_uri": "https://localhost:8080/"
    },
    "executionInfo": {
     "elapsed": 268,
     "status": "ok",
     "timestamp": 1732276861067,
     "user": {
      "displayName": "Виталий Павлов",
      "userId": "11648481872593380875"
     },
     "user_tz": -180
    },
    "id": "SxueC807vANA",
    "outputId": "b888f239-5f13-4668-ff38-fb36392afe28"
   },
   "outputs": [
    {
     "name": "stdout",
     "output_type": "stream",
     "text": [
      "tensor([[[0, 0],\n",
      "         [0, 0],\n",
      "         [0, 0]],\n",
      "\n",
      "        [[0, 0],\n",
      "         [0, 0],\n",
      "         [0, 0]]], dtype=torch.int32)\n",
      "torch.int32\n"
     ]
    }
   ],
   "source": [
    "tensor = torch.zeros([2,3,2], dtype=torch.int32) # создает матрицу 0, тип int32\n",
    "print(tensor)\n",
    "print(tensor.dtype)"
   ]
  },
  {
   "cell_type": "code",
   "execution_count": null,
   "metadata": {
    "colab": {
     "base_uri": "https://localhost:8080/"
    },
    "executionInfo": {
     "elapsed": 311,
     "status": "ok",
     "timestamp": 1732276905302,
     "user": {
      "displayName": "Виталий Павлов",
      "userId": "11648481872593380875"
     },
     "user_tz": -180
    },
    "id": "5TPi7_gnvxyv",
    "outputId": "26075650-bddc-4f17-cccc-ed5dd91cde84"
   },
   "outputs": [
    {
     "name": "stdout",
     "output_type": "stream",
     "text": [
      "tensor([[[1., 1.],\n",
      "         [1., 1.],\n",
      "         [1., 1.]],\n",
      "\n",
      "        [[1., 1.],\n",
      "         [1., 1.],\n",
      "         [1., 1.]]])\n",
      "torch.float32\n"
     ]
    }
   ],
   "source": [
    "tensor = torch.ones([2,3,2]) # создает матрицу 1, тип float32\n",
    "print(tensor)\n",
    "print(tensor.dtype)"
   ]
  },
  {
   "cell_type": "code",
   "execution_count": null,
   "metadata": {
    "colab": {
     "base_uri": "https://localhost:8080/"
    },
    "executionInfo": {
     "elapsed": 290,
     "status": "ok",
     "timestamp": 1732276996849,
     "user": {
      "displayName": "Виталий Павлов",
      "userId": "11648481872593380875"
     },
     "user_tz": -180
    },
    "id": "q6NOLAWOv7dU",
    "outputId": "85a2712b-987c-41ca-ebe7-38a4cab557b0"
   },
   "outputs": [
    {
     "name": "stdout",
     "output_type": "stream",
     "text": [
      "tensor([[[0., 0.],\n",
      "         [0., 0.],\n",
      "         [0., 0.]],\n",
      "\n",
      "        [[0., 0.],\n",
      "         [0., 0.],\n",
      "         [0., 0.]]])\n",
      "torch.float32\n"
     ]
    }
   ],
   "source": [
    "tensor = torch.zeros_like(tensor) # вернет тензор такого же размера, из нулей\n",
    "print(tensor)\n",
    "print(tensor.dtype)"
   ]
  },
  {
   "cell_type": "code",
   "execution_count": null,
   "metadata": {
    "colab": {
     "base_uri": "https://localhost:8080/"
    },
    "executionInfo": {
     "elapsed": 364,
     "status": "ok",
     "timestamp": 1732277059311,
     "user": {
      "displayName": "Виталий Павлов",
      "userId": "11648481872593380875"
     },
     "user_tz": -180
    },
    "id": "NCZvOkrWwNyS",
    "outputId": "7f85487d-4c61-450c-c367-771bd8d7f903"
   },
   "outputs": [
    {
     "name": "stdout",
     "output_type": "stream",
     "text": [
      "tensor([[[6., 6.],\n",
      "         [6., 6.],\n",
      "         [6., 6.]],\n",
      "\n",
      "        [[6., 6.],\n",
      "         [6., 6.],\n",
      "         [6., 6.]]])\n",
      "torch.float32\n"
     ]
    }
   ],
   "source": [
    "tensor = torch.full_like(tensor, 6) # вернет такой же тензор. заполненный указанными значениями\n",
    "print(tensor)\n",
    "print(tensor.dtype)"
   ]
  },
  {
   "cell_type": "code",
   "execution_count": null,
   "metadata": {
    "colab": {
     "base_uri": "https://localhost:8080/"
    },
    "executionInfo": {
     "elapsed": 271,
     "status": "ok",
     "timestamp": 1732277244335,
     "user": {
      "displayName": "Виталий Павлов",
      "userId": "11648481872593380875"
     },
     "user_tz": -180
    },
    "id": "56CnFtowwfUO",
    "outputId": "813a968f-b270-4e91-c5d9-4123e4cae081"
   },
   "outputs": [
    {
     "data": {
      "text/plain": [
       "tensor([2.0000, 2.5000, 3.0000, 3.5000, 4.0000, 4.5000, 5.0000, 5.5000, 6.0000,\n",
       "        6.5000, 7.0000, 7.5000, 8.0000, 8.5000, 9.0000, 9.5000])"
      ]
     },
     "execution_count": 33,
     "metadata": {},
     "output_type": "execute_result"
    }
   ],
   "source": [
    "torch.arange(2, 10, 0.5)"
   ]
  },
  {
   "cell_type": "code",
   "execution_count": null,
   "metadata": {
    "colab": {
     "base_uri": "https://localhost:8080/"
    },
    "executionInfo": {
     "elapsed": 273,
     "status": "ok",
     "timestamp": 1732277340415,
     "user": {
      "displayName": "Виталий Павлов",
      "userId": "11648481872593380875"
     },
     "user_tz": -180
    },
    "id": "elJQYOZbxQ8Z",
    "outputId": "684f6a07-8c1f-4362-9c53-4688074f18ab"
   },
   "outputs": [
    {
     "data": {
      "text/plain": [
       "tensor([[5, 0, 0],\n",
       "        [0, 8, 0],\n",
       "        [0, 0, 1]])"
      ]
     },
     "execution_count": 36,
     "metadata": {},
     "output_type": "execute_result"
    }
   ],
   "source": [
    "# диагональные матрицы\n",
    "torch.diag(torch.tensor([5,8,1]))"
   ]
  },
  {
   "cell_type": "code",
   "execution_count": null,
   "metadata": {
    "colab": {
     "base_uri": "https://localhost:8080/"
    },
    "executionInfo": {
     "elapsed": 272,
     "status": "ok",
     "timestamp": 1732277369779,
     "user": {
      "displayName": "Виталий Павлов",
      "userId": "11648481872593380875"
     },
     "user_tz": -180
    },
    "id": "u7A028FIxipo",
    "outputId": "49548ba2-0074-4afe-c0a4-9a2a890f08bc"
   },
   "outputs": [
    {
     "data": {
      "text/plain": [
       "tensor([[1., 0., 0., 0., 0.],\n",
       "        [0., 1., 0., 0., 0.],\n",
       "        [0., 0., 1., 0., 0.],\n",
       "        [0., 0., 0., 1., 0.],\n",
       "        [0., 0., 0., 0., 1.]])"
      ]
     },
     "execution_count": 37,
     "metadata": {},
     "output_type": "execute_result"
    }
   ],
   "source": [
    "# единичные\n",
    "torch.eye(5)"
   ]
  },
  {
   "cell_type": "code",
   "execution_count": null,
   "metadata": {
    "colab": {
     "base_uri": "https://localhost:8080/"
    },
    "executionInfo": {
     "elapsed": 264,
     "status": "ok",
     "timestamp": 1732277438571,
     "user": {
      "displayName": "Виталий Павлов",
      "userId": "11648481872593380875"
     },
     "user_tz": -180
    },
    "id": "y7fEuKlCxvkx",
    "outputId": "349522dc-8019-4596-9012-7f0629849e0a"
   },
   "outputs": [
    {
     "data": {
      "text/plain": [
       "tensor([[1, 0, 0],\n",
       "        [4, 5, 0],\n",
       "        [7, 8, 9]])"
      ]
     },
     "execution_count": 38,
     "metadata": {},
     "output_type": "execute_result"
    }
   ],
   "source": [
    "# нижнетреугольные\n",
    "torch.tril(torch.tensor([[1,2,3],[4,5,6],[7,8,9]]))"
   ]
  },
  {
   "cell_type": "code",
   "execution_count": null,
   "metadata": {
    "colab": {
     "base_uri": "https://localhost:8080/"
    },
    "executionInfo": {
     "elapsed": 281,
     "status": "ok",
     "timestamp": 1732278475877,
     "user": {
      "displayName": "Виталий Павлов",
      "userId": "11648481872593380875"
     },
     "user_tz": -180
    },
    "id": "nu7ntZkhyAXx",
    "outputId": "cccc59e3-aeaf-4fcd-d9d4-588c7d20ecc4"
   },
   "outputs": [
    {
     "name": "stdout",
     "output_type": "stream",
     "text": [
      "tensor([1, 2, 3, 4])\n",
      "tensor([[1],\n",
      "        [2],\n",
      "        [3],\n",
      "        [4]])\n",
      "tensor([[1, 2],\n",
      "        [3, 4]])\n"
     ]
    }
   ],
   "source": [
    "# Изменение формы тензора\n",
    "tensor = torch.tensor([1,2,3,4]) # --> tensor([1, 2, 3, 4])\n",
    "print(tensor)\n",
    "\n",
    "tensor_1 = tensor.view([4,1])\n",
    "print(tensor_1)\n",
    "\n",
    "tensor_2 = tensor.reshape([2,2])\n",
    "print(tensor_2)"
   ]
  },
  {
   "cell_type": "code",
   "execution_count": null,
   "metadata": {
    "colab": {
     "base_uri": "https://localhost:8080/"
    },
    "executionInfo": {
     "elapsed": 266,
     "status": "ok",
     "timestamp": 1732278477509,
     "user": {
      "displayName": "Виталий Павлов",
      "userId": "11648481872593380875"
     },
     "user_tz": -180
    },
    "id": "Ox6PbyiEzajQ",
    "outputId": "39ad6384-e990-4058-d812-8e5c702760d0"
   },
   "outputs": [
    {
     "name": "stdout",
     "output_type": "stream",
     "text": [
      "tensor([1, 2, 3, 4])\n",
      "torch.Size([4])\n",
      "tensor([[1, 2, 3, 4]])\n",
      "torch.Size([1, 4])\n"
     ]
    }
   ],
   "source": [
    "# добавление осей, например для первоначальной инициализации весов\n",
    "print(tensor)\n",
    "print(tensor.shape)\n",
    "\n",
    "tensor = torch.unsqueeze(tensor, 0)\n",
    "\n",
    "print(tensor)\n",
    "print(tensor.shape)"
   ]
  },
  {
   "cell_type": "code",
   "execution_count": null,
   "metadata": {
    "colab": {
     "base_uri": "https://localhost:8080/",
     "height": 176
    },
    "executionInfo": {
     "elapsed": 271,
     "status": "error",
     "timestamp": 1732279715105,
     "user": {
      "displayName": "Виталий Павлов",
      "userId": "11648481872593380875"
     },
     "user_tz": -180
    },
    "id": "erRWCN3T1hLO",
    "outputId": "8515ac10-9dd0-4003-a85c-43ef52e3bacb"
   },
   "outputs": [
    {
     "ename": "TypeError",
     "evalue": "unsupported operand type(s) for +: 'Tensor' and 'list'",
     "output_type": "error",
     "traceback": [
      "\u001b[0;31m---------------------------------------------------------------------------\u001b[0m",
      "\u001b[0;31mTypeError\u001b[0m                                 Traceback (most recent call last)",
      "\u001b[0;32m<ipython-input-57-7ecca17e4746>\u001b[0m in \u001b[0;36m<cell line: 8>\u001b[0;34m()\u001b[0m\n\u001b[1;32m      6\u001b[0m \u001b[0;31m# tensor * 5 # вернет --> tensor([ 5., 10., 15., 20., 25., 30.])\u001b[0m\u001b[0;34m\u001b[0m\u001b[0;34m\u001b[0m\u001b[0m\n\u001b[1;32m      7\u001b[0m \u001b[0;31m# tensor + torch.tensor([1,2,3,4,5,6]) # вернет --> tensor([ 2.,  4.,  6.,  8., 10., 12.])\u001b[0m\u001b[0;34m\u001b[0m\u001b[0;34m\u001b[0m\u001b[0m\n\u001b[0;32m----> 8\u001b[0;31m \u001b[0mtensor\u001b[0m \u001b[0;34m+\u001b[0m \u001b[0;34m[\u001b[0m\u001b[0;36m1\u001b[0m\u001b[0;34m,\u001b[0m\u001b[0;36m2\u001b[0m\u001b[0;34m,\u001b[0m\u001b[0;36m3\u001b[0m\u001b[0;34m,\u001b[0m\u001b[0;36m4\u001b[0m\u001b[0;34m,\u001b[0m\u001b[0;36m5\u001b[0m\u001b[0;34m,\u001b[0m\u001b[0;36m6\u001b[0m\u001b[0;34m]\u001b[0m\u001b[0;34m\u001b[0m\u001b[0;34m\u001b[0m\u001b[0m\n\u001b[0m",
      "\u001b[0;31mTypeError\u001b[0m: unsupported operand type(s) for +: 'Tensor' and 'list'"
     ]
    }
   ],
   "source": [
    "# арифметические операции\n",
    "tensor = torch.tensor([1,2,3,4,5,6],\n",
    "                      dtype=torch.float32\n",
    "                      )\n",
    "\n",
    "# tensor * 5 # вернет --> tensor([ 5., 10., 15., 20., 25., 30.])\n",
    "# tensor + torch.tensor([1,2,3,4,5,6]) # вернет --> tensor([ 2.,  4.,  6.,  8., 10., 12.])\n",
    "# tensor + [1,2,3,4,5,6] # вернет --> TypeError: unsupported operand type(s) for +: 'Tensor' and 'list'"
   ]
  },
  {
   "cell_type": "code",
   "execution_count": null,
   "metadata": {
    "colab": {
     "base_uri": "https://localhost:8080/"
    },
    "executionInfo": {
     "elapsed": 277,
     "status": "ok",
     "timestamp": 1732280331231,
     "user": {
      "displayName": "Виталий Павлов",
      "userId": "11648481872593380875"
     },
     "user_tz": -180
    },
    "id": "_Da7aq_J2LqU",
    "outputId": "0f552ef0-542d-4521-9e60-889638b0ce95"
   },
   "outputs": [
    {
     "name": "stdout",
     "output_type": "stream",
     "text": [
      "tensor([[1., 2., 3.],\n",
      "        [4., 5., 6.]])\n",
      "\n",
      "tensor([2., 5.])\n",
      "torch.Size([2])\n"
     ]
    }
   ],
   "source": [
    "# математические операции\n",
    "tensor = torch.tensor([1,2,3,4,5,6],\n",
    "                      dtype=torch.float32\n",
    "                      )\n",
    "# tensor.sum()  # вернет --> tensor(21.)\n",
    "# tensor.mean() # вернет --> tensor(3.5000)\n",
    "\n",
    "# подсчитаем средний значения по осям тензора\n",
    "tensor = tensor.view([2,3])\n",
    "\n",
    "tensor_mean = tensor.mean(dim = 1,\n",
    "                          # keepdim=True\n",
    "                          )\n",
    "print(tensor, end='\\n\\n')\n",
    "print(tensor_mean)\n",
    "print(tensor_mean.shape)\n"
   ]
  },
  {
   "cell_type": "markdown",
   "metadata": {
    "id": "ErifMAxD9Qxc"
   },
   "source": [
    "### Особенности PyTorch"
   ]
  },
  {
   "cell_type": "code",
   "execution_count": null,
   "metadata": {
    "colab": {
     "base_uri": "https://localhost:8080/"
    },
    "executionInfo": {
     "elapsed": 250,
     "status": "ok",
     "timestamp": 1732280522810,
     "user": {
      "displayName": "Виталий Павлов",
      "userId": "11648481872593380875"
     },
     "user_tz": -180
    },
    "id": "qHFtlC3P62Y5",
    "outputId": "8e7b134d-d9a8-4e13-d90d-a331f3e0b162"
   },
   "outputs": [
    {
     "name": "stdout",
     "output_type": "stream",
     "text": [
      "True\n",
      "True\n"
     ]
    }
   ],
   "source": [
    "# CPU or GPU\n",
    "print(torch.cpu.is_available())\n",
    "print(torch.cuda.is_available())"
   ]
  },
  {
   "cell_type": "code",
   "execution_count": null,
   "metadata": {
    "colab": {
     "base_uri": "https://localhost:8080/"
    },
    "executionInfo": {
     "elapsed": 265,
     "status": "ok",
     "timestamp": 1732280573481,
     "user": {
      "displayName": "Виталий Павлов",
      "userId": "11648481872593380875"
     },
     "user_tz": -180
    },
    "id": "25J0X4Zn9taL",
    "outputId": "99e373a6-933c-4966-f580-0e0ae32e104b"
   },
   "outputs": [
    {
     "data": {
      "text/plain": [
       "tensor([1., 2., 3.], requires_grad=True)"
      ]
     },
     "execution_count": 69,
     "metadata": {},
     "output_type": "execute_result"
    }
   ],
   "source": [
    "tensor = torch.tensor([1.,2.,3.], requires_grad=True)\n",
    "tensor"
   ]
  },
  {
   "cell_type": "code",
   "execution_count": null,
   "metadata": {
    "colab": {
     "base_uri": "https://localhost:8080/"
    },
    "executionInfo": {
     "elapsed": 546,
     "status": "ok",
     "timestamp": 1732280693833,
     "user": {
      "displayName": "Виталий Павлов",
      "userId": "11648481872593380875"
     },
     "user_tz": -180
    },
    "id": "Ly05s0_b98Fc",
    "outputId": "e5d2a76d-1f62-4c62-8069-48eee31d76c9"
   },
   "outputs": [
    {
     "data": {
      "text/plain": [
       "tensor([1., 2., 3.], device='cuda:0', grad_fn=<ToCopyBackward0>)"
      ]
     },
     "execution_count": 75,
     "metadata": {},
     "output_type": "execute_result"
    }
   ],
   "source": [
    "# тензор по умолчанию создается на cpu\n",
    "# это метод, чтобы просто его перевести на cpu\n",
    "tensor = tensor.cpu()\n",
    "tensor = tensor.to('cpu')\n",
    "tensor\n",
    "\n",
    "# перевод на gpu\n",
    "tensor = tensor.cuda()\n",
    "tensor = tensor.to('cuda')\n",
    "tensor # --> tensor([1., 2., 3.], device='cuda:0', grad_fn=<ToCopyBackward0>)"
   ]
  },
  {
   "cell_type": "code",
   "execution_count": null,
   "metadata": {
    "id": "JtP6oeq7-BB8"
   },
   "outputs": [],
   "source": [
    "# удобный способ по выбору устройства для тензоров\n",
    "device = 'cuda' if torch.cuda.is_available() else 'cpu'\n",
    "\n",
    "tensor = tensor.to(device)"
   ]
  },
  {
   "cell_type": "code",
   "execution_count": null,
   "metadata": {
    "colab": {
     "base_uri": "https://localhost:8080/"
    },
    "executionInfo": {
     "elapsed": 274,
     "status": "ok",
     "timestamp": 1732280848170,
     "user": {
      "displayName": "Виталий Павлов",
      "userId": "11648481872593380875"
     },
     "user_tz": -180
    },
    "id": "xMuuasyk-_Ee",
    "outputId": "2a2e6b49-96f8-4280-b35c-f9118fea6761"
   },
   "outputs": [
    {
     "data": {
      "text/plain": [
       "device(type='cuda', index=0)"
      ]
     },
     "execution_count": 77,
     "metadata": {},
     "output_type": "execute_result"
    }
   ],
   "source": [
    "# проверка, где находится тензор\n",
    "tensor.device"
   ]
  },
  {
   "cell_type": "code",
   "execution_count": null,
   "metadata": {
    "colab": {
     "base_uri": "https://localhost:8080/"
    },
    "executionInfo": {
     "elapsed": 5,
     "status": "ok",
     "timestamp": 1732281061159,
     "user": {
      "displayName": "Виталий Павлов",
      "userId": "11648481872593380875"
     },
     "user_tz": -180
    },
    "id": "uLcAbh7s_Asd",
    "outputId": "328b250c-6950-47fc-8bb3-ed5c46be343f"
   },
   "outputs": [
    {
     "data": {
      "text/plain": [
       "device(type='cpu')"
      ]
     },
     "execution_count": 79,
     "metadata": {},
     "output_type": "execute_result"
    }
   ],
   "source": [
    "tensor_1 = torch.tensor([1.,2.,3.]).to('cpu')\n",
    "tensor_1.device"
   ]
  },
  {
   "cell_type": "code",
   "execution_count": null,
   "metadata": {
    "colab": {
     "base_uri": "https://localhost:8080/",
     "height": 176
    },
    "executionInfo": {
     "elapsed": 259,
     "status": "error",
     "timestamp": 1732281086494,
     "user": {
      "displayName": "Виталий Павлов",
      "userId": "11648481872593380875"
     },
     "user_tz": -180
    },
    "id": "P2C2cw0q_r89",
    "outputId": "3e48baa9-6a52-46c6-9957-f26b83e18c92"
   },
   "outputs": [
    {
     "ename": "RuntimeError",
     "evalue": "Expected all tensors to be on the same device, but found at least two devices, cuda:0 and cpu!",
     "output_type": "error",
     "traceback": [
      "\u001b[0;31m---------------------------------------------------------------------------\u001b[0m",
      "\u001b[0;31mRuntimeError\u001b[0m                              Traceback (most recent call last)",
      "\u001b[0;32m<ipython-input-80-e0f94710aa86>\u001b[0m in \u001b[0;36m<cell line: 2>\u001b[0;34m()\u001b[0m\n\u001b[1;32m      1\u001b[0m \u001b[0;31m# теперь попробуем тензор на GPU сложить с тензором на CPU\u001b[0m\u001b[0;34m\u001b[0m\u001b[0;34m\u001b[0m\u001b[0m\n\u001b[0;32m----> 2\u001b[0;31m \u001b[0msum_tensor\u001b[0m \u001b[0;34m=\u001b[0m \u001b[0mtensor\u001b[0m \u001b[0;34m+\u001b[0m \u001b[0mtensor_1\u001b[0m\u001b[0;34m\u001b[0m\u001b[0;34m\u001b[0m\u001b[0m\n\u001b[0m\u001b[1;32m      3\u001b[0m \u001b[0msum_tensor\u001b[0m\u001b[0;34m\u001b[0m\u001b[0;34m\u001b[0m\u001b[0m\n",
      "\u001b[0;31mRuntimeError\u001b[0m: Expected all tensors to be on the same device, but found at least two devices, cuda:0 and cpu!"
     ]
    }
   ],
   "source": [
    "# теперь попробуем тензор на GPU сложить с тензором на CPU\n",
    "sum_tensor = tensor + tensor_1\n",
    "sum_tensor"
   ]
  },
  {
   "cell_type": "code",
   "execution_count": null,
   "metadata": {
    "colab": {
     "base_uri": "https://localhost:8080/"
    },
    "executionInfo": {
     "elapsed": 282,
     "status": "ok",
     "timestamp": 1732281148746,
     "user": {
      "displayName": "Виталий Павлов",
      "userId": "11648481872593380875"
     },
     "user_tz": -180
    },
    "id": "-gIgn6UY_6-x",
    "outputId": "5f129037-ca87-4ea7-e0e3-bad393caf2d7"
   },
   "outputs": [
    {
     "data": {
      "text/plain": [
       "tensor([2., 4., 6.], device='cuda:0', grad_fn=<AddBackward0>)"
      ]
     },
     "execution_count": 82,
     "metadata": {},
     "output_type": "execute_result"
    }
   ],
   "source": [
    "# чтобы сложить тензоры. необходимо второй перевести на GPU\n",
    "tensor_1 = tensor_1.to(device)\n",
    "sum_tensor = tensor + tensor_1\n",
    "sum_tensor"
   ]
  },
  {
   "cell_type": "code",
   "execution_count": null,
   "metadata": {
    "colab": {
     "base_uri": "https://localhost:8080/"
    },
    "executionInfo": {
     "elapsed": 274,
     "status": "ok",
     "timestamp": 1732281367802,
     "user": {
      "displayName": "Виталий Павлов",
      "userId": "11648481872593380875"
     },
     "user_tz": -180
    },
    "id": "c8hhX_MjAE09",
    "outputId": "2108810f-6156-44d7-da8b-fab1c604a59e"
   },
   "outputs": [
    {
     "data": {
      "text/plain": [
       "tensor([2., 4., 6.])"
      ]
     },
     "execution_count": 88,
     "metadata": {},
     "output_type": "execute_result"
    }
   ],
   "source": [
    "# sum_tensor = sum_tensor.to('cpu') # --> tensor([2., 4., 6.], grad_fn=<ToCopyBackward0>)\n",
    "sum_tensor = sum_tensor.cpu().detach()\n",
    "sum_tensor"
   ]
  }
 ],
 "metadata": {
  "accelerator": "GPU",
  "colab": {
   "authorship_tag": "ABX9TyO0KpYSd1w8J1RQEd+6sCXp",
   "gpuType": "T4",
   "provenance": []
  },
  "kernelspec": {
   "display_name": "Python 3 (ipykernel)",
   "language": "python",
   "name": "python3"
  },
  "language_info": {
   "codemirror_mode": {
    "name": "ipython",
    "version": 3
   },
   "file_extension": ".py",
   "mimetype": "text/x-python",
   "name": "python",
   "nbconvert_exporter": "python",
   "pygments_lexer": "ipython3",
   "version": "3.12.3"
  }
 },
 "nbformat": 4,
 "nbformat_minor": 4
}
