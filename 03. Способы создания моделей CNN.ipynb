{
 "cells": [
  {
   "cell_type": "markdown",
   "metadata": {
    "id": "ZV7NdGhB9e7V"
   },
   "source": [
    "### Imports"
   ]
  },
  {
   "cell_type": "code",
   "execution_count": 1,
   "metadata": {
    "executionInfo": {
     "elapsed": 7359,
     "status": "ok",
     "timestamp": 1733136127385,
     "user": {
      "displayName": "Виталий Павлов",
      "userId": "11648481872593380875"
     },
     "user_tz": -180
    },
    "id": "--yrTQn99h5V"
   },
   "outputs": [],
   "source": [
    "import torch\n",
    "import torch.nn as nn"
   ]
  },
  {
   "cell_type": "markdown",
   "metadata": {
    "id": "sZKH6ngS687T"
   },
   "source": [
    "### Последовательная модель"
   ]
  },
  {
   "cell_type": "markdown",
   "metadata": {
    "id": "asOKHOUsBUcJ"
   },
   "source": [
    "#### Первый способ"
   ]
  },
  {
   "cell_type": "code",
   "execution_count": 3,
   "metadata": {
    "executionInfo": {
     "elapsed": 470,
     "status": "ok",
     "timestamp": 1733136207426,
     "user": {
      "displayName": "Виталий Павлов",
      "userId": "11648481872593380875"
     },
     "user_tz": -180
    },
    "id": "TfWvgWCA9elS"
   },
   "outputs": [],
   "source": [
    "# объявим базовую модель\n",
    "model = nn.Sequential(\n",
    "            nn.Linear(784, 128),\n",
    "            nn.ReLU(),\n",
    "            nn.Linear(128, 10)\n",
    "        )"
   ]
  },
  {
   "cell_type": "code",
   "execution_count": 4,
   "metadata": {
    "colab": {
     "base_uri": "https://localhost:8080/"
    },
    "executionInfo": {
     "elapsed": 5,
     "status": "ok",
     "timestamp": 1733136214114,
     "user": {
      "displayName": "Виталий Павлов",
      "userId": "11648481872593380875"
     },
     "user_tz": -180
    },
    "id": "-eqim0d799uD",
    "outputId": "68a8df59-ccb0-41b0-88a9-6a23b4752207"
   },
   "outputs": [
    {
     "data": {
      "text/plain": [
       "Sequential(\n",
       "  (0): Linear(in_features=784, out_features=128, bias=True)\n",
       "  (1): ReLU()\n",
       "  (2): Linear(in_features=128, out_features=10, bias=True)\n",
       ")"
      ]
     },
     "execution_count": 4,
     "metadata": {},
     "output_type": "execute_result"
    }
   ],
   "source": [
    "# посмотрим на модель\n",
    "model"
   ]
  },
  {
   "cell_type": "code",
   "execution_count": 5,
   "metadata": {
    "colab": {
     "base_uri": "https://localhost:8080/"
    },
    "executionInfo": {
     "elapsed": 381,
     "status": "ok",
     "timestamp": 1733136292995,
     "user": {
      "displayName": "Виталий Павлов",
      "userId": "11648481872593380875"
     },
     "user_tz": -180
    },
    "id": "jmvDTTAE9_Bq",
    "outputId": "19c57dee-ee56-4239-b7b6-12d847f432d7"
   },
   "outputs": [
    {
     "data": {
      "text/plain": [
       "torch.Size([16, 10])"
      ]
     },
     "execution_count": 5,
     "metadata": {},
     "output_type": "execute_result"
    }
   ],
   "source": [
    "# проверим модель\n",
    "# создадим тензор 16х784. 16 имитирует размер батча\n",
    "input = torch.rand([16, 784], dtype=torch.float32)\n",
    "\n",
    "out = model(input)\n",
    "out.shape    # (16,10)"
   ]
  },
  {
   "cell_type": "markdown",
   "metadata": {
    "id": "uRW9eIDS-j2e"
   },
   "source": [
    "#### Рассмотрим некоторые методы модели, которыми будем пользоваться в дальшейнем"
   ]
  },
  {
   "cell_type": "code",
   "execution_count": 7,
   "metadata": {
    "colab": {
     "base_uri": "https://localhost:8080/"
    },
    "executionInfo": {
     "elapsed": 367,
     "status": "ok",
     "timestamp": 1733136678028,
     "user": {
      "displayName": "Виталий Павлов",
      "userId": "11648481872593380875"
     },
     "user_tz": -180
    },
    "id": "7acegZbD-qNs",
    "outputId": "f71f6365-cd2e-4e06-8a7c-b67e48729f37"
   },
   "outputs": [
    {
     "data": {
      "text/plain": [
       "OrderedDict([('0.weight',\n",
       "              tensor([[ 1.9227e-02, -1.7696e-02,  8.0754e-03,  ..., -1.7146e-02,\n",
       "                       -2.1296e-05, -3.2841e-02],\n",
       "                      [ 1.5663e-02, -8.0799e-03,  1.5257e-02,  ...,  1.1218e-03,\n",
       "                       -3.2033e-02,  2.9945e-03],\n",
       "                      [-5.8664e-03, -2.6101e-03,  2.9895e-02,  ..., -3.2090e-02,\n",
       "                        2.6595e-03, -1.7147e-02],\n",
       "                      ...,\n",
       "                      [ 5.5547e-03, -2.8772e-02,  2.7064e-02,  ..., -2.3405e-02,\n",
       "                       -3.4416e-02, -1.3128e-03],\n",
       "                      [-2.0327e-02,  1.6203e-02, -2.6216e-02,  ...,  2.4770e-02,\n",
       "                       -3.2999e-02,  3.9255e-03],\n",
       "                      [ 2.6167e-02, -2.9423e-02, -9.0841e-03,  ...,  2.9651e-02,\n",
       "                        2.8608e-02, -1.1144e-04]])),\n",
       "             ('0.bias',\n",
       "              tensor([ 0.0142, -0.0348,  0.0108, -0.0056, -0.0129, -0.0316,  0.0201, -0.0350,\n",
       "                       0.0256,  0.0046, -0.0133,  0.0133, -0.0009,  0.0262, -0.0015,  0.0059,\n",
       "                       0.0129,  0.0100, -0.0086,  0.0291, -0.0314,  0.0137,  0.0162, -0.0297,\n",
       "                       0.0163, -0.0122, -0.0213,  0.0346,  0.0299,  0.0023, -0.0246,  0.0353,\n",
       "                       0.0162,  0.0172,  0.0147, -0.0109,  0.0003,  0.0004, -0.0073,  0.0016,\n",
       "                       0.0278,  0.0300, -0.0263, -0.0098,  0.0114,  0.0168,  0.0205,  0.0164,\n",
       "                      -0.0077, -0.0261,  0.0263, -0.0352, -0.0089, -0.0123, -0.0175, -0.0262,\n",
       "                       0.0023, -0.0119, -0.0198,  0.0091,  0.0041,  0.0060, -0.0279,  0.0149,\n",
       "                      -0.0140,  0.0111, -0.0022,  0.0308,  0.0214, -0.0345,  0.0246, -0.0161,\n",
       "                      -0.0297, -0.0136,  0.0244, -0.0309, -0.0050, -0.0120,  0.0198, -0.0075,\n",
       "                       0.0091, -0.0335,  0.0047,  0.0205,  0.0024, -0.0217, -0.0332, -0.0303,\n",
       "                       0.0293, -0.0094, -0.0290,  0.0140, -0.0152, -0.0174, -0.0335, -0.0346,\n",
       "                      -0.0312, -0.0278,  0.0210, -0.0196, -0.0013,  0.0077,  0.0185, -0.0216,\n",
       "                       0.0022,  0.0203, -0.0327, -0.0123,  0.0348, -0.0192, -0.0023, -0.0202,\n",
       "                      -0.0027,  0.0225,  0.0101, -0.0010,  0.0191, -0.0027,  0.0153, -0.0285,\n",
       "                       0.0216, -0.0110,  0.0234,  0.0144, -0.0048,  0.0312, -0.0030,  0.0013])),\n",
       "             ('2.weight',\n",
       "              tensor([[ 0.0014, -0.0363,  0.0398,  ..., -0.0199, -0.0303, -0.0665],\n",
       "                      [ 0.0672,  0.0227,  0.0250,  ..., -0.0773, -0.0553,  0.0748],\n",
       "                      [ 0.0563, -0.0706,  0.0076,  ...,  0.0464,  0.0403, -0.0875],\n",
       "                      ...,\n",
       "                      [-0.0876, -0.0310,  0.0137,  ...,  0.0184,  0.0810,  0.0655],\n",
       "                      [-0.0733,  0.0660, -0.0259,  ..., -0.0114, -0.0250, -0.0467],\n",
       "                      [-0.0266, -0.0778,  0.0286,  ...,  0.0530,  0.0737,  0.0073]])),\n",
       "             ('2.bias',\n",
       "              tensor([ 0.0423,  0.0630, -0.0021,  0.0168, -0.0455,  0.0004,  0.0836, -0.0293,\n",
       "                      -0.0351, -0.0641]))])"
      ]
     },
     "execution_count": 7,
     "metadata": {},
     "output_type": "execute_result"
    }
   ],
   "source": [
    "# возвращает ссылку на состояние модели\n",
    "# все данные в нем в виде словаря\n",
    "# содержит все параметры модели по слоям\n",
    "model.state_dict()"
   ]
  },
  {
   "cell_type": "code",
   "execution_count": 10,
   "metadata": {
    "colab": {
     "base_uri": "https://localhost:8080/"
    },
    "executionInfo": {
     "elapsed": 365,
     "status": "ok",
     "timestamp": 1733136700598,
     "user": {
      "displayName": "Виталий Павлов",
      "userId": "11648481872593380875"
     },
     "user_tz": -180
    },
    "id": "aNM56E8G_wRe",
    "outputId": "25f96773-837a-4040-e82e-e6e4d9527cc7"
   },
   "outputs": [
    {
     "data": {
      "text/plain": [
       "tensor([[ 1.9227e-02, -1.7696e-02,  8.0754e-03,  ..., -1.7146e-02,\n",
       "         -2.1296e-05, -3.2841e-02],\n",
       "        [ 1.5663e-02, -8.0799e-03,  1.5257e-02,  ...,  1.1218e-03,\n",
       "         -3.2033e-02,  2.9945e-03],\n",
       "        [-5.8664e-03, -2.6101e-03,  2.9895e-02,  ..., -3.2090e-02,\n",
       "          2.6595e-03, -1.7147e-02],\n",
       "        ...,\n",
       "        [ 5.5547e-03, -2.8772e-02,  2.7064e-02,  ..., -2.3405e-02,\n",
       "         -3.4416e-02, -1.3128e-03],\n",
       "        [-2.0327e-02,  1.6203e-02, -2.6216e-02,  ...,  2.4770e-02,\n",
       "         -3.2999e-02,  3.9255e-03],\n",
       "        [ 2.6167e-02, -2.9423e-02, -9.0841e-03,  ...,  2.9651e-02,\n",
       "          2.8608e-02, -1.1144e-04]])"
      ]
     },
     "execution_count": 10,
     "metadata": {},
     "output_type": "execute_result"
    }
   ],
   "source": [
    "# т.к. .state_dict() - словарь, мы можем получать значения по ключу\n",
    "\n",
    "# весовые коэффициенты для первого линейного слоя\n",
    "model.state_dict()['0.weight']"
   ]
  },
  {
   "cell_type": "code",
   "execution_count": 11,
   "metadata": {
    "colab": {
     "base_uri": "https://localhost:8080/"
    },
    "executionInfo": {
     "elapsed": 370,
     "status": "ok",
     "timestamp": 1733136707653,
     "user": {
      "displayName": "Виталий Павлов",
      "userId": "11648481872593380875"
     },
     "user_tz": -180
    },
    "id": "YdrNjPKO_1Fl",
    "outputId": "a5f187c6-5d05-4ecd-a124-022a121e1f1b"
   },
   "outputs": [
    {
     "data": {
      "text/plain": [
       "tensor([ 0.0142, -0.0348,  0.0108, -0.0056, -0.0129, -0.0316,  0.0201, -0.0350,\n",
       "         0.0256,  0.0046, -0.0133,  0.0133, -0.0009,  0.0262, -0.0015,  0.0059,\n",
       "         0.0129,  0.0100, -0.0086,  0.0291, -0.0314,  0.0137,  0.0162, -0.0297,\n",
       "         0.0163, -0.0122, -0.0213,  0.0346,  0.0299,  0.0023, -0.0246,  0.0353,\n",
       "         0.0162,  0.0172,  0.0147, -0.0109,  0.0003,  0.0004, -0.0073,  0.0016,\n",
       "         0.0278,  0.0300, -0.0263, -0.0098,  0.0114,  0.0168,  0.0205,  0.0164,\n",
       "        -0.0077, -0.0261,  0.0263, -0.0352, -0.0089, -0.0123, -0.0175, -0.0262,\n",
       "         0.0023, -0.0119, -0.0198,  0.0091,  0.0041,  0.0060, -0.0279,  0.0149,\n",
       "        -0.0140,  0.0111, -0.0022,  0.0308,  0.0214, -0.0345,  0.0246, -0.0161,\n",
       "        -0.0297, -0.0136,  0.0244, -0.0309, -0.0050, -0.0120,  0.0198, -0.0075,\n",
       "         0.0091, -0.0335,  0.0047,  0.0205,  0.0024, -0.0217, -0.0332, -0.0303,\n",
       "         0.0293, -0.0094, -0.0290,  0.0140, -0.0152, -0.0174, -0.0335, -0.0346,\n",
       "        -0.0312, -0.0278,  0.0210, -0.0196, -0.0013,  0.0077,  0.0185, -0.0216,\n",
       "         0.0022,  0.0203, -0.0327, -0.0123,  0.0348, -0.0192, -0.0023, -0.0202,\n",
       "        -0.0027,  0.0225,  0.0101, -0.0010,  0.0191, -0.0027,  0.0153, -0.0285,\n",
       "         0.0216, -0.0110,  0.0234,  0.0144, -0.0048,  0.0312, -0.0030,  0.0013])"
      ]
     },
     "execution_count": 11,
     "metadata": {},
     "output_type": "execute_result"
    }
   ],
   "source": [
    "# весовые коэффициенты, относящиеся к байесу первого лин. слоя\n",
    "model.state_dict()['0.bias']"
   ]
  },
  {
   "cell_type": "code",
   "execution_count": 12,
   "metadata": {
    "colab": {
     "base_uri": "https://localhost:8080/"
    },
    "executionInfo": {
     "elapsed": 374,
     "status": "ok",
     "timestamp": 1733136803369,
     "user": {
      "displayName": "Виталий Павлов",
      "userId": "11648481872593380875"
     },
     "user_tz": -180
    },
    "id": "8JT-lwhm_2z_",
    "outputId": "fc6d5bef-7c62-4866-bc83-02b939dea170"
   },
   "outputs": [
    {
     "name": "stdout",
     "output_type": "stream",
     "text": [
      "Parameter containing:\n",
      "tensor([[ 1.9227e-02, -1.7696e-02,  8.0754e-03,  ..., -1.7146e-02,\n",
      "         -2.1296e-05, -3.2841e-02],\n",
      "        [ 1.5663e-02, -8.0799e-03,  1.5257e-02,  ...,  1.1218e-03,\n",
      "         -3.2033e-02,  2.9945e-03],\n",
      "        [-5.8664e-03, -2.6101e-03,  2.9895e-02,  ..., -3.2090e-02,\n",
      "          2.6595e-03, -1.7147e-02],\n",
      "        ...,\n",
      "        [ 5.5547e-03, -2.8772e-02,  2.7064e-02,  ..., -2.3405e-02,\n",
      "         -3.4416e-02, -1.3128e-03],\n",
      "        [-2.0327e-02,  1.6203e-02, -2.6216e-02,  ...,  2.4770e-02,\n",
      "         -3.2999e-02,  3.9255e-03],\n",
      "        [ 2.6167e-02, -2.9423e-02, -9.0841e-03,  ...,  2.9651e-02,\n",
      "          2.8608e-02, -1.1144e-04]], requires_grad=True)\n",
      "torch.Size([128, 784])\n",
      "\n",
      "Parameter containing:\n",
      "tensor([ 0.0142, -0.0348,  0.0108, -0.0056, -0.0129, -0.0316,  0.0201, -0.0350,\n",
      "         0.0256,  0.0046, -0.0133,  0.0133, -0.0009,  0.0262, -0.0015,  0.0059,\n",
      "         0.0129,  0.0100, -0.0086,  0.0291, -0.0314,  0.0137,  0.0162, -0.0297,\n",
      "         0.0163, -0.0122, -0.0213,  0.0346,  0.0299,  0.0023, -0.0246,  0.0353,\n",
      "         0.0162,  0.0172,  0.0147, -0.0109,  0.0003,  0.0004, -0.0073,  0.0016,\n",
      "         0.0278,  0.0300, -0.0263, -0.0098,  0.0114,  0.0168,  0.0205,  0.0164,\n",
      "        -0.0077, -0.0261,  0.0263, -0.0352, -0.0089, -0.0123, -0.0175, -0.0262,\n",
      "         0.0023, -0.0119, -0.0198,  0.0091,  0.0041,  0.0060, -0.0279,  0.0149,\n",
      "        -0.0140,  0.0111, -0.0022,  0.0308,  0.0214, -0.0345,  0.0246, -0.0161,\n",
      "        -0.0297, -0.0136,  0.0244, -0.0309, -0.0050, -0.0120,  0.0198, -0.0075,\n",
      "         0.0091, -0.0335,  0.0047,  0.0205,  0.0024, -0.0217, -0.0332, -0.0303,\n",
      "         0.0293, -0.0094, -0.0290,  0.0140, -0.0152, -0.0174, -0.0335, -0.0346,\n",
      "        -0.0312, -0.0278,  0.0210, -0.0196, -0.0013,  0.0077,  0.0185, -0.0216,\n",
      "         0.0022,  0.0203, -0.0327, -0.0123,  0.0348, -0.0192, -0.0023, -0.0202,\n",
      "        -0.0027,  0.0225,  0.0101, -0.0010,  0.0191, -0.0027,  0.0153, -0.0285,\n",
      "         0.0216, -0.0110,  0.0234,  0.0144, -0.0048,  0.0312, -0.0030,  0.0013],\n",
      "       requires_grad=True)\n",
      "torch.Size([128])\n",
      "\n",
      "Parameter containing:\n",
      "tensor([[ 0.0014, -0.0363,  0.0398,  ..., -0.0199, -0.0303, -0.0665],\n",
      "        [ 0.0672,  0.0227,  0.0250,  ..., -0.0773, -0.0553,  0.0748],\n",
      "        [ 0.0563, -0.0706,  0.0076,  ...,  0.0464,  0.0403, -0.0875],\n",
      "        ...,\n",
      "        [-0.0876, -0.0310,  0.0137,  ...,  0.0184,  0.0810,  0.0655],\n",
      "        [-0.0733,  0.0660, -0.0259,  ..., -0.0114, -0.0250, -0.0467],\n",
      "        [-0.0266, -0.0778,  0.0286,  ...,  0.0530,  0.0737,  0.0073]],\n",
      "       requires_grad=True)\n",
      "torch.Size([10, 128])\n",
      "\n",
      "Parameter containing:\n",
      "tensor([ 0.0423,  0.0630, -0.0021,  0.0168, -0.0455,  0.0004,  0.0836, -0.0293,\n",
      "        -0.0351, -0.0641], requires_grad=True)\n",
      "torch.Size([10])\n",
      "\n"
     ]
    }
   ],
   "source": [
    "# данный генератор возвращает все обуемые параметры модели\n",
    "\n",
    "for parameter in model.parameters():\n",
    "    print(parameter)\n",
    "    print(parameter.shape, end='\\n\\n')"
   ]
  },
  {
   "cell_type": "markdown",
   "metadata": {
    "id": "TA5cRPMMAw5L"
   },
   "source": [
    "Если model.train() и model.eval() не использовать, то ошибки не будет, но если модель содержит такие слои, как dropout и batchnorm, то работа модели будет отличаться при тренировки и валидации.\n",
    "\n",
    "Поэтому необходимо взять за правило всегда использовать данные методы при тренировке модели"
   ]
  },
  {
   "cell_type": "code",
   "execution_count": null,
   "metadata": {
    "id": "6LkYPCEPAOLP"
   },
   "outputs": [],
   "source": [
    "# model.train() - используется перед началом обучения модели\n",
    "# model.eval() - используется перед валидацией и тестированием"
   ]
  },
  {
   "cell_type": "markdown",
   "metadata": {
    "id": "bdObLWl0BZ3L"
   },
   "source": [
    "#### Второй способ"
   ]
  },
  {
   "cell_type": "markdown",
   "metadata": {
    "id": "Oosrm4JtE3ua"
   },
   "source": [
    "В данном слое слои добавляются последовательно и их наименования явные и добавляются в описание модели при ее вызове"
   ]
  },
  {
   "cell_type": "code",
   "execution_count": 14,
   "metadata": {
    "executionInfo": {
     "elapsed": 382,
     "status": "ok",
     "timestamp": 1733137237846,
     "user": {
      "displayName": "Виталий Павлов",
      "userId": "11648481872593380875"
     },
     "user_tz": -180
    },
    "id": "HO1KpEXHBb-h"
   },
   "outputs": [],
   "source": [
    "model = nn.Sequential()\n",
    "model.add_module('layer_1', nn.Linear(784, 128))\n",
    "model.add_module('relu', nn.ReLU())\n",
    "model.add_module('layer_2', nn.Linear(128, 10))"
   ]
  },
  {
   "cell_type": "code",
   "execution_count": 15,
   "metadata": {
    "colab": {
     "base_uri": "https://localhost:8080/"
    },
    "executionInfo": {
     "elapsed": 7,
     "status": "ok",
     "timestamp": 1733138043672,
     "user": {
      "displayName": "Виталий Павлов",
      "userId": "11648481872593380875"
     },
     "user_tz": -180
    },
    "id": "1hL-rqWhBb7v",
    "outputId": "3250c3be-3f04-46ac-f554-801b64d94cc4"
   },
   "outputs": [
    {
     "data": {
      "text/plain": [
       "Sequential(\n",
       "  (layer_1): Linear(in_features=784, out_features=128, bias=True)\n",
       "  (relu): ReLU()\n",
       "  (layer_2): Linear(in_features=128, out_features=10, bias=True)\n",
       ")"
      ]
     },
     "execution_count": 15,
     "metadata": {},
     "output_type": "execute_result"
    }
   ],
   "source": [
    "model"
   ]
  },
  {
   "cell_type": "code",
   "execution_count": 19,
   "metadata": {
    "colab": {
     "base_uri": "https://localhost:8080/"
    },
    "executionInfo": {
     "elapsed": 360,
     "status": "ok",
     "timestamp": 1733138114668,
     "user": {
      "displayName": "Виталий Павлов",
      "userId": "11648481872593380875"
     },
     "user_tz": -180
    },
    "id": "87uILJ-OFD3L",
    "outputId": "19e12d50-9905-4d57-d220-c312216cd776"
   },
   "outputs": [
    {
     "name": "stdout",
     "output_type": "stream",
     "text": [
      "Linear(in_features=784, out_features=128, bias=True)\n",
      "ReLU()\n",
      "Linear(in_features=128, out_features=10, bias=True)\n"
     ]
    }
   ],
   "source": [
    "print(model.layer_1)\n",
    "print(model.relu)\n",
    "print(model.layer_2)"
   ]
  },
  {
   "cell_type": "code",
   "execution_count": 20,
   "metadata": {
    "colab": {
     "base_uri": "https://localhost:8080/"
    },
    "executionInfo": {
     "elapsed": 367,
     "status": "ok",
     "timestamp": 1733138136835,
     "user": {
      "displayName": "Виталий Павлов",
      "userId": "11648481872593380875"
     },
     "user_tz": -180
    },
    "id": "5V5TEzqfBb4t",
    "outputId": "304566aa-4103-495f-b045-3d6c9a176391"
   },
   "outputs": [
    {
     "data": {
      "text/plain": [
       "torch.Size([16, 10])"
      ]
     },
     "execution_count": 20,
     "metadata": {},
     "output_type": "execute_result"
    }
   ],
   "source": [
    "# проверим модель\n",
    "# создадим тензор 16х784. 16 имитирует размер батча\n",
    "input = torch.rand([16, 784], dtype=torch.float32)\n",
    "\n",
    "out = model(input)\n",
    "out.shape    # (16,10)"
   ]
  },
  {
   "cell_type": "code",
   "execution_count": 21,
   "metadata": {
    "colab": {
     "base_uri": "https://localhost:8080/"
    },
    "executionInfo": {
     "elapsed": 4,
     "status": "ok",
     "timestamp": 1733138145285,
     "user": {
      "displayName": "Виталий Павлов",
      "userId": "11648481872593380875"
     },
     "user_tz": -180
    },
    "id": "EToIpE5eBb1t",
    "outputId": "744316b4-43d6-4127-e058-aaf774a6cd4e"
   },
   "outputs": [
    {
     "data": {
      "text/plain": [
       "OrderedDict([('layer_1.weight',\n",
       "              tensor([[-0.0263,  0.0282, -0.0332,  ...,  0.0097,  0.0285,  0.0002],\n",
       "                      [ 0.0023,  0.0016, -0.0149,  ..., -0.0279, -0.0161, -0.0231],\n",
       "                      [ 0.0051, -0.0108,  0.0027,  ..., -0.0141,  0.0121, -0.0126],\n",
       "                      ...,\n",
       "                      [ 0.0262,  0.0256,  0.0121,  ...,  0.0259,  0.0067,  0.0304],\n",
       "                      [-0.0023, -0.0006,  0.0086,  ..., -0.0352,  0.0232,  0.0250],\n",
       "                      [ 0.0282,  0.0141,  0.0202,  ..., -0.0204, -0.0300, -0.0130]])),\n",
       "             ('layer_1.bias',\n",
       "              tensor([ 0.0351,  0.0253, -0.0237,  0.0280, -0.0147,  0.0351,  0.0292,  0.0066,\n",
       "                      -0.0143, -0.0285,  0.0228,  0.0264, -0.0008, -0.0181,  0.0279, -0.0058,\n",
       "                      -0.0306, -0.0068, -0.0196, -0.0230,  0.0117,  0.0053,  0.0024,  0.0024,\n",
       "                      -0.0101,  0.0325, -0.0164, -0.0172, -0.0323, -0.0241, -0.0262,  0.0194,\n",
       "                       0.0250,  0.0107, -0.0138, -0.0182,  0.0097,  0.0012, -0.0157,  0.0127,\n",
       "                       0.0011,  0.0182,  0.0259,  0.0119,  0.0134, -0.0199, -0.0125, -0.0042,\n",
       "                       0.0243, -0.0055,  0.0206,  0.0070, -0.0226, -0.0058, -0.0237,  0.0180,\n",
       "                      -0.0032, -0.0307,  0.0348,  0.0308,  0.0179,  0.0193,  0.0196,  0.0279,\n",
       "                      -0.0143, -0.0215, -0.0157,  0.0279,  0.0042, -0.0095, -0.0222,  0.0321,\n",
       "                      -0.0240, -0.0259, -0.0284, -0.0019, -0.0027,  0.0318,  0.0211, -0.0097,\n",
       "                      -0.0018, -0.0280,  0.0131, -0.0335, -0.0087,  0.0210,  0.0127,  0.0265,\n",
       "                       0.0108, -0.0258,  0.0311,  0.0098,  0.0172, -0.0026, -0.0024, -0.0103,\n",
       "                      -0.0009,  0.0053,  0.0179,  0.0338, -0.0338, -0.0160, -0.0312, -0.0180,\n",
       "                       0.0153, -0.0127, -0.0315, -0.0329, -0.0139, -0.0252, -0.0235,  0.0320,\n",
       "                      -0.0132,  0.0249,  0.0005,  0.0004,  0.0116,  0.0336,  0.0202,  0.0161,\n",
       "                      -0.0078,  0.0160, -0.0152, -0.0288,  0.0249,  0.0252, -0.0067,  0.0092])),\n",
       "             ('layer_2.weight',\n",
       "              tensor([[ 0.0852, -0.0596, -0.0803,  ...,  0.0366,  0.0143,  0.0376],\n",
       "                      [ 0.0293,  0.0528,  0.0213,  ...,  0.0115,  0.0439, -0.0647],\n",
       "                      [-0.0005,  0.0141, -0.0400,  ...,  0.0513, -0.0752, -0.0841],\n",
       "                      ...,\n",
       "                      [-0.0465,  0.0014,  0.0690,  ...,  0.0696,  0.0307, -0.0858],\n",
       "                      [ 0.0563, -0.0105,  0.0884,  ...,  0.0290, -0.0740, -0.0137],\n",
       "                      [-0.0412,  0.0788,  0.0618,  ..., -0.0015,  0.0132,  0.0862]])),\n",
       "             ('layer_2.bias',\n",
       "              tensor([-0.0795, -0.0046, -0.0047, -0.0476,  0.0552,  0.0186,  0.0193,  0.0408,\n",
       "                      -0.0817,  0.0228]))])"
      ]
     },
     "execution_count": 21,
     "metadata": {},
     "output_type": "execute_result"
    }
   ],
   "source": [
    "model.state_dict()"
   ]
  },
  {
   "cell_type": "markdown",
   "metadata": {
    "id": "0mBICOlc683L"
   },
   "source": [
    "### Создание класса для модели нейронной сети"
   ]
  },
  {
   "cell_type": "markdown",
   "metadata": {
    "id": "T-vM2iuRK3nQ"
   },
   "source": [
    "#### Модель с одним входом и одним выходом"
   ]
  },
  {
   "cell_type": "code",
   "execution_count": 29,
   "metadata": {
    "executionInfo": {
     "elapsed": 3,
     "status": "ok",
     "timestamp": 1733139396158,
     "user": {
      "displayName": "Виталий Павлов",
      "userId": "11648481872593380875"
     },
     "user_tz": -180
    },
    "id": "8Ti1-HMCFzMz"
   },
   "outputs": [],
   "source": [
    "class MyModel(nn.Module):\n",
    "    def __init__(self, input, output):\n",
    "        super().__init__()\n",
    "        self.layer_1 = nn.Linear(input, 128)\n",
    "        self.layer_2 = nn.Linear(128, output)\n",
    "        self.act = nn.ReLU()\n",
    "\n",
    "    def forward(self, x):\n",
    "        x = self.layer_1(x)\n",
    "        x = self.act(x)\n",
    "        out = self.layer_2(x)\n",
    "        return out\n",
    "\n",
    "model = MyModel(784, 10)"
   ]
  },
  {
   "cell_type": "code",
   "execution_count": 30,
   "metadata": {
    "colab": {
     "base_uri": "https://localhost:8080/"
    },
    "executionInfo": {
     "elapsed": 3,
     "status": "ok",
     "timestamp": 1733139397267,
     "user": {
      "displayName": "Виталий Павлов",
      "userId": "11648481872593380875"
     },
     "user_tz": -180
    },
    "id": "DdlPqNsjIpnp",
    "outputId": "0bb2e91c-bebf-4239-8e5d-7315866b6f5f"
   },
   "outputs": [
    {
     "data": {
      "text/plain": [
       "torch.Size([16, 10])"
      ]
     },
     "execution_count": 30,
     "metadata": {},
     "output_type": "execute_result"
    }
   ],
   "source": [
    "# Проверяем правильность построения модели\n",
    "input = torch.rand([16, 784], dtype=torch.float32)\n",
    "\n",
    "out = model(input)\n",
    "out.shape    # (16, 10)"
   ]
  },
  {
   "cell_type": "markdown",
   "metadata": {
    "id": "SZTMNSqhK7GS"
   },
   "source": [
    "#### Модель с двумя входами и двумя выходами"
   ]
  },
  {
   "cell_type": "code",
   "execution_count": 35,
   "metadata": {
    "executionInfo": {
     "elapsed": 355,
     "status": "ok",
     "timestamp": 1733140040414,
     "user": {
      "displayName": "Виталий Павлов",
      "userId": "11648481872593380875"
     },
     "user_tz": -180
    },
    "id": "fQecwRL9K-fU"
   },
   "outputs": [],
   "source": [
    "class MyModel(nn.Module):\n",
    "    def __init__(self, input, output):\n",
    "        super().__init__()\n",
    "        self.layer_1 = nn.Linear(input, 128)\n",
    "        self.layer_2 = nn.Linear(128, output)\n",
    "        self.act = nn.ReLU()\n",
    "\n",
    "    def forward(self, x, y):\n",
    "        x = self.layer_1(x)\n",
    "        x = self.act(x+y)\n",
    "        out = self.layer_2(x)\n",
    "        return out, x\n",
    "\n",
    "model = MyModel(784, 10)"
   ]
  },
  {
   "cell_type": "code",
   "execution_count": 36,
   "metadata": {
    "executionInfo": {
     "elapsed": 2,
     "status": "ok",
     "timestamp": 1733140041380,
     "user": {
      "displayName": "Виталий Павлов",
      "userId": "11648481872593380875"
     },
     "user_tz": -180
    },
    "id": "T8xPEpepLxDL"
   },
   "outputs": [],
   "source": [
    "# создадим тензоры для имитации входных данных\n",
    "x = torch.rand([16, 784], dtype=torch.float32)\n",
    "y = torch.rand([16, 128], dtype=torch.float32)\n",
    "# передадим эти тензоры в модель\n",
    "out = model(x,y)"
   ]
  },
  {
   "cell_type": "code",
   "execution_count": 39,
   "metadata": {
    "colab": {
     "base_uri": "https://localhost:8080/"
    },
    "executionInfo": {
     "elapsed": 354,
     "status": "ok",
     "timestamp": 1733140115597,
     "user": {
      "displayName": "Виталий Павлов",
      "userId": "11648481872593380875"
     },
     "user_tz": -180
    },
    "id": "yPCt_9VLMsG3",
    "outputId": "7d9ce6c0-fae4-4060-955e-53885cbfde52"
   },
   "outputs": [
    {
     "name": "stdout",
     "output_type": "stream",
     "text": [
      "2\n",
      "out_shape_1 = torch.Size([16, 10])\n",
      "out_shape_2 = torch.Size([16, 128])\n"
     ]
    }
   ],
   "source": [
    "print(len(out))\n",
    "print(f'out_shape_1 = {out[0].shape}')\n",
    "print(f'out_shape_2 = {out[1].shape}')"
   ]
  },
  {
   "cell_type": "markdown",
   "metadata": {
    "id": "KGhh74kwM467"
   },
   "source": [
    "#### Модули ModuleList и ModuleDict"
   ]
  },
  {
   "cell_type": "markdown",
   "metadata": {
    "id": "seQZIChYSdCp"
   },
   "source": [
    "##### ModuleList"
   ]
  },
  {
   "cell_type": "code",
   "execution_count": 40,
   "metadata": {
    "executionInfo": {
     "elapsed": 367,
     "status": "ok",
     "timestamp": 1733141280415,
     "user": {
      "displayName": "Виталий Павлов",
      "userId": "11648481872593380875"
     },
     "user_tz": -180
    },
    "id": "CX-mrk7gM9IQ"
   },
   "outputs": [],
   "source": [
    "class MyModel(nn.Module):\n",
    "    def __init__(self, input, output, hidden_size=2048):\n",
    "        super().__init__()\n",
    "        self.layers = nn.ModuleList()\n",
    "        for i in range(10):\n",
    "            self.layers.add_module(f'layer_{i}', nn.Linear(input, hidden_size))\n",
    "            self.layers.add_module(f'act_{i}', nn.ReLU())\n",
    "            input = hidden_size\n",
    "            hidden_size = int(hidden_size / 2)\n",
    "        self.layers.add_module(f'output_{i}', nn.Linear(input, output))\n",
    "\n",
    "    def forward(self, x):\n",
    "        output = []\n",
    "        for i, layer in enumerate(self.layers):\n",
    "            x = layer(x)\n",
    "            if i != 0 and i%2 == 0 and i%4 != 0:\n",
    "                output.append(x)\n",
    "        output.append(x)\n",
    "        return output"
   ]
  },
  {
   "cell_type": "code",
   "execution_count": 41,
   "metadata": {
    "colab": {
     "base_uri": "https://localhost:8080/"
    },
    "executionInfo": {
     "elapsed": 6,
     "status": "ok",
     "timestamp": 1733141294927,
     "user": {
      "displayName": "Виталий Павлов",
      "userId": "11648481872593380875"
     },
     "user_tz": -180
    },
    "id": "yqU61tRBRS1v",
    "outputId": "8ff61f33-79d2-4e6f-df36-0f9280ff79ed"
   },
   "outputs": [
    {
     "data": {
      "text/plain": [
       "MyModel(\n",
       "  (layers): ModuleList(\n",
       "    (0): Linear(in_features=784, out_features=2048, bias=True)\n",
       "    (1): ReLU()\n",
       "    (2): Linear(in_features=2048, out_features=1024, bias=True)\n",
       "    (3): ReLU()\n",
       "    (4): Linear(in_features=1024, out_features=512, bias=True)\n",
       "    (5): ReLU()\n",
       "    (6): Linear(in_features=512, out_features=256, bias=True)\n",
       "    (7): ReLU()\n",
       "    (8): Linear(in_features=256, out_features=128, bias=True)\n",
       "    (9): ReLU()\n",
       "    (10): Linear(in_features=128, out_features=64, bias=True)\n",
       "    (11): ReLU()\n",
       "    (12): Linear(in_features=64, out_features=32, bias=True)\n",
       "    (13): ReLU()\n",
       "    (14): Linear(in_features=32, out_features=16, bias=True)\n",
       "    (15): ReLU()\n",
       "    (16): Linear(in_features=16, out_features=8, bias=True)\n",
       "    (17): ReLU()\n",
       "    (18): Linear(in_features=8, out_features=4, bias=True)\n",
       "    (19): ReLU()\n",
       "    (20): Linear(in_features=4, out_features=2, bias=True)\n",
       "  )\n",
       ")"
      ]
     },
     "execution_count": 41,
     "metadata": {},
     "output_type": "execute_result"
    }
   ],
   "source": [
    "model = MyModel(784, 2)\n",
    "model"
   ]
  },
  {
   "cell_type": "code",
   "execution_count": 43,
   "metadata": {
    "executionInfo": {
     "elapsed": 395,
     "status": "ok",
     "timestamp": 1733141411987,
     "user": {
      "displayName": "Виталий Павлов",
      "userId": "11648481872593380875"
     },
     "user_tz": -180
    },
    "id": "rvpAduUTRu18"
   },
   "outputs": [],
   "source": [
    "# Проверяем правильность построения модели\n",
    "input = torch.rand([16, 784], dtype=torch.float32)\n",
    "\n",
    "out = model(input)"
   ]
  },
  {
   "cell_type": "code",
   "execution_count": 47,
   "metadata": {
    "colab": {
     "base_uri": "https://localhost:8080/"
    },
    "executionInfo": {
     "elapsed": 353,
     "status": "ok",
     "timestamp": 1733141520955,
     "user": {
      "displayName": "Виталий Павлов",
      "userId": "11648481872593380875"
     },
     "user_tz": -180
    },
    "id": "CrG_mr1ZR6E8",
    "outputId": "bdc7adc2-54d1-4ed0-cae2-7afd92fbea50"
   },
   "outputs": [
    {
     "name": "stdout",
     "output_type": "stream",
     "text": [
      "6\n",
      "out_shape_1 = torch.Size([16, 1024])\n",
      "out_shape_2 = torch.Size([16, 256])\n",
      "out_shape_3 = torch.Size([16, 64])\n",
      "out_shape_4 = torch.Size([16, 16])\n",
      "out_shape_5 = torch.Size([16, 4])\n",
      "out_shape_6 = torch.Size([16, 2])\n"
     ]
    }
   ],
   "source": [
    "# проверим выходы из модели\n",
    "print(len(out))\n",
    "print(f'out_shape_1 = {out[0].shape}')\n",
    "print(f'out_shape_2 = {out[1].shape}')\n",
    "print(f'out_shape_3 = {out[2].shape}')\n",
    "print(f'out_shape_4 = {out[3].shape}')\n",
    "print(f'out_shape_5 = {out[4].shape}')\n",
    "print(f'out_shape_6 = {out[5].shape}')"
   ]
  },
  {
   "cell_type": "markdown",
   "metadata": {
    "id": "aVrqDzX7Sa74"
   },
   "source": [
    "##### ModuleDict"
   ]
  },
  {
   "cell_type": "markdown",
   "metadata": {
    "id": "N-KBle1kSj0U"
   },
   "source": [
    "На примере модели из предыдущего шага рассмотрим ModuleDict"
   ]
  },
  {
   "cell_type": "code",
   "execution_count": 50,
   "metadata": {
    "executionInfo": {
     "elapsed": 370,
     "status": "ok",
     "timestamp": 1733141696463,
     "user": {
      "displayName": "Виталий Павлов",
      "userId": "11648481872593380875"
     },
     "user_tz": -180
    },
    "id": "sFc3KuGXSg_e"
   },
   "outputs": [],
   "source": [
    "class MyModel(nn.Module):\n",
    "    def __init__(self, input, output, hidden_size=2048, choice='relu'):\n",
    "        super().__init__()\n",
    "        self.activations = nn.ModuleDict({\n",
    "                                'lrelu' : nn.LeakyReLU(),\n",
    "                                'relu': nn.ReLU()\n",
    "                                })\n",
    "        self.layers = nn.ModuleList()\n",
    "        for i in range(10):\n",
    "            self.layers.add_module(f'layer_{i}', nn.Linear(input, hidden_size))\n",
    "            self.layers.add_module(f'act_{i}', self.activations[choice])\n",
    "            input = hidden_size\n",
    "            hidden_size = int(hidden_size / 2)\n",
    "        self.layers.add_module(f'output_{i}', nn.Linear(input, output))\n",
    "\n",
    "    def forward(self, x):\n",
    "        output = []\n",
    "        for i, layer in enumerate(self.layers):\n",
    "            x = layer(x)\n",
    "            if i != 0 and i%2 == 0 and i%4 != 0:\n",
    "                output.append(x)\n",
    "        output.append(x)\n",
    "        return output"
   ]
  },
  {
   "cell_type": "code",
   "execution_count": 52,
   "metadata": {
    "colab": {
     "base_uri": "https://localhost:8080/"
    },
    "executionInfo": {
     "elapsed": 349,
     "status": "ok",
     "timestamp": 1733141723968,
     "user": {
      "displayName": "Виталий Павлов",
      "userId": "11648481872593380875"
     },
     "user_tz": -180
    },
    "id": "ca8ZNRe6S1ad",
    "outputId": "a5cf105e-e3d4-44ce-956c-749191dbfcf2"
   },
   "outputs": [
    {
     "data": {
      "text/plain": [
       "MyModel(\n",
       "  (activations): ModuleDict(\n",
       "    (lrelu): LeakyReLU(negative_slope=0.01)\n",
       "    (relu): ReLU()\n",
       "  )\n",
       "  (layers): ModuleList(\n",
       "    (0): Linear(in_features=784, out_features=2048, bias=True)\n",
       "    (1): LeakyReLU(negative_slope=0.01)\n",
       "    (2): Linear(in_features=2048, out_features=1024, bias=True)\n",
       "    (3): LeakyReLU(negative_slope=0.01)\n",
       "    (4): Linear(in_features=1024, out_features=512, bias=True)\n",
       "    (5): LeakyReLU(negative_slope=0.01)\n",
       "    (6): Linear(in_features=512, out_features=256, bias=True)\n",
       "    (7): LeakyReLU(negative_slope=0.01)\n",
       "    (8): Linear(in_features=256, out_features=128, bias=True)\n",
       "    (9): LeakyReLU(negative_slope=0.01)\n",
       "    (10): Linear(in_features=128, out_features=64, bias=True)\n",
       "    (11): LeakyReLU(negative_slope=0.01)\n",
       "    (12): Linear(in_features=64, out_features=32, bias=True)\n",
       "    (13): LeakyReLU(negative_slope=0.01)\n",
       "    (14): Linear(in_features=32, out_features=16, bias=True)\n",
       "    (15): LeakyReLU(negative_slope=0.01)\n",
       "    (16): Linear(in_features=16, out_features=8, bias=True)\n",
       "    (17): LeakyReLU(negative_slope=0.01)\n",
       "    (18): Linear(in_features=8, out_features=4, bias=True)\n",
       "    (19): LeakyReLU(negative_slope=0.01)\n",
       "    (20): Linear(in_features=4, out_features=2, bias=True)\n",
       "  )\n",
       ")"
      ]
     },
     "execution_count": 52,
     "metadata": {},
     "output_type": "execute_result"
    }
   ],
   "source": [
    "model = MyModel(784, 2, choice='lrelu')\n",
    "model"
   ]
  },
  {
   "cell_type": "markdown",
   "metadata": {
    "id": "ilC0XI6z68zp"
   },
   "source": [
    "### Создание модели для классификации MNIST"
   ]
  },
  {
   "cell_type": "code",
   "execution_count": 58,
   "metadata": {
    "executionInfo": {
     "elapsed": 348,
     "status": "ok",
     "timestamp": 1733143388320,
     "user": {
      "displayName": "Виталий Павлов",
      "userId": "11648481872593380875"
     },
     "user_tz": -180
    },
    "id": "aXovy08JK0xs"
   },
   "outputs": [],
   "source": [
    "class MyModel(nn.Module):\n",
    "    def __init__(self, input, output):\n",
    "        super().__init__()\n",
    "        self.layer_1 = nn.Linear(input, 128)\n",
    "        self.layer_2 = nn.Linear(128, output)\n",
    "        self.act = nn.ReLU()\n",
    "\n",
    "    def forward(self, x):\n",
    "        x = self.layer_1(x)\n",
    "        x = self.act(x)\n",
    "        out = self.layer_2(x)\n",
    "        return out"
   ]
  },
  {
   "cell_type": "code",
   "execution_count": 59,
   "metadata": {
    "executionInfo": {
     "elapsed": 351,
     "status": "ok",
     "timestamp": 1733143389620,
     "user": {
      "displayName": "Виталий Павлов",
      "userId": "11648481872593380875"
     },
     "user_tz": -180
    },
    "id": "yl3zF_flYisJ"
   },
   "outputs": [],
   "source": [
    "model_classification = MyModel(784, 10)"
   ]
  },
  {
   "cell_type": "code",
   "execution_count": 60,
   "metadata": {
    "executionInfo": {
     "elapsed": 348,
     "status": "ok",
     "timestamp": 1733143390794,
     "user": {
      "displayName": "Виталий Павлов",
      "userId": "11648481872593380875"
     },
     "user_tz": -180
    },
    "id": "ZWTXDABfYuPs"
   },
   "outputs": [],
   "source": [
    "# определяем функцию потерь и оптимизатор градиентного спуска\n",
    "loss_classification = nn.CrossEntropyLoss()\n",
    "opt_classification = torch.optim.Adam(model_classification.parameters(), lr=0.001)"
   ]
  },
  {
   "cell_type": "code",
   "execution_count": 61,
   "metadata": {
    "colab": {
     "base_uri": "https://localhost:8080/"
    },
    "executionInfo": {
     "elapsed": 4,
     "status": "ok",
     "timestamp": 1733143391773,
     "user": {
      "displayName": "Виталий Павлов",
      "userId": "11648481872593380875"
     },
     "user_tz": -180
    },
    "id": "BiHJ7fdLZFHr",
    "outputId": "d7e8c7ef-2d88-499e-98a3-a99c58c7bddc"
   },
   "outputs": [
    {
     "data": {
      "text/plain": [
       "torch.Size([16, 10])"
      ]
     },
     "execution_count": 61,
     "metadata": {},
     "output_type": "execute_result"
    }
   ],
   "source": [
    "# Проверяем правильность построения модели\n",
    "input = torch.rand([16, 784], dtype=torch.float32)\n",
    "\n",
    "out = model_classification(input)\n",
    "out.shape    # (16,10)"
   ]
  },
  {
   "cell_type": "markdown",
   "metadata": {
    "id": "pBrO2i2x68vl"
   },
   "source": [
    "### Модель для задачи Регрессии"
   ]
  },
  {
   "cell_type": "code",
   "execution_count": 63,
   "metadata": {
    "executionInfo": {
     "elapsed": 368,
     "status": "ok",
     "timestamp": 1733143501763,
     "user": {
      "displayName": "Виталий Павлов",
      "userId": "11648481872593380875"
     },
     "user_tz": -180
    },
    "id": "kJ6aVH_JFKPt"
   },
   "outputs": [],
   "source": [
    "model_regression = MyModel(64*64, 2)"
   ]
  },
  {
   "cell_type": "code",
   "execution_count": 64,
   "metadata": {
    "executionInfo": {
     "elapsed": 3,
     "status": "ok",
     "timestamp": 1733143502961,
     "user": {
      "displayName": "Виталий Павлов",
      "userId": "11648481872593380875"
     },
     "user_tz": -180
    },
    "id": "ag3y2N5lZjJh"
   },
   "outputs": [],
   "source": [
    "loss_regression = nn.MSELoss()\n",
    "opt_regression = torch.optim.Adam(model_regression.parameters(), lr=0.001)"
   ]
  },
  {
   "cell_type": "code",
   "execution_count": 65,
   "metadata": {
    "colab": {
     "base_uri": "https://localhost:8080/"
    },
    "executionInfo": {
     "elapsed": 351,
     "status": "ok",
     "timestamp": 1733143603783,
     "user": {
      "displayName": "Виталий Павлов",
      "userId": "11648481872593380875"
     },
     "user_tz": -180
    },
    "id": "NxbGUQf3Zwhm",
    "outputId": "6a69476b-b0ab-4c42-b0a5-13d0ee8ff9bc"
   },
   "outputs": [
    {
     "data": {
      "text/plain": [
       "torch.Size([16, 2])"
      ]
     },
     "execution_count": 65,
     "metadata": {},
     "output_type": "execute_result"
    }
   ],
   "source": [
    "# проверим модель\n",
    "input = torch.rand([16, 64*64], dtype=torch.float32)\n",
    "\n",
    "out = model_regression(input)\n",
    "out.shape    # (16, 2)"
   ]
  }
 ],
 "metadata": {
  "colab": {
   "authorship_tag": "ABX9TyOtOzWm7z4BtYNiq3bomjGw",
   "collapsed_sections": [
    "ZV7NdGhB9e7V",
    "sZKH6ngS687T",
    "0mBICOlc683L",
    "ilC0XI6z68zp",
    "pBrO2i2x68vl"
   ],
   "provenance": [],
   "toc_visible": true
  },
  "kernelspec": {
   "display_name": "Python 3 (ipykernel)",
   "language": "python",
   "name": "python3"
  },
  "language_info": {
   "codemirror_mode": {
    "name": "ipython",
    "version": 3
   },
   "file_extension": ".py",
   "mimetype": "text/x-python",
   "name": "python",
   "nbconvert_exporter": "python",
   "pygments_lexer": "ipython3",
   "version": "3.12.3"
  }
 },
 "nbformat": 4,
 "nbformat_minor": 4
}
