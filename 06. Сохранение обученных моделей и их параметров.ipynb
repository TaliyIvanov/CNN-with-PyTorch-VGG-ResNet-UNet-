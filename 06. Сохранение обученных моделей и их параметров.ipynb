{
 "cells": [
  {
   "cell_type": "markdown",
   "id": "103faf93-ae7b-4ef5-89b1-6ff01607d72e",
   "metadata": {},
   "source": [
    "### Imports"
   ]
  },
  {
   "cell_type": "code",
   "execution_count": 1,
   "id": "c5d71a73-abac-4d5f-842d-78bca4472e0e",
   "metadata": {},
   "outputs": [],
   "source": [
    "import torch\n",
    "import torch.nn as nn\n",
    "\n",
    "from torch.utils.data import Dataset, DataLoader, random_split\n",
    "\n",
    "import torchvision\n",
    "from torchvision.transforms import v2\n",
    "\n",
    "import os\n",
    "import matplotlib.pyplot as plt\n",
    "from matplotlib.ticker import AutoMinorLocator, MultipleLocator\n",
    "import numpy as np\n",
    "\n",
    "import json\n",
    "from tqdm import tqdm\n",
    "from PIL import Image\n",
    "\n",
    "plt.style.use('dark_background')"
   ]
  },
  {
   "cell_type": "markdown",
   "id": "41bc8e46-3457-4fd6-a331-d8d96aef5c8f",
   "metadata": {},
   "source": [
    "### Сохранение и загрузка модели"
   ]
  },
  {
   "cell_type": "code",
   "execution_count": null,
   "id": "79921618-042f-4afa-8b5d-4e4147df2ccc",
   "metadata": {},
   "outputs": [],
   "source": [
    "# сохранение моделей, тензоров и словарей\n",
    "torch.save(obj, PATH)\n",
    "\n",
    "# загрузка моделей, тензоров и словарей\n",
    "torch.load(PATH)"
   ]
  },
  {
   "cell_type": "code",
   "execution_count": 23,
   "id": "266d8e8b-9d59-452a-bdfb-bc3fc9b7659e",
   "metadata": {},
   "outputs": [
    {
     "data": {
      "text/plain": [
       "{'key_1': tensor([1, 2, 3]), 'key_2': tensor([2, 3, 4])}"
      ]
     },
     "execution_count": 23,
     "metadata": {},
     "output_type": "execute_result"
    }
   ],
   "source": [
    "dict_1 = {'key_1':torch.tensor([1,2,3]), 'key_2':torch.tensor([2,3,4])}\n",
    "dict_1"
   ]
  },
  {
   "cell_type": "code",
   "execution_count": 24,
   "id": "9dcd61a2-06a4-49c8-8068-1e6e9703dada",
   "metadata": {},
   "outputs": [],
   "source": [
    "# сохраним созданный словарь в формате торча\n",
    "torch.save(dict_1, 'dict_1.pt')"
   ]
  },
  {
   "cell_type": "code",
   "execution_count": 25,
   "id": "eaaa58c1-2466-4d01-b130-27d453d3e959",
   "metadata": {},
   "outputs": [
    {
     "name": "stderr",
     "output_type": "stream",
     "text": [
      "/tmp/ipykernel_9910/2449913479.py:1: FutureWarning: You are using `torch.load` with `weights_only=False` (the current default value), which uses the default pickle module implicitly. It is possible to construct malicious pickle data which will execute arbitrary code during unpickling (See https://github.com/pytorch/pytorch/blob/main/SECURITY.md#untrusted-models for more details). In a future release, the default value for `weights_only` will be flipped to `True`. This limits the functions that could be executed during unpickling. Arbitrary objects will no longer be allowed to be loaded via this mode unless they are explicitly allowlisted by the user via `torch.serialization.add_safe_globals`. We recommend you start setting `weights_only=True` for any use case where you don't have full control of the loaded file. Please open an issue on GitHub for any issues related to this experimental feature.\n",
      "  new_dict = torch.load('dict_1.pt')\n"
     ]
    },
    {
     "data": {
      "text/plain": [
       "{'key_1': tensor([1, 2, 3]), 'key_2': tensor([2, 3, 4])}"
      ]
     },
     "execution_count": 25,
     "metadata": {},
     "output_type": "execute_result"
    }
   ],
   "source": [
    "# загрузим сохраненный словарь\n",
    "new_dict = torch.load('dict_1.pt')\n",
    "new_dict"
   ]
  },
  {
   "cell_type": "markdown",
   "id": "10321828-0973-401c-89f3-41684409d6c5",
   "metadata": {},
   "source": [
    "### Задача регрессии"
   ]
  },
  {
   "cell_type": "code",
   "execution_count": 2,
   "id": "a5ee2fcb-216f-4d5f-9195-13d70deae7db",
   "metadata": {},
   "outputs": [
    {
     "data": {
      "text/plain": [
       "'cuda'"
      ]
     },
     "execution_count": 2,
     "metadata": {},
     "output_type": "execute_result"
    }
   ],
   "source": [
    "device = 'cuda' if torch.cuda.is_available() else 'cpu'\n",
    "device"
   ]
  },
  {
   "cell_type": "code",
   "execution_count": 3,
   "id": "b358971c-48a6-40fa-8985-6c2fca37f65c",
   "metadata": {},
   "outputs": [],
   "source": [
    "class DatasetReg(Dataset):\n",
    "    def __init__(self, path, transform=None):\n",
    "        self.path = path\n",
    "        self.transform = transform\n",
    "\n",
    "        self.list_name_file = os.listdir(path)\n",
    "        if 'coords.json' in self.list_name_file:\n",
    "            self.list_name_file.remove('coords.json')\n",
    "\n",
    "        self.len_dataset = len(self.list_name_file)\n",
    "\n",
    "        with open(os.path.join(self.path, 'coords.json'), 'r') as f:\n",
    "            self.dict_coords = json.load(f)\n",
    "\n",
    "    def __len__(self):\n",
    "        return self.len_dataset\n",
    "\n",
    "    def __getitem__(self, index):\n",
    "        name_file = self.list_name_file[index]\n",
    "        path_img = os.path.join(self.path, name_file)\n",
    "\n",
    "        img = Image.open(path_img)\n",
    "        coord = self.dict_coords[name_file]\n",
    "\n",
    "        if self.transform:\n",
    "            img = self.transform(img)\n",
    "            coord = torch.tensor(coord, dtype=torch.float32)\n",
    "\n",
    "\n",
    "        return img, coord"
   ]
  },
  {
   "cell_type": "code",
   "execution_count": 4,
   "id": "716c6c7e-6526-4c0b-82f6-1c6692ec0022",
   "metadata": {},
   "outputs": [],
   "source": [
    "transform = v2.Compose(\n",
    "    [\n",
    "        v2.ToImage(),\n",
    "        v2.ToDtype(torch.float32, scale=True),\n",
    "        v2.Normalize(mean=(0.5, ), std=(0.5, ))\n",
    "    ]\n",
    ")"
   ]
  },
  {
   "cell_type": "code",
   "execution_count": 5,
   "id": "e6d28515-abc2-4e44-b930-9dd1180c2b94",
   "metadata": {},
   "outputs": [],
   "source": [
    "dataset = DatasetReg(path='dataset', transform=transform)"
   ]
  },
  {
   "cell_type": "code",
   "execution_count": 6,
   "id": "ec87a494-f1a0-4fe7-bd0e-8a47321562ac",
   "metadata": {},
   "outputs": [
    {
     "name": "stdout",
     "output_type": "stream",
     "text": [
      "Coord = tensor([28., 31.])\n"
     ]
    },
    {
     "data": {
      "text/plain": [
       "<matplotlib.image.AxesImage at 0x7b56f9e4bc50>"
      ]
     },
     "execution_count": 6,
     "metadata": {},
     "output_type": "execute_result"
    },
    {
     "data": {
      "image/png": "[encoded data removed]",
      "text/plain": [
       "<Figure size 640x480 with 1 Axes>"
      ]
     },
     "metadata": {},
     "output_type": "display_data"
    }
   ],
   "source": [
    "img, coord = dataset[2512]\n",
    "\n",
    "print(f'Coord = {coord}')\n",
    "plt.imshow(img.numpy()[0], cmap='gray')"
   ]
  },
  {
   "cell_type": "code",
   "execution_count": 7,
   "id": "cd0b75aa-7822-43b9-8d51-63f190590974",
   "metadata": {},
   "outputs": [],
   "source": [
    "train_set, val_set, test_set = random_split(dataset, [0.7, 0.1, 0.2])"
   ]
  },
  {
   "cell_type": "code",
   "execution_count": 8,
   "id": "39a942ee-085e-498e-8e82-b5a3326f1274",
   "metadata": {},
   "outputs": [],
   "source": [
    "train_loader = DataLoader(train_set, batch_size=16, shuffle=True)\n",
    "val_loader = DataLoader(val_set, batch_size=16, shuffle=False)\n",
    "test_loader = DataLoader(test_set, batch_size=16, shuffle=False)"
   ]
  },
  {
   "cell_type": "code",
   "execution_count": 9,
   "id": "1bc50871-9150-434b-aa73-ec09af0d57b5",
   "metadata": {},
   "outputs": [],
   "source": [
    "class MyModel(nn.Module):\n",
    "    def __init__(self, input, output):\n",
    "        super().__init__()\n",
    "        self.layer_1 = nn.Linear(input, 128)\n",
    "        self.layer_2 = nn.Linear(128, output)\n",
    "        self.act = nn.ReLU()\n",
    "\n",
    "    def forward(self, x):\n",
    "        x = self.layer_1(x)\n",
    "        x = self.act(x)\n",
    "        out = self.layer_2(x)\n",
    "        return out"
   ]
  },
  {
   "cell_type": "code",
   "execution_count": 32,
   "id": "5477ec7f-26d2-464c-8f70-c532c674db2e",
   "metadata": {},
   "outputs": [],
   "source": [
    "# создаем и отправляем на cuda\n",
    "model = MyModel(64*64, 2).to(device)"
   ]
  },
  {
   "cell_type": "code",
   "execution_count": 33,
   "id": "3a619bb2-9d2f-4eb4-822b-eeac029486bb",
   "metadata": {},
   "outputs": [
    {
     "data": {
      "text/plain": [
       "torch.Size([16, 2])"
      ]
     },
     "execution_count": 33,
     "metadata": {},
     "output_type": "execute_result"
    }
   ],
   "source": [
    "# Проверяем правильность построения модели\n",
    "input = torch.rand([16, 64*64], dtype=torch.float32).to(device)\n",
    "\n",
    "out = model(input)\n",
    "out.shape    # (16,2)"
   ]
  },
  {
   "cell_type": "code",
   "execution_count": 34,
   "id": "4f8ec80f-218e-495b-b91d-288cba00e148",
   "metadata": {},
   "outputs": [],
   "source": [
    "# выбираем функцию потерь и оптимизатор градиентного спуска\n",
    "loss_model = nn.MSELoss()\n",
    "opt = torch.optim.Adam(model.parameters(), lr=0.001)\n",
    "\n",
    "lr_scheduler = torch.optim.lr_scheduler.ReduceLROnPlateau(opt,\n",
    "                                                          mode='min',\n",
    "                                                          factor=0.1,\n",
    "                                                          patience=5)"
   ]
  },
  {
   "cell_type": "code",
   "execution_count": 35,
   "id": "8c295df3-b3f4-4451-819e-781e108f2041",
   "metadata": {},
   "outputs": [],
   "source": [
    "EPOCHS = 20\n",
    "train_loss = []\n",
    "train_acc = []\n",
    "val_loss = []\n",
    "val_acc = []\n",
    "lr_list = []\n",
    "best_loss = None\n",
    "threshold = 0.25"
   ]
  },
  {
   "cell_type": "code",
   "execution_count": 36,
   "id": "600ce63c-5c60-4ac6-a631-2829dd3669d7",
   "metadata": {},
   "outputs": [
    {
     "name": "stderr",
     "output_type": "stream",
     "text": [
      "                                                                                                                     "
     ]
    },
    {
     "name": "stdout",
     "output_type": "stream",
     "text": [
      "Epoch [1/20], train_loss=1.7556, train_acc=0.6347, val_loss=0.3779, val_acc=0.1776, lr=0.0010\n"
     ]
    },
    {
     "name": "stderr",
     "output_type": "stream",
     "text": [
      "                                                                                                                     "
     ]
    },
    {
     "name": "stdout",
     "output_type": "stream",
     "text": [
      "Epoch [2/20], train_loss=0.1378, train_acc=0.6828, val_loss=0.0691, val_acc=0.8913, lr=0.0010\n",
      "На эпохе: 2, сохранена модель со значением функции потерь на валидаци: 0.0691\n",
      "\n"
     ]
    },
    {
     "name": "stderr",
     "output_type": "stream",
     "text": [
      "                                                                                                                     "
     ]
    },
    {
     "name": "stdout",
     "output_type": "stream",
     "text": [
      "Epoch [3/20], train_loss=0.1164, train_acc=0.7400, val_loss=0.0880, val_acc=0.8366, lr=0.0010\n"
     ]
    },
    {
     "name": "stderr",
     "output_type": "stream",
     "text": [
      "                                                                                                                     "
     ]
    },
    {
     "name": "stdout",
     "output_type": "stream",
     "text": [
      "Epoch [4/20], train_loss=0.0986, train_acc=0.7981, val_loss=0.1529, val_acc=0.6183, lr=0.0010\n"
     ]
    },
    {
     "name": "stderr",
     "output_type": "stream",
     "text": [
      "                                                                                                                     "
     ]
    },
    {
     "name": "stdout",
     "output_type": "stream",
     "text": [
      "Epoch [5/20], train_loss=0.0850, train_acc=0.8429, val_loss=0.1480, val_acc=0.6470, lr=0.0010\n"
     ]
    },
    {
     "name": "stderr",
     "output_type": "stream",
     "text": [
      "                                                                                                                     "
     ]
    },
    {
     "name": "stdout",
     "output_type": "stream",
     "text": [
      "Epoch [6/20], train_loss=0.0767, train_acc=0.8685, val_loss=0.0429, val_acc=0.9651, lr=0.0010\n",
      "На эпохе: 6, сохранена модель со значением функции потерь на валидаци: 0.0429\n",
      "\n"
     ]
    },
    {
     "name": "stderr",
     "output_type": "stream",
     "text": [
      "                                                                                                                     "
     ]
    },
    {
     "name": "stdout",
     "output_type": "stream",
     "text": [
      "Epoch [7/20], train_loss=0.0732, train_acc=0.8799, val_loss=0.0489, val_acc=0.9535, lr=0.0010\n"
     ]
    },
    {
     "name": "stderr",
     "output_type": "stream",
     "text": [
      "                                                                                                                     "
     ]
    },
    {
     "name": "stdout",
     "output_type": "stream",
     "text": [
      "Epoch [8/20], train_loss=0.0690, train_acc=0.8942, val_loss=0.1100, val_acc=0.7615, lr=0.0010\n"
     ]
    },
    {
     "name": "stderr",
     "output_type": "stream",
     "text": [
      "                                                                                                                     "
     ]
    },
    {
     "name": "stdout",
     "output_type": "stream",
     "text": [
      "Epoch [9/20], train_loss=0.0665, train_acc=0.8995, val_loss=0.1452, val_acc=0.6512, lr=0.0010\n"
     ]
    },
    {
     "name": "stderr",
     "output_type": "stream",
     "text": [
      "                                                                                                                     "
     ]
    },
    {
     "name": "stdout",
     "output_type": "stream",
     "text": [
      "Epoch [10/20], train_loss=0.0627, train_acc=0.9104, val_loss=0.1193, val_acc=0.7500, lr=0.0010\n"
     ]
    },
    {
     "name": "stderr",
     "output_type": "stream",
     "text": [
      "                                                                                                                     "
     ]
    },
    {
     "name": "stdout",
     "output_type": "stream",
     "text": [
      "Epoch [11/20], train_loss=0.0586, train_acc=0.9231, val_loss=0.0387, val_acc=0.9726, lr=0.0010\n"
     ]
    },
    {
     "name": "stderr",
     "output_type": "stream",
     "text": [
      "                                                                                                                     "
     ]
    },
    {
     "name": "stdout",
     "output_type": "stream",
     "text": [
      "Epoch [12/20], train_loss=0.0578, train_acc=0.9267, val_loss=0.0472, val_acc=0.9615, lr=0.0010\n"
     ]
    },
    {
     "name": "stderr",
     "output_type": "stream",
     "text": [
      "                                                                                                                     "
     ]
    },
    {
     "name": "stdout",
     "output_type": "stream",
     "text": [
      "Epoch [13/20], train_loss=0.0564, train_acc=0.9290, val_loss=0.0413, val_acc=0.9678, lr=0.0010\n"
     ]
    },
    {
     "name": "stderr",
     "output_type": "stream",
     "text": [
      "                                                                                                                     "
     ]
    },
    {
     "name": "stdout",
     "output_type": "stream",
     "text": [
      "Epoch [14/20], train_loss=0.0539, train_acc=0.9363, val_loss=0.0767, val_acc=0.8708, lr=0.0010\n"
     ]
    },
    {
     "name": "stderr",
     "output_type": "stream",
     "text": [
      "                                                                                                                     "
     ]
    },
    {
     "name": "stdout",
     "output_type": "stream",
     "text": [
      "Epoch [15/20], train_loss=0.0563, train_acc=0.9291, val_loss=0.0619, val_acc=0.9124, lr=0.0010\n"
     ]
    },
    {
     "name": "stderr",
     "output_type": "stream",
     "text": [
      "                                                                                                                     "
     ]
    },
    {
     "name": "stdout",
     "output_type": "stream",
     "text": [
      "Epoch [16/20], train_loss=0.0546, train_acc=0.9344, val_loss=0.0981, val_acc=0.8020, lr=0.0010\n"
     ]
    },
    {
     "name": "stderr",
     "output_type": "stream",
     "text": [
      "                                                                                                                     "
     ]
    },
    {
     "name": "stdout",
     "output_type": "stream",
     "text": [
      "Epoch [17/20], train_loss=0.0545, train_acc=0.9352, val_loss=0.0539, val_acc=0.9378, lr=0.0001\n"
     ]
    },
    {
     "name": "stderr",
     "output_type": "stream",
     "text": [
      "                                                                                                                     "
     ]
    },
    {
     "name": "stdout",
     "output_type": "stream",
     "text": [
      "Epoch [18/20], train_loss=0.0303, train_acc=0.9895, val_loss=0.0352, val_acc=0.9809, lr=0.0001\n"
     ]
    },
    {
     "name": "stderr",
     "output_type": "stream",
     "text": [
      "                                                                                                                     "
     ]
    },
    {
     "name": "stdout",
     "output_type": "stream",
     "text": [
      "Epoch [19/20], train_loss=0.0306, train_acc=0.9894, val_loss=0.0345, val_acc=0.9809, lr=0.0001\n"
     ]
    },
    {
     "name": "stderr",
     "output_type": "stream",
     "text": [
      "                                                                                                                     "
     ]
    },
    {
     "name": "stdout",
     "output_type": "stream",
     "text": [
      "Epoch [20/20], train_loss=0.0305, train_acc=0.9891, val_loss=0.0358, val_acc=0.9794, lr=0.0001\n"
     ]
    }
   ],
   "source": [
    "# Цикл обучения\n",
    "for epoch in range(EPOCHS):\n",
    "\n",
    "    # 1. Тренировка модели\n",
    "    model.train()\n",
    "    running_train_loss = []\n",
    "    true_answer = 0\n",
    "    # добавим трейн луп, чтобы видеть прогресс обучения модели\n",
    "    train_loop = tqdm(train_loader, leave=False)\n",
    "    for x, targets in train_loop:\n",
    "        # - Данные\n",
    "        # (batch.size, 1, 64, 64) --> (batch.size, 64*64)\n",
    "        x = x.reshape(-1, 64*64).to(device)\n",
    "        targets = targets.to(device)\n",
    "\n",
    "        # - Прямой проход + расчет ошибки модели\n",
    "        pred = model(x)\n",
    "        loss = loss_model(pred, targets)\n",
    "\n",
    "        # - Обратный проход\n",
    "        opt.zero_grad()\n",
    "        loss.backward()\n",
    "        # - Шаг оптимизации\n",
    "        opt.step()\n",
    "\n",
    "        running_train_loss.append(loss.item())\n",
    "        mean_train_loss = sum(running_train_loss)/len(running_train_loss)\n",
    "\n",
    "        true_answer += (torch.round(pred) == targets).all(dim=1).sum().item()\n",
    "\n",
    "        train_loop.set_description(f\"Epoch [{epoch+1}/{EPOCHS}], train_loss={mean_train_loss:.4f}\")\n",
    "\n",
    "\n",
    "    # 2. Расчет значения метрики\n",
    "    running_train_acc = true_answer / len(train_set)\n",
    "\n",
    "    # 3. Сохранение значения функции потерь и метрики\n",
    "    train_loss.append(mean_train_loss)\n",
    "    train_acc.append(running_train_acc)\n",
    "\n",
    "    # 4. Проверка модели (Валидация)\n",
    "    model.eval()\n",
    "    with torch.no_grad():\n",
    "        running_val_loss = []\n",
    "        true_answer = 0\n",
    "        for x, targets in val_loader:\n",
    "            # - Данные\n",
    "            # (batch.size, 1, 64, 64) --> (batch.size, 64*64)\n",
    "            x = x.reshape(-1, 64*64).to(device)\n",
    "            targets = targets.to(device)\n",
    "\n",
    "            # - Прямой проход + расчет ошибки модели\n",
    "            pred = model(x)\n",
    "            loss = loss_model(pred, targets)\n",
    "\n",
    "            running_val_loss.append(loss.item())\n",
    "            mean_val_loss = sum(running_val_loss)/len(running_val_loss)\n",
    "\n",
    "            true_answer += (torch.round(pred) == targets).all(dim=1).sum().item()\n",
    "\n",
    "        # 2. Расчет значения метрики\n",
    "        running_val_acc = true_answer / len(val_set)\n",
    "\n",
    "        # 3. Сохранение значения функции потерь и метрики    true_answer = 0\n",
    "\n",
    "        val_loss.append(mean_val_loss)\n",
    "        val_acc.append(running_val_acc)\n",
    "\n",
    "    lr_scheduler.step(mean_val_loss)\n",
    "    lr = lr_scheduler._last_lr[0]\n",
    "    lr_list.append(lr)\n",
    "\n",
    "    print(f\"Epoch [{epoch+1}/{EPOCHS}], train_loss={mean_train_loss:.4f}, train_acc={running_train_acc:.4f}, val_loss={mean_val_loss:.4f}, val_acc={running_val_acc:.4f}, lr={lr:.4f}\")\n",
    "\n",
    "    # добавляем две проверки, для сохранения лучшей модели\n",
    "    if best_loss is None:\n",
    "        best_loss = mean_val_loss\n",
    "    # это самое простое условие, но это неприемлемо\n",
    "    # if mean_val_loss < best_loss:\n",
    "    #     best_loss = mean_val_loss\n",
    "    # мы будем сохранять модель, чей лосс улучшился на ЗНАЧИМОЕ для нас значение\n",
    "    if mean_val_loss < best_loss - best_loss*threshold:\n",
    "        best_loss = mean_val_loss\n",
    "\n",
    "        torch.save(model.state_dict(), f'model_state_dict_epoch_{epoch+1}.pt')\n",
    "        print(f\"На эпохе: {epoch+1}, сохранена модель со значением функции потерь на валидаци: {mean_val_loss:.4f}\", end='\\n\\n')"
   ]
  },
  {
   "cell_type": "markdown",
   "id": "2328d44c-ab50-4878-afbe-ac7ebd4dc932",
   "metadata": {},
   "source": [
    "val_loss = 0.0429, val_acc = 0.9651"
   ]
  },
  {
   "cell_type": "code",
   "execution_count": 37,
   "id": "32317608-1aad-4fbf-b88d-eb0ecdd7f799",
   "metadata": {},
   "outputs": [
    {
     "data": {
      "image/png": "[encoded data removed]",
      "text/plain": [
       "<Figure size 640x480 with 1 Axes>"
      ]
     },
     "metadata": {},
     "output_type": "display_data"
    }
   ],
   "source": [
    "plt.plot(lr_list)\n",
    "plt.show()"
   ]
  },
  {
   "cell_type": "code",
   "execution_count": 38,
   "id": "f5a6c8ab-cfa4-4194-b3e0-1667a7bd8e4f",
   "metadata": {},
   "outputs": [
    {
     "data": {
      "image/png": "[encoded data removed]",
      "text/plain": [
       "<Figure size 640x480 with 1 Axes>"
      ]
     },
     "metadata": {},
     "output_type": "display_data"
    }
   ],
   "source": [
    "plt.plot(train_loss)\n",
    "plt.plot(val_loss)\n",
    "plt.legend(['loss_train', 'loss_val'])\n",
    "plt.show()"
   ]
  },
  {
   "cell_type": "code",
   "execution_count": 39,
   "id": "d03edd4f-2ca6-403f-bea0-330177f36940",
   "metadata": {},
   "outputs": [
    {
     "data": {
      "image/png": "[encoded data removed]",
      "text/plain": [
       "<Figure size 640x480 with 1 Axes>"
      ]
     },
     "metadata": {},
     "output_type": "display_data"
    }
   ],
   "source": [
    "plt.plot(train_acc)\n",
    "plt.plot(val_acc)\n",
    "plt.legend(['acc_train', 'acc_val'])\n",
    "plt.show()"
   ]
  },
  {
   "cell_type": "markdown",
   "id": "c7863aee-9534-4fa9-abdb-af008f9b0c94",
   "metadata": {},
   "source": [
    "### Загрузка сохраненной модели"
   ]
  },
  {
   "cell_type": "code",
   "execution_count": 40,
   "id": "b0668a29-5a2f-4ae5-a781-ee817047af80",
   "metadata": {},
   "outputs": [
    {
     "data": {
      "text/plain": [
       "'cuda'"
      ]
     },
     "execution_count": 40,
     "metadata": {},
     "output_type": "execute_result"
    }
   ],
   "source": [
    "device = 'cuda' if torch.cuda.is_available() else 'cpu'\n",
    "device"
   ]
  },
  {
   "cell_type": "code",
   "execution_count": 41,
   "id": "2f762338-b1d5-4867-8297-a7a602016c6d",
   "metadata": {},
   "outputs": [
    {
     "name": "stderr",
     "output_type": "stream",
     "text": [
      "/tmp/ipykernel_9910/2886747407.py:2: FutureWarning: You are using `torch.load` with `weights_only=False` (the current default value), which uses the default pickle module implicitly. It is possible to construct malicious pickle data which will execute arbitrary code during unpickling (See https://github.com/pytorch/pytorch/blob/main/SECURITY.md#untrusted-models for more details). In a future release, the default value for `weights_only` will be flipped to `True`. This limits the functions that could be executed during unpickling. Arbitrary objects will no longer be allowed to be loaded via this mode unless they are explicitly allowlisted by the user via `torch.serialization.add_safe_globals`. We recommend you start setting `weights_only=True` for any use case where you don't have full control of the loaded file. Please open an issue on GitHub for any issues related to this experimental feature.\n",
      "  param_model = torch.load('model_state_dict_epoch_6.pt')\n"
     ]
    },
    {
     "data": {
      "text/plain": [
       "OrderedDict([('layer_1.weight',\n",
       "              tensor([[ 0.0240,  0.0192,  0.0182,  ...,  0.0087,  0.0230,  0.0262],\n",
       "                      [ 0.0056, -0.0334, -0.0120,  ...,  0.0070, -0.0136, -0.0029],\n",
       "                      [ 0.0145, -0.0094,  0.0012,  ...,  0.0116, -0.0091, -0.0081],\n",
       "                      ...,\n",
       "                      [ 0.0422,  0.0394,  0.0195,  ...,  0.0141,  0.0301,  0.0348],\n",
       "                      [ 0.0382,  0.0199,  0.0279,  ...,  0.0282,  0.0250,  0.0335],\n",
       "                      [-0.0038, -0.0188, -0.0107,  ..., -0.0056, -0.0300,  0.0001]],\n",
       "                     device='cuda:0')),\n",
       "             ('layer_1.bias',\n",
       "              tensor([-1.4907e-02,  7.9568e-03,  2.1328e-02, -1.1968e-02,  9.4071e-04,\n",
       "                      -1.6254e-02,  1.9897e-02,  6.6543e-03, -1.2949e-02,  6.3609e-03,\n",
       "                      -2.8500e-02, -9.8291e-03, -1.7069e-02, -3.4238e-03,  6.6955e-03,\n",
       "                       1.4439e-02, -1.0026e-02, -1.2440e-02,  4.6242e-02, -8.8028e-03,\n",
       "                       1.2374e-02,  1.0508e-03, -5.6698e-03, -1.3359e-02,  5.8842e-03,\n",
       "                       1.0661e-02, -4.9968e-03,  5.7271e-03, -1.0065e-02, -1.9577e-02,\n",
       "                       4.0917e-03, -7.4421e-03, -5.5448e-03,  8.2265e-03, -3.7773e-03,\n",
       "                       1.7083e-02, -1.3289e-02,  3.8935e-02,  2.2625e-03, -4.3326e-03,\n",
       "                       1.5528e-02, -1.8313e-02, -1.8093e-02, -6.7642e-03, -1.3604e-03,\n",
       "                       3.8032e-02, -5.3980e-03,  5.5029e-02, -1.0720e-02, -5.1680e-03,\n",
       "                      -1.0087e-02,  1.6417e-02, -3.5282e-03, -1.7685e-02, -1.0711e-03,\n",
       "                       3.3954e-03, -2.0571e-03, -3.0136e-03, -1.6381e-02,  7.7703e-03,\n",
       "                      -2.0476e-02, -1.7878e-02,  5.9561e-03,  6.2295e-03, -2.5911e-03,\n",
       "                       2.2279e-02,  2.6032e-02,  2.3866e-03, -8.6094e-03,  1.9207e-02,\n",
       "                      -8.4639e-03, -5.8292e-03,  4.6864e-03, -2.1167e-02,  9.3037e-03,\n",
       "                       2.9416e-03, -8.0610e-03, -7.7294e-03, -1.2500e-02, -1.2854e-02,\n",
       "                      -5.8375e-03, -1.0606e-02, -2.1136e-02,  5.1879e-02,  1.3221e-02,\n",
       "                       1.6014e-02, -2.0353e-03,  1.6337e-03, -7.6025e-03,  7.7965e-03,\n",
       "                      -7.3056e-03,  4.9803e-02, -1.1519e-02,  7.6867e-03, -4.8486e-03,\n",
       "                       7.5905e-03,  2.5785e-02,  1.3277e-02, -1.8456e-02,  8.7340e-03,\n",
       "                       3.2629e-02,  1.6382e-02, -1.5684e-03, -9.7064e-03,  5.7609e-03,\n",
       "                       1.1130e-03, -1.8607e-02, -7.2288e-03,  6.5706e-05,  5.7590e-03,\n",
       "                      -4.8145e-03, -8.4082e-03,  1.1552e-02,  1.4762e-03, -1.3834e-02,\n",
       "                       4.6687e-03,  4.3644e-04, -5.4526e-03,  7.5531e-03,  2.6019e-03,\n",
       "                       6.2869e-03,  2.8245e-03,  7.4897e-03, -8.3061e-03, -1.6430e-02,\n",
       "                      -2.5580e-02, -4.3043e-02,  1.0436e-02], device='cuda:0')),\n",
       "             ('layer_2.weight',\n",
       "              tensor([[-0.0648, -0.0002, -0.0006,  0.0291,  0.0041, -0.0594,  0.0211,  0.0010,\n",
       "                       -0.0502, -0.0020, -0.0731, -0.0637,  0.0370, -0.0781,  0.0038,  0.0566,\n",
       "                        0.0216,  0.0097,  0.0185,  0.0451,  0.0026,  0.0008, -0.0147, -0.0173,\n",
       "                       -0.0303, -0.0527,  0.0046,  0.0017,  0.0042,  0.0828, -0.0236, -0.0358,\n",
       "                        0.0852,  0.0220,  0.0067, -0.0078, -0.0347,  0.0623,  0.0130, -0.0725,\n",
       "                        0.0033, -0.0233, -0.0111, -0.0729, -0.0001,  0.0602, -0.0317,  0.0525,\n",
       "                        0.0300, -0.0142, -0.0472,  0.0104, -0.0230, -0.0314,  0.0376, -0.0083,\n",
       "                       -0.0669, -0.0999,  0.0137,  0.0026,  0.0531, -0.0683,  0.0234,  0.0044,\n",
       "                        0.0345,  0.0504,  0.0290,  0.0122, -0.0245,  0.0390,  0.0418, -0.0203,\n",
       "                        0.0080, -0.0178,  0.0034, -0.0122, -0.0254, -0.0230,  0.0579, -0.0319,\n",
       "                       -0.0104,  0.0153, -0.0364,  0.0637,  0.0759, -0.0002,  0.0023,  0.0044,\n",
       "                        0.0052, -0.0559, -0.0354,  0.0544,  0.0022, -0.0569, -0.0044,  0.0004,\n",
       "                       -0.0063, -0.0814, -0.0748, -0.0019,  0.0547,  0.0083,  0.0018, -0.0542,\n",
       "                       -0.0028,  0.0560, -0.0398,  0.0200, -0.0742,  0.0073, -0.0685,  0.0390,\n",
       "                        0.0624, -0.0693, -0.0086,  0.0766,  0.0431, -0.0855, -0.0528, -0.0299,\n",
       "                       -0.0030,  0.0148,  0.0017, -0.0329,  0.0083, -0.0236, -0.0176,  0.0649],\n",
       "                      [ 0.0184,  0.0224, -0.0005, -0.0773, -0.0461,  0.0558,  0.0449,  0.0010,\n",
       "                       -0.0042,  0.0019, -0.0094,  0.0344, -0.0290,  0.0254,  0.0054, -0.0449,\n",
       "                       -0.0141,  0.0007,  0.0549, -0.0107, -0.0036, -0.0011,  0.0063,  0.0236,\n",
       "                       -0.0709,  0.0529,  0.0050, -0.0001,  0.0545,  0.0772, -0.0383, -0.0272,\n",
       "                       -0.0798, -0.0067, -0.0582,  0.0154, -0.0151,  0.0563, -0.0006,  0.0750,\n",
       "                        0.0044,  0.0781,  0.0103, -0.0098, -0.0016,  0.0279, -0.0698,  0.0715,\n",
       "                       -0.0597, -0.0292,  0.0489,  0.1174, -0.0487, -0.0322, -0.0254,  0.0244,\n",
       "                        0.0388,  0.0518, -0.0797, -0.0007, -0.0770,  0.0125, -0.0685,  0.0043,\n",
       "                       -0.0190,  0.0293,  0.0547, -0.0692,  0.0091,  0.0123,  0.0596,  0.0410,\n",
       "                       -0.0505, -0.0180,  0.0013, -0.0350,  0.0561,  0.0018, -0.0687,  0.0385,\n",
       "                        0.0207,  0.0023, -0.0549,  0.0526, -0.0528, -0.0006,  0.0035, -0.0390,\n",
       "                        0.0079, -0.0761,  0.0152,  0.0510,  0.0043,  0.0173, -0.0595,  0.0020,\n",
       "                        0.0194, -0.0424, -0.0063,  0.0013,  0.0602,  0.0059,  0.0022, -0.0543,\n",
       "                        0.0041, -0.0787, -0.0471, -0.0689, -0.0507, -0.0812, -0.0380, -0.0432,\n",
       "                       -0.0482,  0.0785,  0.0260, -0.0036, -0.0603, -0.0481, -0.0313, -0.0264,\n",
       "                       -0.0294, -0.0548,  0.0035,  0.0734, -0.0279, -0.0123,  0.0272, -0.0443]],\n",
       "                     device='cuda:0')),\n",
       "             ('layer_2.bias', tensor([0.1012, 0.1083], device='cuda:0'))])"
      ]
     },
     "execution_count": 41,
     "metadata": {},
     "output_type": "execute_result"
    }
   ],
   "source": [
    "# загрузка параметров модели\n",
    "param_model = torch.load('model_state_dict_epoch_6.pt')\n",
    "param_model"
   ]
  },
  {
   "cell_type": "code",
   "execution_count": 42,
   "id": "e68ffc0c-d24f-4e61-b428-81a0392d4916",
   "metadata": {},
   "outputs": [],
   "source": [
    "# создание новой модели\n",
    "new_model = MyModel(64*64, 2).to(device)"
   ]
  },
  {
   "cell_type": "code",
   "execution_count": 43,
   "id": "a752fc39-5400-400f-9642-4c1189fa774c",
   "metadata": {},
   "outputs": [
    {
     "data": {
      "text/plain": [
       "<All keys matched successfully>"
      ]
     },
     "execution_count": 43,
     "metadata": {},
     "output_type": "execute_result"
    }
   ],
   "source": [
    "# Заменяем параметры модели на сохраненные\n",
    "new_model.load_state_dict(param_model)"
   ]
  },
  {
   "cell_type": "code",
   "execution_count": 45,
   "id": "a68892ce-fab0-4e72-9d22-ca0404fe3afd",
   "metadata": {},
   "outputs": [
    {
     "name": "stdout",
     "output_type": "stream",
     "text": [
      "val_loss = 0.0429, val_acc = 0.9651\n"
     ]
    }
   ],
   "source": [
    "# проверим новую модель на валидационных данных\n",
    "new_model.eval()\n",
    "with torch.no_grad():\n",
    "    running_val_loss = []\n",
    "    true_answer = 0\n",
    "    for x, targets in val_loader:\n",
    "        # Данные\n",
    "        x = x.reshape(-1, 64*64).to(device)\n",
    "        targets = targets.to(device)\n",
    "\n",
    "        # прямой проход , расчет ошибки модели\n",
    "        pred = new_model(x)\n",
    "        loss = loss_model(pred, targets)\n",
    "\n",
    "        running_val_loss.append(loss.item())\n",
    "        mean_val_loss = sum(running_val_loss)/len(running_val_loss)\n",
    "\n",
    "        true_answer += (torch.round(pred) == targets).all(dim=1).sum().item()\n",
    "\n",
    "    # Расчет значения метрики\n",
    "    running_val_acc = true_answer / len(val_set)\n",
    "\n",
    "print(f'val_loss = {mean_val_loss:.4f}, val_acc = {running_val_acc:.4f}')"
   ]
  },
  {
   "cell_type": "markdown",
   "id": "6d24d5b6-fae0-425a-adbe-803b69d11ba5",
   "metadata": {},
   "source": [
    "### Сохранение модели и всех параметров для возможности ее дообучения"
   ]
  },
  {
   "cell_type": "code",
   "execution_count": 62,
   "id": "be3b9aae-4d23-4cbf-9539-a28a15376408",
   "metadata": {},
   "outputs": [],
   "source": [
    "str_info = '''\n",
    "class MyModel(nn.Module):\n",
    "    def __init__(self, input, output):\n",
    "        super().__init__()\n",
    "        self.layer_1 = nn.Linear(input, 128)\n",
    "        self.layer_2 = nn.Linear(128, output)\n",
    "        self.act = nn.ReLU()\n",
    "\n",
    "    def forward(self, x):\n",
    "        x = self.layer_1(x)\n",
    "        x = self.act(x)\n",
    "        out = self.layer_2(x)\n",
    "        return out\n",
    "'''\n",
    "\n",
    "EPOCHS = 30\n",
    "save_epoch = 20\n",
    "best_loss = None"
   ]
  },
  {
   "cell_type": "code",
   "execution_count": 68,
   "id": "a062a3be-38db-458c-814a-9224aa289d75",
   "metadata": {},
   "outputs": [],
   "source": [
    "checkpoint = {\n",
    "    'info': str_info,\n",
    "    'state_model': model.state_dict(),\n",
    "    'state_opt': opt.state_dict(),\n",
    "    'state_lr_scheduler': lr_scheduler.state_dict(),\n",
    "    'loss':{\n",
    "        'train_loss': train_loss,\n",
    "        'val_loss': val_loss,\n",
    "        'best_loss': best_loss\n",
    "    },\n",
    "    'metric':{\n",
    "        'train_acc': train_acc,\n",
    "        'val_acc': val_acc\n",
    "    },\n",
    "    'lr': lr_list,\n",
    "    'epoch':{\n",
    "        'EPOCHS': EPOCHS,\n",
    "        'save_epoch': save_epoch\n",
    "    },\n",
    "    'threshold': threshold,\n",
    "}\n",
    "\n",
    "torch.save(checkpoint, 'model_state_dict_09_12_24')"
   ]
  },
  {
   "cell_type": "code",
   "execution_count": 69,
   "id": "e6ce58d6-1f76-4078-aade-c802b73344f8",
   "metadata": {},
   "outputs": [
    {
     "name": "stderr",
     "output_type": "stream",
     "text": [
      "/tmp/ipykernel_9910/1754070027.py:1: FutureWarning: You are using `torch.load` with `weights_only=False` (the current default value), which uses the default pickle module implicitly. It is possible to construct malicious pickle data which will execute arbitrary code during unpickling (See https://github.com/pytorch/pytorch/blob/main/SECURITY.md#untrusted-models for more details). In a future release, the default value for `weights_only` will be flipped to `True`. This limits the functions that could be executed during unpickling. Arbitrary objects will no longer be allowed to be loaded via this mode unless they are explicitly allowlisted by the user via `torch.serialization.add_safe_globals`. We recommend you start setting `weights_only=True` for any use case where you don't have full control of the loaded file. Please open an issue on GitHub for any issues related to this experimental feature.\n",
      "  load_model_state = torch.load('model_state_dict_09_12_24')\n"
     ]
    }
   ],
   "source": [
    "load_model_state = torch.load('model_state_dict_09_12_24')"
   ]
  },
  {
   "cell_type": "code",
   "execution_count": 70,
   "id": "067e9e6d-9a15-479d-8346-a9882b6c0433",
   "metadata": {},
   "outputs": [
    {
     "name": "stdout",
     "output_type": "stream",
     "text": [
      "{'factor': 0.1, 'min_lrs': [0], 'patience': 5, 'verbose': False, 'cooldown': 0, 'cooldown_counter': 0, 'mode': 'min', 'threshold': 0.0001, 'threshold_mode': 'rel', 'eps': 1e-08, 'last_epoch': 20, '_last_lr': [0.0001], 'mode_worse': inf, 'best': 0.03452729829102755, 'num_bad_epochs': 1}\n"
     ]
    }
   ],
   "source": [
    "print(load_model_state['state_lr_scheduler'])"
   ]
  },
  {
   "cell_type": "code",
   "execution_count": 71,
   "id": "68caede6-4a69-4d1d-9080-12009a9b77e6",
   "metadata": {},
   "outputs": [],
   "source": [
    "# создаем еще одну новую модель\n",
    "new_model_1 = MyModel(64*64, 2).to(device)\n",
    "# обновляем все зи загруженного словаря\n",
    "loss_model = nn.MSELoss()\n",
    "new_opt = torch.optim.Adam(new_model_1.parameters(), lr=0.001)\n",
    "new_lr_scheduler = torch.optim.lr_scheduler.ReduceLROnPlateau(new_opt)\n"
   ]
  },
  {
   "cell_type": "code",
   "execution_count": 73,
   "id": "a97af6a6-90c1-40fc-9b4c-bc5b591bb421",
   "metadata": {},
   "outputs": [],
   "source": [
    "# загрузим в новую модель состояние обученной модели\n",
    "new_model_1.load_state_dict(load_model_state['state_model'])\n",
    "# в новый оптимизатор состояние оптимизатора\n",
    "new_opt.load_state_dict(load_model_state['state_opt'])\n",
    "# в новый шедулер - состояние шедулера!)\n",
    "new_lr_scheduler.load_state_dict(load_model_state['state_lr_scheduler'])"
   ]
  },
  {
   "cell_type": "markdown",
   "id": "15034f97-a5a4-474d-9f34-f56c264e6012",
   "metadata": {},
   "source": [
    "Выполним следующюю ячейку и продолжим обучение с 21ой эпохи"
   ]
  },
  {
   "cell_type": "code",
   "execution_count": 76,
   "id": "7268009e-d94b-4049-bef6-e978d7246d0e",
   "metadata": {},
   "outputs": [
    {
     "name": "stderr",
     "output_type": "stream",
     "text": [
      "                                                                                                                     "
     ]
    },
    {
     "name": "stdout",
     "output_type": "stream",
     "text": [
      "Epoch [21/30], train_loss=0.0305, train_acc=0.9892, val_loss=0.0358, val_acc=0.9794, lr=0.0001\n"
     ]
    },
    {
     "name": "stderr",
     "output_type": "stream",
     "text": [
      "                                                                                                                     "
     ]
    },
    {
     "name": "stdout",
     "output_type": "stream",
     "text": [
      "Epoch [22/30], train_loss=0.0300, train_acc=0.9901, val_loss=0.0358, val_acc=0.9794, lr=0.0001\n"
     ]
    },
    {
     "name": "stderr",
     "output_type": "stream",
     "text": [
      "                                                                                                                     "
     ]
    },
    {
     "name": "stdout",
     "output_type": "stream",
     "text": [
      "Epoch [23/30], train_loss=0.0301, train_acc=0.9899, val_loss=0.0358, val_acc=0.9794, lr=0.0001\n"
     ]
    },
    {
     "name": "stderr",
     "output_type": "stream",
     "text": [
      "                                                                                                                     "
     ]
    },
    {
     "name": "stdout",
     "output_type": "stream",
     "text": [
      "Epoch [24/30], train_loss=0.0298, train_acc=0.9903, val_loss=0.0358, val_acc=0.9794, lr=0.0001\n"
     ]
    },
    {
     "name": "stderr",
     "output_type": "stream",
     "text": [
      "                                                                                                                     "
     ]
    },
    {
     "name": "stdout",
     "output_type": "stream",
     "text": [
      "Epoch [25/30], train_loss=0.0295, train_acc=0.9903, val_loss=0.0358, val_acc=0.9794, lr=0.0000\n"
     ]
    },
    {
     "name": "stderr",
     "output_type": "stream",
     "text": [
      "                                                                                                                     "
     ]
    },
    {
     "name": "stdout",
     "output_type": "stream",
     "text": [
      "Epoch [26/30], train_loss=0.0269, train_acc=0.9934, val_loss=0.0358, val_acc=0.9794, lr=0.0000\n"
     ]
    },
    {
     "name": "stderr",
     "output_type": "stream",
     "text": [
      "                                                                                                                     "
     ]
    },
    {
     "name": "stdout",
     "output_type": "stream",
     "text": [
      "Epoch [27/30], train_loss=0.0269, train_acc=0.9933, val_loss=0.0358, val_acc=0.9794, lr=0.0000\n"
     ]
    },
    {
     "name": "stderr",
     "output_type": "stream",
     "text": [
      "                                                                                                                     "
     ]
    },
    {
     "name": "stdout",
     "output_type": "stream",
     "text": [
      "Epoch [28/30], train_loss=0.0269, train_acc=0.9935, val_loss=0.0358, val_acc=0.9794, lr=0.0000\n"
     ]
    },
    {
     "name": "stderr",
     "output_type": "stream",
     "text": [
      "                                                                                                                     "
     ]
    },
    {
     "name": "stdout",
     "output_type": "stream",
     "text": [
      "Epoch [29/30], train_loss=0.0269, train_acc=0.9933, val_loss=0.0358, val_acc=0.9794, lr=0.0000\n"
     ]
    },
    {
     "name": "stderr",
     "output_type": "stream",
     "text": [
      "                                                                                                                     "
     ]
    },
    {
     "name": "stdout",
     "output_type": "stream",
     "text": [
      "Epoch [30/30], train_loss=0.0269, train_acc=0.9932, val_loss=0.0358, val_acc=0.9794, lr=0.0000\n"
     ]
    }
   ],
   "source": [
    "EPOCHS = load_model_state['epoch']['EPOCHS']\n",
    "save_epoch = load_model_state['epoch']['save_epoch'] \n",
    "\n",
    "\n",
    "train_loss = load_model_state['loss']['train_loss'] \n",
    "train_acc = load_model_state['metric']['train_acc'] \n",
    "val_loss = load_model_state['loss']['val_loss'] \n",
    "val_acc = load_model_state['metric']['val_acc'] \n",
    "lr_list = load_model_state['lr']\n",
    "\n",
    "best_loss = load_model_state['loss']['best_loss'] \n",
    "threshold = load_model_state['threshold']\n",
    "\n",
    "\n",
    "# Цикл обучения\n",
    "for epoch in range(save_epoch, EPOCHS):\n",
    "\n",
    "    # 1. Тренировка модели\n",
    "    new_model_1.train()\n",
    "    running_train_loss = []\n",
    "    true_answer = 0\n",
    "    # добавим трейн луп, чтобы видеть прогресс обучения модели\n",
    "    train_loop = tqdm(train_loader, leave=False)\n",
    "    for x, targets in train_loop:\n",
    "        # - Данные\n",
    "        # (batch.size, 1, 64, 64) --> (batch.size, 64*64)\n",
    "        x = x.reshape(-1, 64*64).to(device)\n",
    "        targets = targets.to(device)\n",
    "\n",
    "        # - Прямой проход + расчет ошибки модели\n",
    "        pred = new_model_1(x)\n",
    "        loss = loss_model(pred, targets)\n",
    "\n",
    "        # - Обратный проход\n",
    "        new_opt.zero_grad()\n",
    "        loss.backward()\n",
    "        # - Шаг оптимизации\n",
    "        new_opt.step()\n",
    "\n",
    "        running_train_loss.append(loss.item())\n",
    "        mean_train_loss = sum(running_train_loss)/len(running_train_loss)\n",
    "\n",
    "        true_answer += (torch.round(pred) == targets).all(dim=1).sum().item()\n",
    "\n",
    "        train_loop.set_description(f\"Epoch [{epoch+1}/{EPOCHS}], train_loss={mean_train_loss:.4f}\")\n",
    "\n",
    "\n",
    "    # 2. Расчет значения метрики\n",
    "    running_train_acc = true_answer / len(train_set)\n",
    "\n",
    "    # 3. Сохранение значения функции потерь и метрики\n",
    "    train_loss.append(mean_train_loss)\n",
    "    train_acc.append(running_train_acc)\n",
    "\n",
    "    # 4. Проверка модели (Валидация)\n",
    "    model.eval()\n",
    "    with torch.no_grad():\n",
    "        running_val_loss = []\n",
    "        true_answer = 0\n",
    "        for x, targets in val_loader:\n",
    "            # - Данные\n",
    "            # (batch.size, 1, 64, 64) --> (batch.size, 64*64)\n",
    "            x = x.reshape(-1, 64*64).to(device)\n",
    "            targets = targets.to(device)\n",
    "\n",
    "            # - Прямой проход + расчет ошибки модели\n",
    "            pred = model(x)\n",
    "            loss = loss_model(pred, targets)\n",
    "\n",
    "            running_val_loss.append(loss.item())\n",
    "            mean_val_loss = sum(running_val_loss)/len(running_val_loss)\n",
    "\n",
    "            true_answer += (torch.round(pred) == targets).all(dim=1).sum().item()\n",
    "\n",
    "        # 2. Расчет значения метрики\n",
    "        running_val_acc = true_answer / len(val_set)\n",
    "\n",
    "        # 3. Сохранение значения функции потерь и метрики    true_answer = 0\n",
    "\n",
    "        val_loss.append(mean_val_loss)\n",
    "        val_acc.append(running_val_acc)\n",
    "\n",
    "    new_lr_scheduler.step(mean_val_loss)\n",
    "    lr = new_lr_scheduler._last_lr[0]\n",
    "    lr_list.append(lr)\n",
    "\n",
    "    print(f\"Epoch [{epoch+1}/{EPOCHS}], train_loss={mean_train_loss:.4f}, train_acc={running_train_acc:.4f}, val_loss={mean_val_loss:.4f}, val_acc={running_val_acc:.4f}, lr={lr:.4f}\")\n",
    "\n",
    "    # добавляем две проверки, для сохранения лучшей модели\n",
    "    if best_loss is None:\n",
    "        best_loss = mean_val_loss\n",
    "    # это самое простое условие, но это неприемлемо\n",
    "    # if mean_val_loss < best_loss:\n",
    "    #     best_loss = mean_val_loss\n",
    "    # мы будем сохранять модель, чей лосс улучшился на ЗНАЧИМОЕ для нас значение\n",
    "    if mean_val_loss < best_loss - best_loss*threshold:\n",
    "        best_loss = mean_val_loss\n",
    "        \n",
    "        # так же сохраняем словарь в случае улучшения модели\n",
    "        checkpoint = {\n",
    "            'info': str_info,\n",
    "            'state_model': new_model_1.state_dict(),\n",
    "            'state_opt': new_opt.state_dict(),\n",
    "            'state_lr_scheduler': new_lr_scheduler.state_dict(),\n",
    "            'loss':{\n",
    "                'train_loss': train_loss,\n",
    "                'val_loss': val_loss,\n",
    "                'best_loss': best_loss\n",
    "            },\n",
    "            'metric':{\n",
    "                'train_acc': train_acc,\n",
    "                'val_acc': val_acc\n",
    "            },\n",
    "            'lr': lr_list,\n",
    "            'epoch':{\n",
    "                'EPOCHS': EPOCHS,\n",
    "                'save_epoch': epoch\n",
    "            },\n",
    "            'threshold': threshold,\n",
    "        }\n",
    "\n",
    "        \n",
    "\n",
    "        torch.save(model.state_dict(), f'model_state_dict_epoch_{epoch+1}.pt')\n",
    "        print(f\"На эпохе: {epoch+1}, сохранена модель со значением функции потерь на валидаци: {mean_val_loss:.4f}\", end='\\n\\n')"
   ]
  },
  {
   "cell_type": "raw",
   "id": "191f90d4-c22d-427c-bbd0-e804b0c40902",
   "metadata": {},
   "source": [
    "Кажись достигнут максимум качества)\n",
    "Либо я где то ошибся, но буду это выявлять уже завтра на свяжий глаз так сказать"
   ]
  },
  {
   "cell_type": "code",
   "execution_count": 77,
   "id": "0a4bfc61-863d-4404-a283-b9d1712b97b7",
   "metadata": {},
   "outputs": [
    {
     "data": {
      "image/png": "[encoded data removed]",
      "text/plain": [
       "<Figure size 640x480 with 1 Axes>"
      ]
     },
     "metadata": {},
     "output_type": "display_data"
    }
   ],
   "source": [
    "plt.plot(lr_list)\n",
    "plt.show()"
   ]
  },
  {
   "cell_type": "code",
   "execution_count": 78,
   "id": "93108206-e9a7-455d-affd-552dcab0399e",
   "metadata": {},
   "outputs": [
    {
     "data": {
      "image/png": "[encoded data removed]",
      "text/plain": [
       "<Figure size 640x480 with 1 Axes>"
      ]
     },
     "metadata": {},
     "output_type": "display_data"
    }
   ],
   "source": [
    "plt.plot(train_loss)\n",
    "plt.plot(val_loss)\n",
    "plt.legend(['loss_train', 'loss_val'])\n",
    "plt.show()"
   ]
  },
  {
   "cell_type": "code",
   "execution_count": 79,
   "id": "8c5dcf0c-05ed-4ccf-82d0-4c2dc3471897",
   "metadata": {},
   "outputs": [
    {
     "data": {
      "image/png": "[encoded data removed]",
      "text/plain": [
       "<Figure size 640x480 with 1 Axes>"
      ]
     },
     "metadata": {},
     "output_type": "display_data"
    }
   ],
   "source": [
    "plt.plot(train_acc)\n",
    "plt.plot(val_acc)\n",
    "plt.legend(['acc_train', 'acc_val'])\n",
    "plt.show()"
   ]
  },
  {
   "cell_type": "markdown",
   "id": "a0fb2a84-c432-4214-b069-1692fa761a73",
   "metadata": {},
   "source": [
    "### Нюанс при восстановлении данных 'cpu' или 'cuda'"
   ]
  },
  {
   "cell_type": "markdown",
   "id": "de495d7c-6f25-49a1-bd88-0cce00fdd53b",
   "metadata": {},
   "source": [
    "Допустим, мы обучали модель на графическом процессоре. Но теперь у нас нет возможности работать с ним.\n",
    "\n",
    "То есть мы можем работать только с cpu.\n",
    "Воспроизведем данную ситуацию."
   ]
  },
  {
   "cell_type": "code",
   "execution_count": 82,
   "id": "a374299e-cb51-47c3-b465-e3d14bcd26d5",
   "metadata": {},
   "outputs": [
    {
     "data": {
      "text/plain": [
       "'cpu'"
      ]
     },
     "execution_count": 82,
     "metadata": {},
     "output_type": "execute_result"
    }
   ],
   "source": [
    "device = 'cpu'\n",
    "device"
   ]
  },
  {
   "cell_type": "code",
   "execution_count": 83,
   "id": "763e8bf5-3947-4e8c-8797-149868fd7886",
   "metadata": {},
   "outputs": [
    {
     "name": "stderr",
     "output_type": "stream",
     "text": [
      "/tmp/ipykernel_9910/4176671990.py:2: FutureWarning: You are using `torch.load` with `weights_only=False` (the current default value), which uses the default pickle module implicitly. It is possible to construct malicious pickle data which will execute arbitrary code during unpickling (See https://github.com/pytorch/pytorch/blob/main/SECURITY.md#untrusted-models for more details). In a future release, the default value for `weights_only` will be flipped to `True`. This limits the functions that could be executed during unpickling. Arbitrary objects will no longer be allowed to be loaded via this mode unless they are explicitly allowlisted by the user via `torch.serialization.add_safe_globals`. We recommend you start setting `weights_only=True` for any use case where you don't have full control of the loaded file. Please open an issue on GitHub for any issues related to this experimental feature.\n",
      "  param_model = torch.load('model_state_dict_epoch_6.pt', map_location=device)\n"
     ]
    },
    {
     "data": {
      "text/plain": [
       "OrderedDict([('layer_1.weight',\n",
       "              tensor([[ 0.0240,  0.0192,  0.0182,  ...,  0.0087,  0.0230,  0.0262],\n",
       "                      [ 0.0056, -0.0334, -0.0120,  ...,  0.0070, -0.0136, -0.0029],\n",
       "                      [ 0.0145, -0.0094,  0.0012,  ...,  0.0116, -0.0091, -0.0081],\n",
       "                      ...,\n",
       "                      [ 0.0422,  0.0394,  0.0195,  ...,  0.0141,  0.0301,  0.0348],\n",
       "                      [ 0.0382,  0.0199,  0.0279,  ...,  0.0282,  0.0250,  0.0335],\n",
       "                      [-0.0038, -0.0188, -0.0107,  ..., -0.0056, -0.0300,  0.0001]])),\n",
       "             ('layer_1.bias',\n",
       "              tensor([-1.4907e-02,  7.9568e-03,  2.1328e-02, -1.1968e-02,  9.4071e-04,\n",
       "                      -1.6254e-02,  1.9897e-02,  6.6543e-03, -1.2949e-02,  6.3609e-03,\n",
       "                      -2.8500e-02, -9.8291e-03, -1.7069e-02, -3.4238e-03,  6.6955e-03,\n",
       "                       1.4439e-02, -1.0026e-02, -1.2440e-02,  4.6242e-02, -8.8028e-03,\n",
       "                       1.2374e-02,  1.0508e-03, -5.6698e-03, -1.3359e-02,  5.8842e-03,\n",
       "                       1.0661e-02, -4.9968e-03,  5.7271e-03, -1.0065e-02, -1.9577e-02,\n",
       "                       4.0917e-03, -7.4421e-03, -5.5448e-03,  8.2265e-03, -3.7773e-03,\n",
       "                       1.7083e-02, -1.3289e-02,  3.8935e-02,  2.2625e-03, -4.3326e-03,\n",
       "                       1.5528e-02, -1.8313e-02, -1.8093e-02, -6.7642e-03, -1.3604e-03,\n",
       "                       3.8032e-02, -5.3980e-03,  5.5029e-02, -1.0720e-02, -5.1680e-03,\n",
       "                      -1.0087e-02,  1.6417e-02, -3.5282e-03, -1.7685e-02, -1.0711e-03,\n",
       "                       3.3954e-03, -2.0571e-03, -3.0136e-03, -1.6381e-02,  7.7703e-03,\n",
       "                      -2.0476e-02, -1.7878e-02,  5.9561e-03,  6.2295e-03, -2.5911e-03,\n",
       "                       2.2279e-02,  2.6032e-02,  2.3866e-03, -8.6094e-03,  1.9207e-02,\n",
       "                      -8.4639e-03, -5.8292e-03,  4.6864e-03, -2.1167e-02,  9.3037e-03,\n",
       "                       2.9416e-03, -8.0610e-03, -7.7294e-03, -1.2500e-02, -1.2854e-02,\n",
       "                      -5.8375e-03, -1.0606e-02, -2.1136e-02,  5.1879e-02,  1.3221e-02,\n",
       "                       1.6014e-02, -2.0353e-03,  1.6337e-03, -7.6025e-03,  7.7965e-03,\n",
       "                      -7.3056e-03,  4.9803e-02, -1.1519e-02,  7.6867e-03, -4.8486e-03,\n",
       "                       7.5905e-03,  2.5785e-02,  1.3277e-02, -1.8456e-02,  8.7340e-03,\n",
       "                       3.2629e-02,  1.6382e-02, -1.5684e-03, -9.7064e-03,  5.7609e-03,\n",
       "                       1.1130e-03, -1.8607e-02, -7.2288e-03,  6.5706e-05,  5.7590e-03,\n",
       "                      -4.8145e-03, -8.4082e-03,  1.1552e-02,  1.4762e-03, -1.3834e-02,\n",
       "                       4.6687e-03,  4.3644e-04, -5.4526e-03,  7.5531e-03,  2.6019e-03,\n",
       "                       6.2869e-03,  2.8245e-03,  7.4897e-03, -8.3061e-03, -1.6430e-02,\n",
       "                      -2.5580e-02, -4.3043e-02,  1.0436e-02])),\n",
       "             ('layer_2.weight',\n",
       "              tensor([[-0.0648, -0.0002, -0.0006,  0.0291,  0.0041, -0.0594,  0.0211,  0.0010,\n",
       "                       -0.0502, -0.0020, -0.0731, -0.0637,  0.0370, -0.0781,  0.0038,  0.0566,\n",
       "                        0.0216,  0.0097,  0.0185,  0.0451,  0.0026,  0.0008, -0.0147, -0.0173,\n",
       "                       -0.0303, -0.0527,  0.0046,  0.0017,  0.0042,  0.0828, -0.0236, -0.0358,\n",
       "                        0.0852,  0.0220,  0.0067, -0.0078, -0.0347,  0.0623,  0.0130, -0.0725,\n",
       "                        0.0033, -0.0233, -0.0111, -0.0729, -0.0001,  0.0602, -0.0317,  0.0525,\n",
       "                        0.0300, -0.0142, -0.0472,  0.0104, -0.0230, -0.0314,  0.0376, -0.0083,\n",
       "                       -0.0669, -0.0999,  0.0137,  0.0026,  0.0531, -0.0683,  0.0234,  0.0044,\n",
       "                        0.0345,  0.0504,  0.0290,  0.0122, -0.0245,  0.0390,  0.0418, -0.0203,\n",
       "                        0.0080, -0.0178,  0.0034, -0.0122, -0.0254, -0.0230,  0.0579, -0.0319,\n",
       "                       -0.0104,  0.0153, -0.0364,  0.0637,  0.0759, -0.0002,  0.0023,  0.0044,\n",
       "                        0.0052, -0.0559, -0.0354,  0.0544,  0.0022, -0.0569, -0.0044,  0.0004,\n",
       "                       -0.0063, -0.0814, -0.0748, -0.0019,  0.0547,  0.0083,  0.0018, -0.0542,\n",
       "                       -0.0028,  0.0560, -0.0398,  0.0200, -0.0742,  0.0073, -0.0685,  0.0390,\n",
       "                        0.0624, -0.0693, -0.0086,  0.0766,  0.0431, -0.0855, -0.0528, -0.0299,\n",
       "                       -0.0030,  0.0148,  0.0017, -0.0329,  0.0083, -0.0236, -0.0176,  0.0649],\n",
       "                      [ 0.0184,  0.0224, -0.0005, -0.0773, -0.0461,  0.0558,  0.0449,  0.0010,\n",
       "                       -0.0042,  0.0019, -0.0094,  0.0344, -0.0290,  0.0254,  0.0054, -0.0449,\n",
       "                       -0.0141,  0.0007,  0.0549, -0.0107, -0.0036, -0.0011,  0.0063,  0.0236,\n",
       "                       -0.0709,  0.0529,  0.0050, -0.0001,  0.0545,  0.0772, -0.0383, -0.0272,\n",
       "                       -0.0798, -0.0067, -0.0582,  0.0154, -0.0151,  0.0563, -0.0006,  0.0750,\n",
       "                        0.0044,  0.0781,  0.0103, -0.0098, -0.0016,  0.0279, -0.0698,  0.0715,\n",
       "                       -0.0597, -0.0292,  0.0489,  0.1174, -0.0487, -0.0322, -0.0254,  0.0244,\n",
       "                        0.0388,  0.0518, -0.0797, -0.0007, -0.0770,  0.0125, -0.0685,  0.0043,\n",
       "                       -0.0190,  0.0293,  0.0547, -0.0692,  0.0091,  0.0123,  0.0596,  0.0410,\n",
       "                       -0.0505, -0.0180,  0.0013, -0.0350,  0.0561,  0.0018, -0.0687,  0.0385,\n",
       "                        0.0207,  0.0023, -0.0549,  0.0526, -0.0528, -0.0006,  0.0035, -0.0390,\n",
       "                        0.0079, -0.0761,  0.0152,  0.0510,  0.0043,  0.0173, -0.0595,  0.0020,\n",
       "                        0.0194, -0.0424, -0.0063,  0.0013,  0.0602,  0.0059,  0.0022, -0.0543,\n",
       "                        0.0041, -0.0787, -0.0471, -0.0689, -0.0507, -0.0812, -0.0380, -0.0432,\n",
       "                       -0.0482,  0.0785,  0.0260, -0.0036, -0.0603, -0.0481, -0.0313, -0.0264,\n",
       "                       -0.0294, -0.0548,  0.0035,  0.0734, -0.0279, -0.0123,  0.0272, -0.0443]])),\n",
       "             ('layer_2.bias', tensor([0.1012, 0.1083]))])"
      ]
     },
     "execution_count": 83,
     "metadata": {},
     "output_type": "execute_result"
    }
   ],
   "source": [
    "# Загрузка параметров модели\n",
    "param_model = torch.load('model_state_dict_epoch_6.pt', map_location=device)\n",
    "param_model"
   ]
  },
  {
   "cell_type": "markdown",
   "id": "f2125533-244e-4a7d-8925-37bdd1196f07",
   "metadata": {},
   "source": [
    "Теперь все тензоры не лежат на графическом процессоре"
   ]
  }
 ],
 "metadata": {
  "kernelspec": {
   "display_name": "Python 3 (ipykernel)",
   "language": "python",
   "name": "python3"
  },
  "language_info": {
   "codemirror_mode": {
    "name": "ipython",
    "version": 3
   },
   "file_extension": ".py",
   "mimetype": "text/x-python",
   "name": "python",
   "nbconvert_exporter": "python",
   "pygments_lexer": "ipython3",
   "version": "3.12.3"
  }
 },
 "nbformat": 4,
 "nbformat_minor": 5
}
