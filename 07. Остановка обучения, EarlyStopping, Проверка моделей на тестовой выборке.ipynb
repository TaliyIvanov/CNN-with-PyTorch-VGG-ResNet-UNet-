{
 "cells": [
  {
   "cell_type": "markdown",
   "id": "55ef603f-1b2b-43a8-84ac-6461dc692050",
   "metadata": {},
   "source": [
    "### Введение"
   ]
  },
  {
   "cell_type": "markdown",
   "id": "8f1608c9-b9e8-4d13-a9bc-db8ec6dbaee7",
   "metadata": {},
   "source": [
    "Прежде чем реализовать какой либо критерий остановки обучения - необходимо понять, когда и почему обучение нужно останавливать.\n",
    "\n",
    "Бывают разные ситуации.\n",
    "\n",
    "В данном ноутбуке разобраны две ситуации:\n",
    "- остановка при переобучении;\n",
    "- выход модели на \"плато\" обучения (нет значимых улучшений в течении n эпох).\n",
    "\n",
    "Хоть это и разные случаи, но и в первом и во втором, модель с какой то эпохи перестает улучшаться."
   ]
  },
  {
   "cell_type": "markdown",
   "id": "95242d26-f45a-4c7b-b21a-cf2c07eb041b",
   "metadata": {
    "jp-MarkdownHeadingCollapsed": true
   },
   "source": [
    "### Импорты"
   ]
  },
  {
   "cell_type": "code",
   "execution_count": 1,
   "id": "5ed05e1b-ff1d-4992-b3d8-b7bb49dce15a",
   "metadata": {},
   "outputs": [],
   "source": [
    "import torch\n",
    "import torch.nn as nn\n",
    "\n",
    "from torch.utils.data import Dataset, DataLoader, random_split\n",
    "\n",
    "import torchvision\n",
    "from torchvision.transforms import v2\n",
    "\n",
    "import os\n",
    "import matplotlib.pyplot as plt\n",
    "import numpy as np\n",
    "\n",
    "import json\n",
    "from tqdm import tqdm\n",
    "from PIL import Image\n",
    "\n",
    "plt.style.use('dark_background')"
   ]
  },
  {
   "cell_type": "markdown",
   "id": "ceed8669-c1dc-4bba-9a66-5d243ebef2a2",
   "metadata": {
    "jp-MarkdownHeadingCollapsed": true
   },
   "source": [
    "### Создание данных для задачи классификации"
   ]
  },
  {
   "cell_type": "markdown",
   "id": "42be0366-9f3b-4cbc-8a66-f96e0538ac94",
   "metadata": {},
   "source": [
    "Т.к. ушел с гугл колаб на локальную машину, понадобилось создать локальную версию данных, заодно попрактиковался"
   ]
  },
  {
   "cell_type": "code",
   "execution_count": 2,
   "id": "d322163c-f2f7-4086-9374-ea5faae7aaff",
   "metadata": {},
   "outputs": [],
   "source": [
    "import struct\n",
    "import sys\n",
    "\n",
    "from array import array\n",
    "from os import path"
   ]
  },
  {
   "cell_type": "code",
   "execution_count": 4,
   "id": "a39f91b4-defe-47f3-bfab-78bd90b146c8",
   "metadata": {
    "scrolled": true
   },
   "outputs": [
    {
     "name": "stdout",
     "output_type": "stream",
     "text": [
      "Downloading http://yann.lecun.com/exdb/mnist/train-images-idx3-ubyte.gz\n",
      "Failed to download (trying next):\n",
      "HTTP Error 403: Forbidden\n",
      "\n",
      "Downloading https://ossci-datasets.s3.amazonaws.com/mnist/train-images-idx3-ubyte.gz\n",
      "Downloading https://ossci-datasets.s3.amazonaws.com/mnist/train-images-idx3-ubyte.gz to sample_data/MNIST/raw/train-images-idx3-ubyte.gz\n"
     ]
    },
    {
     "name": "stderr",
     "output_type": "stream",
     "text": [
      "\n",
      "00%|███████████████████████████████████████| 9.91M/9.91M [00:19<00:00, 506kB/s]"
     ]
    },
    {
     "name": "stdout",
     "output_type": "stream",
     "text": [
      "Extracting sample_data/MNIST/raw/train-images-idx3-ubyte.gz to sample_data/MNIST/raw\n",
      "\n",
      "Downloading http://yann.lecun.com/exdb/mnist/train-labels-idx1-ubyte.gz\n",
      "Failed to download (trying next):\n",
      "<urlopen error [Errno -3] Temporary failure in name resolution>\n",
      "\n",
      "Downloading https://ossci-datasets.s3.amazonaws.com/mnist/train-labels-idx1-ubyte.gz\n",
      "Downloading https://ossci-datasets.s3.amazonaws.com/mnist/train-labels-idx1-ubyte.gz to sample_data/MNIST/raw/train-labels-idx1-ubyte.gz\n"
     ]
    },
    {
     "name": "stderr",
     "output_type": "stream",
     "text": [
      "\n",
      "00%|███████████████████████████████████████| 28.9k/28.9k [00:00<00:00, 371kB/s]"
     ]
    },
    {
     "name": "stdout",
     "output_type": "stream",
     "text": [
      "Extracting sample_data/MNIST/raw/train-labels-idx1-ubyte.gz to sample_data/MNIST/raw\n",
      "\n",
      "Downloading http://yann.lecun.com/exdb/mnist/t10k-images-idx3-ubyte.gz\n",
      "Failed to download (trying next):\n",
      "HTTP Error 403: Forbidden\n",
      "\n",
      "Downloading https://ossci-datasets.s3.amazonaws.com/mnist/t10k-images-idx3-ubyte.gz\n",
      "Downloading https://ossci-datasets.s3.amazonaws.com/mnist/t10k-images-idx3-ubyte.gz to sample_data/MNIST/raw/t10k-images-idx3-ubyte.gz\n"
     ]
    },
    {
     "name": "stderr",
     "output_type": "stream",
     "text": [
      "\n",
      "00%|██████████████████████████████████████| 1.65M/1.65M [00:00<00:00, 3.46MB/s]"
     ]
    },
    {
     "name": "stdout",
     "output_type": "stream",
     "text": [
      "Extracting sample_data/MNIST/raw/t10k-images-idx3-ubyte.gz to sample_data/MNIST/raw\n",
      "\n",
      "Downloading http://yann.lecun.com/exdb/mnist/t10k-labels-idx1-ubyte.gz\n",
      "Failed to download (trying next):\n",
      "HTTP Error 403: Forbidden\n",
      "\n",
      "Downloading https://ossci-datasets.s3.amazonaws.com/mnist/t10k-labels-idx1-ubyte.gz\n",
      "Downloading https://ossci-datasets.s3.amazonaws.com/mnist/t10k-labels-idx1-ubyte.gz to sample_data/MNIST/raw/t10k-labels-idx1-ubyte.gz\n"
     ]
    },
    {
     "name": "stderr",
     "output_type": "stream",
     "text": [
      "100%|██████████████████████████████████████| 4.54k/4.54k [00:00<00:00, 4.11MB/s]"
     ]
    },
    {
     "name": "stdout",
     "output_type": "stream",
     "text": [
      "Extracting sample_data/MNIST/raw/t10k-labels-idx1-ubyte.gz to sample_data/MNIST/raw\n",
      "\n"
     ]
    },
    {
     "name": "stderr",
     "output_type": "stream",
     "text": [
      "\n"
     ]
    }
   ],
   "source": [
    "train_dataset = torchvision.datasets.MNIST(root='sample_data/', train=True, download=True)\n",
    "test_dataset =torchvision.datasets.MNIST(root='sample_data/', train=False, download=True)"
   ]
  },
  {
   "cell_type": "code",
   "execution_count": 5,
   "id": "72a12997-378a-4abf-9170-96ece07b2f6a",
   "metadata": {},
   "outputs": [],
   "source": [
    "def read(dataset):\n",
    "    if dataset == 'training':\n",
    "        path_img = 'sample_data/MNIST/raw/train-images-idx3-ubyte'\n",
    "        path_lbl = 'sample_data/MNIST/raw/train-labels-idx1-ubyte'\n",
    "\n",
    "    elif dataset == 'testing':\n",
    "        path_img = 'sample_data/MNIST/raw/t10k-images-idx3-ubyte'\n",
    "        path_lbl = 'sample_data/MNIST/raw/t10k-labels-idx1-ubyte'\n",
    "\n",
    "    else:\n",
    "        raise ValueError(\"dataset must be 'testing' or 'training'\")\n",
    "\n",
    "    with open(path_lbl, 'rb') as f_lable:\n",
    "        _, size = struct.unpack('>II', f_lable.read(8))\n",
    "        lbl = array('b', f_lable.read())\n",
    "\n",
    "    with open(path_img, 'rb') as f_img:\n",
    "        _, size, rows, cols = struct.unpack('>IIII', f_img.read(16))\n",
    "        img = array('B', f_img.read())\n",
    "\n",
    "    return lbl, img, size, rows, cols"
   ]
  },
  {
   "cell_type": "code",
   "execution_count": 6,
   "id": "282cb100-965f-457e-a587-a7e72b5c8981",
   "metadata": {},
   "outputs": [],
   "source": [
    "def write_dataset(labels, data, size, rows, cols, output_dir):\n",
    "\n",
    "    classes = {i: f'class_{i}' for i in range(10)}\n",
    "\n",
    "    output_dirs = [\n",
    "        path.join(output_dir, classes[i])\n",
    "        for i in range(10)\n",
    "    ]\n",
    "    for dir in output_dirs:\n",
    "        if not path.exists(dir):\n",
    "            os.makedirs(dir)\n",
    "\n",
    "    # write data\n",
    "    for (i, label) in enumerate(labels):\n",
    "        output_filename = path.join(output_dirs[label], str(i) + '.jpg')\n",
    "        print('writing ' + output_filename)\n",
    "\n",
    "        with open(output_filename, 'wb') as h:\n",
    "            data_i = [\n",
    "                data[(i*rows*cols + j*cols) : (i*rows*cols + (j+1)*cols)]\n",
    "                for j in range(rows)\n",
    "            ]\n",
    "            data_array = np.asarray(data_i)\n",
    "\n",
    "            im = Image.fromarray(data_array)\n",
    "            im.save(output_filename)"
   ]
  },
  {
   "cell_type": "code",
   "execution_count": 7,
   "id": "9f80afc0-18f8-4e3e-b7f0-dcd76f18f0c2",
   "metadata": {},
   "outputs": [],
   "source": [
    "output_path = 'mnist'"
   ]
  },
  {
   "cell_type": "code",
   "execution_count": null,
   "id": "8b6ca405-075d-4f5f-ab75-059cb12fea0b",
   "metadata": {},
   "outputs": [],
   "source": [
    "for dataset in ['training', 'testing']:\n",
    "    write_dataset(*read(dataset), path.join(output_path, dataset))"
   ]
  },
  {
   "cell_type": "markdown",
   "id": "fed857cf-1867-4aed-81ea-f6a2b27be2ee",
   "metadata": {},
   "source": [
    "### Способ 1: \"Остановка при переобучении\""
   ]
  },
  {
   "cell_type": "markdown",
   "id": "1d007c31-f555-4c4b-904f-093014c2c2f1",
   "metadata": {},
   "source": [
    "Способ №1 будет разобран на примере задачи классификации датасета MNIST.\n",
    "\n",
    "В данном разделе рассматривается ситуация остановки при переобучении."
   ]
  },
  {
   "cell_type": "code",
   "execution_count": 134,
   "id": "9e07c5df-31f4-4c36-bb42-e261b4a50be2",
   "metadata": {},
   "outputs": [
    {
     "data": {
      "text/plain": [
       "'cuda'"
      ]
     },
     "execution_count": 134,
     "metadata": {},
     "output_type": "execute_result"
    }
   ],
   "source": [
    "device = 'cuda' if torch.cuda.is_available() else 'cpu'\n",
    "device"
   ]
  },
  {
   "cell_type": "code",
   "execution_count": 117,
   "id": "6607e87b-ee9a-4f8e-890a-1d415fc176a8",
   "metadata": {},
   "outputs": [
    {
     "data": {
      "text/plain": [
       "'cpu'"
      ]
     },
     "execution_count": 117,
     "metadata": {},
     "output_type": "execute_result"
    }
   ],
   "source": [
    "# device = 'cpu'\n",
    "# device"
   ]
  },
  {
   "cell_type": "markdown",
   "id": "eb42bf33-ba99-4173-a3a7-80804ffbb872",
   "metadata": {},
   "source": [
    "#### Создание Dataset"
   ]
  },
  {
   "cell_type": "code",
   "execution_count": 57,
   "id": "37301887-3510-40ce-b339-ccf34e554c35",
   "metadata": {},
   "outputs": [],
   "source": [
    "# данный код из урока, но он подходит только для 'cpu'\n",
    "# в ячейке ниже модернизированная версия, чтобы можно было обучать модель на 'cuda'\n",
    "# class MNISTDataset(Dataset):\n",
    "#     def __init__(self, path, transform=None):\n",
    "#         self.path = path\n",
    "#         self.transform = transform\n",
    "\n",
    "#         self.len_dataset = 0 # длина датасет\n",
    "#         self.data_list = [] # список кортежей путей до файла и позиции в onehot векторе\n",
    "\n",
    "#         # итерируемся по папке с основными файлами\n",
    "#         for path_dir, dir_list, file_list in os.walk(path):\n",
    "#             if path_dir == path:\n",
    "#                 self.classes = sorted(dir_list)\n",
    "#                 self.class_to_idx = {\n",
    "#                     cls_name: i for i, cls_name in enumerate(self.classes)\n",
    "#                     }\n",
    "#                 continue\n",
    "\n",
    "#             cls = path_dir.split('/')[-1]\n",
    "\n",
    "#             for name_file in file_list:\n",
    "#                 file_path = os.path.join(path_dir, name_file)\n",
    "#                 self.data_list.append((file_path, self.class_to_idx[cls]))\n",
    "\n",
    "#             self.len_dataset += len(file_list)\n",
    "\n",
    "#     def __len__(self):\n",
    "#         return self.len_dataset\n",
    "\n",
    "#     def __getitem__(self, index):\n",
    "#         file_path, target = self.data_list[index]\n",
    "#         sample = Image.open(file_path)\n",
    "\n",
    "#         if self.transform is not None:\n",
    "#             sample = self.transform(sample)\n",
    "\n",
    "#         return sample, target"
   ]
  },
  {
   "cell_type": "markdown",
   "id": "982b37ed-c14d-4327-b11e-eb4eaaadead3",
   "metadata": {},
   "source": [
    "В ячейке выше код для загрузки датасет для задачи классификации из предыдущих ноутбуков.\n",
    "\n",
    "Автор курса в рамках видео рассматривает решение задачи на cpu. Я же решил собрать датасет, чтобы можно было решать и на cpu и на gpu.\n",
    "\n",
    "В ячейке ниже класс для формирования датасета немного изменен.\n",
    "\n",
    "Его можно использовать для решения задачи классификации в том числе и на графическом процессоре."
   ]
  },
  {
   "cell_type": "code",
   "execution_count": 118,
   "id": "33d0e02c-1800-4ae2-a330-aaaad869cc48",
   "metadata": {},
   "outputs": [],
   "source": [
    "### Пробуем для 'cuda'\n",
    "class MNISTDataset(Dataset):\n",
    "    def __init__(self, path, transform=None):\n",
    "        self.path = path\n",
    "        self.transform = transform\n",
    "\n",
    "        self.len_dataset = 0 # длина датасет\n",
    "        self.data_list = [] # список кортежей путей до файла и позиции в onehot векторе\n",
    "\n",
    "        # итерируемся по папке с основными файлами\n",
    "        for path_dir, dir_list, file_list in os.walk(path):\n",
    "            if path_dir == path:\n",
    "                self.classes = sorted(dir_list)\n",
    "                self.class_to_idx = {\n",
    "                    cls_name: i for i, cls_name in enumerate(self.classes)\n",
    "                    }\n",
    "                continue\n",
    "\n",
    "            cls = path_dir.split('/')[-1]\n",
    "\n",
    "            for name_file in file_list:\n",
    "                file_path = os.path.join(path_dir, name_file)\n",
    "                self.data_list.append((file_path, self.class_to_idx[cls]))\n",
    "\n",
    "            self.len_dataset += len(file_list)\n",
    "\n",
    "    def __len__(self):\n",
    "        return self.len_dataset\n",
    "\n",
    "    def __getitem__(self, index):\n",
    "        file_path, target = self.data_list[index]\n",
    "        sample = Image.open(file_path)\n",
    "\n",
    "        if self.transform is not None:\n",
    "            sample = self.transform(sample)\n",
    "            target = self.transform(target)\n",
    "\n",
    "        return sample, target"
   ]
  },
  {
   "cell_type": "code",
   "execution_count": 119,
   "id": "f15bc103-3acb-4bb0-8567-726e7e8d909d",
   "metadata": {},
   "outputs": [],
   "source": [
    "# Преобразование для изображений\n",
    "transform = v2.Compose(\n",
    "    [\n",
    "        v2.ToImage(),\n",
    "        v2.ToDtype(torch.float32, scale=True),\n",
    "        v2.Normalize(mean=(0.5, ), std=(0.5, ))\n",
    "    ]\n",
    ")"
   ]
  },
  {
   "cell_type": "code",
   "execution_count": 120,
   "id": "7bb1a8ee-8f53-4798-b465-872356173498",
   "metadata": {},
   "outputs": [],
   "source": [
    "# создание датасетов\n",
    "train_data = MNISTDataset('mnist/training', transform=transform)\n",
    "test_data = MNISTDataset('mnist/testing', transform=transform)"
   ]
  },
  {
   "cell_type": "code",
   "execution_count": 121,
   "id": "e72766ad-23ce-4e86-a26b-f683b1a2e85e",
   "metadata": {},
   "outputs": [],
   "source": [
    "train_data, val_data = random_split(train_data, [0.7, 0.3])"
   ]
  },
  {
   "cell_type": "code",
   "execution_count": 122,
   "id": "a7b353a5-1476-4ef9-ace4-d5a1fd4af7f0",
   "metadata": {},
   "outputs": [],
   "source": [
    "# Создание загрузчиков\n",
    "train_loader = DataLoader(train_data, batch_size=64, shuffle=True)\n",
    "val_loader = DataLoader(val_data, batch_size=64, shuffle=False)\n",
    "test_loader = DataLoader(test_data, batch_size=64, shuffle=False)"
   ]
  },
  {
   "cell_type": "markdown",
   "id": "8431477a-532e-44cf-ac8a-abe4073f4669",
   "metadata": {},
   "source": [
    "#### Создание модели"
   ]
  },
  {
   "cell_type": "code",
   "execution_count": 111,
   "id": "f35853b8-5362-4ef7-9ebb-e61248cac024",
   "metadata": {},
   "outputs": [],
   "source": [
    "class MyModel(nn.Module):\n",
    "    def __init__(self,input,output):\n",
    "        super().__init__()\n",
    "        self.layer_1 = nn.Linear(input, 128)\n",
    "        self.layer_2 = nn.Linear(128, output)\n",
    "        self.act = nn.ReLU()\n",
    "\n",
    "    def forward(self, x):\n",
    "        x = self.layer_1(x)\n",
    "        x = self.act(x)\n",
    "        out = self.layer_2(x)\n",
    "        return out"
   ]
  },
  {
   "cell_type": "code",
   "execution_count": 123,
   "id": "ef0c28a9-615d-47f3-a4e2-1518c680ad38",
   "metadata": {},
   "outputs": [],
   "source": [
    "model = MyModel(784, 10).to(device)"
   ]
  },
  {
   "cell_type": "code",
   "execution_count": 124,
   "id": "a76c8931-b1cf-4728-8bf8-53ca2ecb2b93",
   "metadata": {},
   "outputs": [
    {
     "data": {
      "text/plain": [
       "torch.Size([16, 10])"
      ]
     },
     "execution_count": 124,
     "metadata": {},
     "output_type": "execute_result"
    }
   ],
   "source": [
    "# Проверяем правильность построения модели\n",
    "input = torch.rand([16, 784], dtype=torch.float32).to(device)\n",
    "\n",
    "out = model(input)\n",
    "out.shape    # (16,10)"
   ]
  },
  {
   "cell_type": "code",
   "execution_count": 125,
   "id": "1d19de77-bad7-4560-b85c-064c1089a2f4",
   "metadata": {},
   "outputs": [],
   "source": [
    "# выбираем функцию потерь и оптимизатор градиентного спуска\n",
    "loss_model = nn.CrossEntropyLoss()\n",
    "opt = torch.optim.Adam(model.parameters(), lr=0.001)\n",
    "lr_scheduler = torch.optim.lr_scheduler.ReduceLROnPlateau(opt, patience=5)"
   ]
  },
  {
   "cell_type": "markdown",
   "id": "d3dfb726-2431-4a2d-a707-fe7cc29dd74e",
   "metadata": {},
   "source": [
    "#### Тренировка модели"
   ]
  },
  {
   "cell_type": "code",
   "execution_count": 126,
   "id": "24c28fcc-6ef9-4640-b313-7efce5205fa1",
   "metadata": {},
   "outputs": [],
   "source": [
    "EPOCHS = 50\n",
    "train_loss = []\n",
    "train_acc = []\n",
    "val_loss = []\n",
    "val_acc = []\n",
    "lr_list = []\n",
    "best_loss = None\n",
    "threshold = 0.5\n",
    "count = 0"
   ]
  },
  {
   "cell_type": "markdown",
   "id": "444ecf50-e928-47c6-a459-203a27e5ed22",
   "metadata": {},
   "source": [
    "В цикл обучения была добавлена проверка.\n",
    "\n",
    "Она достаточно простая. Мы создаем переменную счетчика.\n",
    "\n",
    "Если счетчик больше или равен 5 эпохам, то мы прекращаем обучение.\n",
    "\n",
    "Важно понимать, что мы так же добавили условие в часть кода с сохранением модели.\n",
    "\n",
    "Если модель сохраняется, то счетчик обнуляется.\n",
    "\n",
    "Таким образом мы соблюдаем условие получения и сохранения значимых изменений модели."
   ]
  },
  {
   "cell_type": "code",
   "execution_count": 127,
   "id": "35a0f0b3-1fa4-45c2-aadd-39c1f8f2c6df",
   "metadata": {},
   "outputs": [
    {
     "name": "stderr",
     "output_type": "stream",
     "text": [
      "                                                                                "
     ]
    },
    {
     "name": "stdout",
     "output_type": "stream",
     "text": [
      "Epoch [1/50], train_loss=0.4304, train_acc=0.8745, val_loss=0.3077, val_acc=0.9075\n"
     ]
    },
    {
     "name": "stderr",
     "output_type": "stream",
     "text": [
      "                                                                                "
     ]
    },
    {
     "name": "stdout",
     "output_type": "stream",
     "text": [
      "Epoch [2/50], train_loss=0.2419, train_acc=0.9282, val_loss=0.2094, val_acc=0.9393\n"
     ]
    },
    {
     "name": "stderr",
     "output_type": "stream",
     "text": [
      "                                                                                "
     ]
    },
    {
     "name": "stdout",
     "output_type": "stream",
     "text": [
      "Epoch [3/50], train_loss=0.1772, train_acc=0.9477, val_loss=0.1740, val_acc=0.9483\n"
     ]
    },
    {
     "name": "stderr",
     "output_type": "stream",
     "text": [
      "                                                                                "
     ]
    },
    {
     "name": "stdout",
     "output_type": "stream",
     "text": [
      "Epoch [4/50], train_loss=0.1420, train_acc=0.9569, val_loss=0.1813, val_acc=0.9461\n"
     ]
    },
    {
     "name": "stderr",
     "output_type": "stream",
     "text": [
      "                                                                                "
     ]
    },
    {
     "name": "stdout",
     "output_type": "stream",
     "text": [
      "Epoch [5/50], train_loss=0.1178, train_acc=0.9653, val_loss=0.1339, val_acc=0.9603\n",
      "На эпохе: 5, сохранена модель со значением функции потерь на валидаци: 0.1339\n",
      "\n"
     ]
    },
    {
     "name": "stderr",
     "output_type": "stream",
     "text": [
      "                                                                                "
     ]
    },
    {
     "name": "stdout",
     "output_type": "stream",
     "text": [
      "Epoch [6/50], train_loss=0.1007, train_acc=0.9705, val_loss=0.1521, val_acc=0.9547\n"
     ]
    },
    {
     "name": "stderr",
     "output_type": "stream",
     "text": [
      "                                                                                "
     ]
    },
    {
     "name": "stdout",
     "output_type": "stream",
     "text": [
      "Epoch [7/50], train_loss=0.0895, train_acc=0.9720, val_loss=0.1163, val_acc=0.9653\n"
     ]
    },
    {
     "name": "stderr",
     "output_type": "stream",
     "text": [
      "                                                                                "
     ]
    },
    {
     "name": "stdout",
     "output_type": "stream",
     "text": [
      "Epoch [8/50], train_loss=0.0773, train_acc=0.9764, val_loss=0.1254, val_acc=0.9635\n"
     ]
    },
    {
     "name": "stderr",
     "output_type": "stream",
     "text": [
      "                                                                                "
     ]
    },
    {
     "name": "stdout",
     "output_type": "stream",
     "text": [
      "Epoch [9/50], train_loss=0.0699, train_acc=0.9784, val_loss=0.1164, val_acc=0.9653\n"
     ]
    },
    {
     "name": "stderr",
     "output_type": "stream",
     "text": [
      "                                                                                "
     ]
    },
    {
     "name": "stdout",
     "output_type": "stream",
     "text": [
      "Epoch [10/50], train_loss=0.0627, train_acc=0.9805, val_loss=0.1294, val_acc=0.9616\n",
      "\u001b[31mОбучение остановлено на 10 эпохе.\u001b[0m\n"
     ]
    }
   ],
   "source": [
    "# Цикл обучения\n",
    "for epoch in range(EPOCHS):\n",
    "\n",
    "    # Тренировка модели\n",
    "    model.train()\n",
    "    running_train_loss = []\n",
    "    true_answer = 0\n",
    "    # добавим трейн луп, чтобы видеть прогресс обучения модели\n",
    "    train_loop = tqdm(train_loader, leave=False)\n",
    "    for x, targets in train_loop:\n",
    "        # Данные\n",
    "        # (batch.size, 1, 28, 28) --> (batch.size, 784)\n",
    "        x = x.reshape(-1, 28*28).to(device)\n",
    "        # (batch.size, int) --> (batch.size, 10), dtype=float32\n",
    "        targets = targets.reshape(-1).to(torch.int32)\n",
    "        targets = torch.eye(10)[targets].to(device)\n",
    "\n",
    "        # Прямой проход + расчет ошибки модели\n",
    "        pred = model(x)\n",
    "        loss = loss_model(pred, targets)\n",
    "\n",
    "        # Обратный проход\n",
    "        opt.zero_grad()\n",
    "        loss.backward()\n",
    "        \n",
    "        # Шаг оптимизации\n",
    "        opt.step()\n",
    "\n",
    "        running_train_loss.append(loss.item())\n",
    "        mean_train_loss = sum(running_train_loss)/len(running_train_loss)\n",
    "\n",
    "        true_answer += (pred.argmax(dim=1) == targets.argmax(dim=1)).sum().item()\n",
    "\n",
    "        train_loop.set_description(f\"Epoch [{epoch+1}/{EPOCHS}], train_loss={mean_train_loss:.4f}\")\n",
    "\n",
    "\n",
    "    # Расчет значения метрики\n",
    "    running_train_acc = true_answer / len(train_data)\n",
    "\n",
    "    # Сохранение значения функции потерь и метрики\n",
    "    train_loss.append(mean_train_loss)\n",
    "    train_acc.append(running_train_acc)\n",
    "\n",
    "    # Проверка модели (Валидация)\n",
    "    model.eval()\n",
    "    with torch.no_grad():\n",
    "        running_val_loss = []\n",
    "        true_answer = 0\n",
    "        for x, targets in val_loader:\n",
    "            # Данные\n",
    "            # (batch.size, 1, 28, 28) --> (batch.size, 784)\n",
    "            x = x.reshape(-1, 28*28).to(device)\n",
    "            # (batch.size, int) --> (batch.size, 10), dtype=float32\n",
    "            targets = targets.reshape(-1).to(torch.int32)\n",
    "            targets = torch.eye(10)[targets].to(device)\n",
    "\n",
    "            # Прямой проход + расчет ошибки модели\n",
    "            pred = model(x)\n",
    "            loss = loss_model(pred, targets)\n",
    "\n",
    "            running_val_loss.append(loss.item())\n",
    "            mean_val_loss = sum(running_val_loss)/len(running_val_loss)\n",
    "\n",
    "            true_answer += (pred.argmax(dim=1) == targets.argmax(dim=1)).sum().item()\n",
    "\n",
    "        # Расчет значения метрики\n",
    "        running_val_acc = true_answer / len(val_data)\n",
    "\n",
    "        # Сохранение значения функции потерь и метрики\n",
    "        val_loss.append(mean_val_loss)\n",
    "        val_acc.append(running_val_acc)\n",
    "\n",
    "        lr_scheduler.step(mean_val_loss)\n",
    "        lr = lr_scheduler._last_lr[0]\n",
    "        lr_list.append(lr)\n",
    "\n",
    "        print(f\"Epoch [{epoch+1}/{EPOCHS}], train_loss={mean_train_loss:.4f}, train_acc={running_train_acc:.4f}, val_loss={mean_val_loss:.4f}, val_acc={running_val_acc:.4f}\")\n",
    "\n",
    "        # добавляем две проверки, для сохранения лучшей модели\n",
    "        if best_loss is None:\n",
    "            best_loss = mean_val_loss\n",
    "      \n",
    "        if mean_val_loss < best_loss - best_loss*threshold:\n",
    "            best_loss = mean_val_loss\n",
    "            \n",
    "            # если модель улучшила свои показатели, то отсчет эпох пойдет заново\n",
    "            # обнуляем счетчик\n",
    "            count = 0\n",
    "            \n",
    "            # так же сохраняем словарь в случае улучшения модели\n",
    "            checkpoint = {\n",
    "                'state_model': model.state_dict(),\n",
    "                'state_opt': opt.state_dict(),\n",
    "                'state_lr_scheduler': lr_scheduler.state_dict(),\n",
    "                'loss':{\n",
    "                    'train_loss': train_loss,\n",
    "                    'val_loss': val_loss,\n",
    "                    'best_loss': best_loss\n",
    "                },\n",
    "                'metric':{\n",
    "                    'train_acc': train_acc,\n",
    "                    'val_acc': val_acc\n",
    "                },\n",
    "                'lr': lr_list,\n",
    "                'epoch':{\n",
    "                    'EPOCHS': EPOCHS,\n",
    "                    'save_epoch': epoch\n",
    "                },\n",
    "                'threshold': threshold\n",
    "            }\n",
    "    \n",
    "            \n",
    "    \n",
    "            torch.save(checkpoint, f'model_state_dict_epoch_{epoch+1}.pt')\n",
    "            print(f\"На эпохе: {epoch+1}, сохранена модель со значением функции потерь на валидаци: {mean_val_loss:.4f}\", end='\\n\\n')\n",
    "\n",
    "        # условие, для остановки обучения по достижению счетчиком определенного значения!\n",
    "        if count >= 5:\n",
    "            print(f'\\033[31mОбучение остановлено на {epoch + 1} эпохе.\\033[0m')\n",
    "            break\n",
    "            \n",
    "        # в конце каждой эпохи увеличиваем счетчик на 1\n",
    "        count += 1"
   ]
  },
  {
   "cell_type": "code",
   "execution_count": 128,
   "id": "197f5d50-0c7b-484a-8cf7-8ec79f48a7a5",
   "metadata": {},
   "outputs": [
    {
     "data": {
      "image/png": "[encoded data removed]",
      "text/plain": [
       "<Figure size 640x480 with 1 Axes>"
      ]
     },
     "metadata": {},
     "output_type": "display_data"
    }
   ],
   "source": [
    "plt.plot(lr_list)\n",
    "plt.legend('lr_list')\n",
    "plt.show()"
   ]
  },
  {
   "cell_type": "code",
   "execution_count": 129,
   "id": "1187441e-5b8f-4277-98bb-8a9cc03e882f",
   "metadata": {},
   "outputs": [
    {
     "data": {
      "image/png": "[encoded data removed]",
      "text/plain": [
       "<Figure size 640x480 with 1 Axes>"
      ]
     },
     "metadata": {},
     "output_type": "display_data"
    }
   ],
   "source": [
    "plt.plot(train_loss)\n",
    "plt.plot(val_loss)\n",
    "plt.legend(['loss_train', 'loss_val'])\n",
    "plt.show()"
   ]
  },
  {
   "cell_type": "code",
   "execution_count": 130,
   "id": "2a9da368-e3da-47bb-90dd-a8b8c5d5f33e",
   "metadata": {},
   "outputs": [
    {
     "data": {
      "image/png": "[encoded data removed]",
      "text/plain": [
       "<Figure size 640x480 with 1 Axes>"
      ]
     },
     "metadata": {},
     "output_type": "display_data"
    }
   ],
   "source": [
    "plt.plot(train_acc)\n",
    "plt.plot(val_acc)\n",
    "plt.legend(['acc_train', 'acc_val'])\n",
    "plt.show()"
   ]
  },
  {
   "cell_type": "markdown",
   "id": "1a1a66e6-49fa-4cc0-bb6a-bcbf96328ac7",
   "metadata": {},
   "source": [
    "#### Проверка обученной модели"
   ]
  },
  {
   "cell_type": "markdown",
   "id": "48d69364-ac61-4f04-abdd-de649a50a08a",
   "metadata": {},
   "source": [
    "Для тестирования корректности предсказательной способности модели, необходимо проверить ее на данных, которые она не видела ранее.\n",
    "\n",
    "Тестировать модель мы будем на тестовой выборке, которую создавали ранее.\n",
    "\n",
    "Цикл тестирования модели по сути аналогичен циклу валиадации. Единственное вилидационный датасет заменяется на тестовый.\n",
    "\n",
    "ВАЖНО ПОМНИТЬ!\n",
    "\n",
    "ОДНУ модель тестировать на этих данных можно только ОДИН раз."
   ]
  },
  {
   "cell_type": "code",
   "execution_count": 131,
   "id": "2f24feaf-f009-4dc5-a1fd-e375aa1af3fe",
   "metadata": {},
   "outputs": [],
   "source": [
    "# создаю новую модель, в которую подгружу сохраненные данные, ранее обученной модели\n",
    "new_model = MyModel(784, 10).to(device)"
   ]
  },
  {
   "cell_type": "code",
   "execution_count": 132,
   "id": "bf608e02-57fb-4e55-acc2-4be7b5cd60bf",
   "metadata": {},
   "outputs": [
    {
     "name": "stderr",
     "output_type": "stream",
     "text": [
      "/tmp/ipykernel_6708/2785751043.py:1: FutureWarning: You are using `torch.load` with `weights_only=False` (the current default value), which uses the default pickle module implicitly. It is possible to construct malicious pickle data which will execute arbitrary code during unpickling (See https://github.com/pytorch/pytorch/blob/main/SECURITY.md#untrusted-models for more details). In a future release, the default value for `weights_only` will be flipped to `True`. This limits the functions that could be executed during unpickling. Arbitrary objects will no longer be allowed to be loaded via this mode unless they are explicitly allowlisted by the user via `torch.serialization.add_safe_globals`. We recommend you start setting `weights_only=True` for any use case where you don't have full control of the loaded file. Please open an issue on GitHub for any issues related to this experimental feature.\n",
      "  checkpoint = torch.load('model_state_dict_epoch_5.pt')\n"
     ]
    },
    {
     "data": {
      "text/plain": [
       "<All keys matched successfully>"
      ]
     },
     "execution_count": 132,
     "metadata": {},
     "output_type": "execute_result"
    }
   ],
   "source": [
    "# подгружаю состояние сохраненной модели\n",
    "checkpoint = torch.load('model_state_dict_epoch_5.pt')\n",
    "new_model.load_state_dict(checkpoint['state_model'])"
   ]
  },
  {
   "cell_type": "code",
   "execution_count": 133,
   "id": "8d0578b7-3c39-4490-9aec-cbe191c2e6a9",
   "metadata": {},
   "outputs": [
    {
     "name": "stdout",
     "output_type": "stream",
     "text": [
      "test_loss=0.1195, test_acc=0.9638\n",
      "\n"
     ]
    }
   ],
   "source": [
    "model.eval()\n",
    "with torch.no_grad():\n",
    "    running_test_loss = []\n",
    "    true_answer = 0\n",
    "    for x, targets in test_loader:\n",
    "        # Данные\n",
    "        # (batch.size, 1, 28, 28) --> (batch.size, 784)\n",
    "        x = x.reshape(-1, 28*28).to(device)\n",
    "        # (batch.size, int) --> (batch.size, 10), dtype=float32\n",
    "        targets = targets.reshape(-1).to(torch.int32)\n",
    "        targets = torch.eye(10)[targets].to(device)\n",
    "\n",
    "        # Прямой проход + расчет ошибки модели\n",
    "        pred = model(x)\n",
    "        loss = loss_model(pred, targets)\n",
    "\n",
    "        running_test_loss.append(loss.item())\n",
    "        mean_test_loss = sum(running_test_loss)/len(running_test_loss)\n",
    "\n",
    "        true_answer += (pred.argmax(dim=1) == targets.argmax(dim=1)).sum().item()\n",
    "\n",
    "    # Расчет значения метрики\n",
    "    running_test_acc = true_answer / len(test_data)\n",
    "\n",
    "\n",
    "    print(f\"test_loss={mean_test_loss:.4f}, test_acc={running_test_acc:.4f}\", end='\\n\\n')"
   ]
  },
  {
   "cell_type": "markdown",
   "id": "22d1326e-6afc-4856-8906-f830749af569",
   "metadata": {},
   "source": [
    "Как мы можем наблюдать, модель неплохо справляется на данных, которые ранее не видела"
   ]
  },
  {
   "cell_type": "markdown",
   "id": "6696c68b-7364-4760-944f-ff3d852311c7",
   "metadata": {},
   "source": [
    "### Способ 2: \"Создание пользовательского класса EarlyStopping\""
   ]
  },
  {
   "cell_type": "markdown",
   "id": "6f49cdc4-71e3-4cd0-a173-0d70737d594d",
   "metadata": {},
   "source": [
    "Способ 2 будет разобран на примере задачи Регрессии.\n",
    "\n",
    "В данном разделе рассматривается ситуация выхода модели на \"плато\" (нет значимых улучшений в течении n эпох)."
   ]
  },
  {
   "cell_type": "markdown",
   "id": "5fd8e291-eed6-49cd-9fb1-f50251cca519",
   "metadata": {},
   "source": [
    "#### Релизация класса EarlyStopping"
   ]
  },
  {
   "cell_type": "markdown",
   "id": "0fd2e21d-ad6b-47c8-aef2-0e2894881664",
   "metadata": {},
   "source": [
    "Реализация данного класса позволяет сделать остановку обучения более автономным и функциональным.\n",
    "\n",
    "С классом, конечно надо будет посидеть и повнимательнее разобраться со взаимодействим методов __call__ и __changed_better__"
   ]
  },
  {
   "cell_type": "code",
   "execution_count": 168,
   "id": "f3792673-bcef-41c9-a49e-991df9dfe9a7",
   "metadata": {},
   "outputs": [],
   "source": [
    "class EarlyStopping:\n",
    "    def __init__(self, mode='min', patience=10, threshold=0.0001, threshold_mode='rel'):\n",
    "        # проверка на правильность переданных параметров\n",
    "        if mode not in {'min', 'max'}:\n",
    "            raise ValueError(f'Параметр mode может принимать только значения max и min.')\n",
    "        if threshold_mode not in {'rel', 'abs'}:\n",
    "            raise ValueError(f'Параметр threshold_mode может принимать только значения rel и abs.')\n",
    "        if not isinstance(patience, int):\n",
    "            raise TypeError(f'Параметр patience должен быть целым число.')\n",
    "        if not isinstance(threshold, float):\n",
    "            raise TypeError(f'Параметр threshold должен быть float и меньше 1.0.')\n",
    "        if threshold >= 1.0:\n",
    "            raise VelueError(f'Параметр threshold должен быть меньше 1.0.')\n",
    "\n",
    "        self.mode = mode\n",
    "        self.patience = patience\n",
    "        self.threshold = threshold\n",
    "        self.threshold_mode = threshold_mode\n",
    "        self.count = 0\n",
    "        self.best = None\n",
    "\n",
    "    # в метод __call__ передаем отслеживаемый параметр\n",
    "    # это либо функция потерь, либо значение метрики (на данном этапе)\n",
    "    def __call__(self, tracked_parameter):\n",
    "        current = float(tracked_parameter)\n",
    "        if self.best is None:\n",
    "            self.best = current\n",
    "            return False\n",
    "\n",
    "        if self.changed_better(current, self.best):\n",
    "            self.best = current\n",
    "            self.count = 0\n",
    "        else:\n",
    "            self.count += 1\n",
    "\n",
    "        if self.count >= self.patience:\n",
    "            self.count = 0\n",
    "            return True\n",
    "        return False\n",
    "\n",
    "    # работу передаваемых в метод параметров мы разбирали в ноутбуке с шедулерами\n",
    "    def changed_better(self, current, best):\n",
    "        if self.mode == 'min' and self.threshold_mode == 'rel':\n",
    "            return current < best - best * self.threshold\n",
    "\n",
    "        elif self.mode == 'min' and self.threshold_mode == 'abs':\n",
    "            return current < best - self.threshold\n",
    "\n",
    "        elif self.mode == 'max' and self.threshold_mode == 'rel':\n",
    "            return current > best + best * self.threshold\n",
    "\n",
    "        else:    # mode == 'max' and threshold == 'abs':\n",
    "            return current > best + self.threshold"
   ]
  },
  {
   "cell_type": "markdown",
   "id": "ae58411c-864a-4824-8673-83c3cb2a502a",
   "metadata": {},
   "source": [
    "#### Задача регрессии"
   ]
  },
  {
   "cell_type": "code",
   "execution_count": 136,
   "id": "58c6ddcc-3a1b-4585-afb8-e19855b07fa3",
   "metadata": {},
   "outputs": [
    {
     "data": {
      "text/plain": [
       "'cuda'"
      ]
     },
     "execution_count": 136,
     "metadata": {},
     "output_type": "execute_result"
    }
   ],
   "source": [
    "device = 'cuda' if torch.cuda.is_available() else 'cpu'\n",
    "device"
   ]
  },
  {
   "cell_type": "code",
   "execution_count": 137,
   "id": "d58de48e-72c2-452c-969c-4ae49fd6e0d5",
   "metadata": {},
   "outputs": [],
   "source": [
    "class DatasetReg(Dataset):\n",
    "    def __init__(self, path, transform=None):\n",
    "        self.path = path\n",
    "        self.transform = transform\n",
    "\n",
    "        self.list_name_file = os.listdir(path)\n",
    "        if 'coords.json' in self.list_name_file:\n",
    "            self.list_name_file.remove('coords.json')\n",
    "\n",
    "        self.len_dataset = len(self.list_name_file)\n",
    "\n",
    "        with open(os.path.join(self.path, 'coords.json'), 'r') as f:\n",
    "            self.dict_coords = json.load(f)\n",
    "\n",
    "    def __len__(self):\n",
    "        return self.len_dataset\n",
    "\n",
    "    def __getitem__(self, index):\n",
    "        name_file = self.list_name_file[index]\n",
    "        path_img = os.path.join(self.path, name_file)\n",
    "\n",
    "        img = Image.open(path_img)\n",
    "        coord = self.dict_coords[name_file]\n",
    "\n",
    "        if self.transform:\n",
    "            img = self.transform(img)\n",
    "            coord = torch.tensor(coord, dtype=torch.float32)\n",
    "\n",
    "\n",
    "        return img, coord"
   ]
  },
  {
   "cell_type": "code",
   "execution_count": 138,
   "id": "ca2e28da-c817-4b75-8b18-2be60d376bae",
   "metadata": {},
   "outputs": [],
   "source": [
    "transform = v2.Compose(\n",
    "    [\n",
    "        v2.ToImage(),\n",
    "        v2.ToDtype(torch.float32, scale=True),\n",
    "        v2.Normalize(mean=(0.5, ), std=(0.5, ))\n",
    "    ]\n",
    ")"
   ]
  },
  {
   "cell_type": "code",
   "execution_count": 139,
   "id": "7b606dd2-047c-492e-98d1-67c28bb450b2",
   "metadata": {},
   "outputs": [],
   "source": [
    "dataset = DatasetReg(path='dataset', transform=transform)"
   ]
  },
  {
   "cell_type": "code",
   "execution_count": 140,
   "id": "d80ca9b1-3635-489f-8ace-942328a3e1fb",
   "metadata": {},
   "outputs": [
    {
     "name": "stdout",
     "output_type": "stream",
     "text": [
      "Coord = tensor([28., 31.])\n"
     ]
    },
    {
     "data": {
      "text/plain": [
       "<matplotlib.image.AxesImage at 0x7649fedbc8c0>"
      ]
     },
     "execution_count": 140,
     "metadata": {},
     "output_type": "execute_result"
    },
    {
     "data": {
      "image/png": "[encoded data removed]",
      "text/plain": [
       "<Figure size 640x480 with 1 Axes>"
      ]
     },
     "metadata": {},
     "output_type": "display_data"
    }
   ],
   "source": [
    "img, coord = dataset[2512]\n",
    "\n",
    "print(f'Coord = {coord}')\n",
    "plt.imshow(img.numpy()[0], cmap='gray')"
   ]
  },
  {
   "cell_type": "code",
   "execution_count": 141,
   "id": "80e4e615-ca5d-4879-b38a-26d7b862005f",
   "metadata": {},
   "outputs": [],
   "source": [
    "train_set, val_set, test_set = random_split(dataset, [0.7, 0.1, 0.2])"
   ]
  },
  {
   "cell_type": "code",
   "execution_count": 142,
   "id": "b82ec1d1-fc0c-4b22-a43e-cdde0e1a27d3",
   "metadata": {},
   "outputs": [],
   "source": [
    "train_loader = DataLoader(train_set, batch_size=16, shuffle=True)\n",
    "val_loader = DataLoader(val_set, batch_size=16, shuffle=False)\n",
    "test_loader = DataLoader(test_set, batch_size=16, shuffle=False)"
   ]
  },
  {
   "cell_type": "code",
   "execution_count": 143,
   "id": "966136b6-4ecb-4407-aaa6-e27251ab876c",
   "metadata": {},
   "outputs": [],
   "source": [
    "class MyModel(nn.Module):\n",
    "    def __init__(self, input, output):\n",
    "        super().__init__()\n",
    "        self.layer_1 = nn.Linear(input, 128)\n",
    "        self.layer_2 = nn.Linear(128, output)\n",
    "        self.act = nn.ReLU()\n",
    "\n",
    "    def forward(self, x):\n",
    "        x = self.layer_1(x)\n",
    "        x = self.act(x)\n",
    "        out = self.layer_2(x)\n",
    "        return out"
   ]
  },
  {
   "cell_type": "code",
   "execution_count": 177,
   "id": "35ba4ac1-4c7b-4afa-b862-6554fc8335d4",
   "metadata": {},
   "outputs": [],
   "source": [
    "# создаем и отправляем на cuda\n",
    "model = MyModel(64*64, 2).to(device)"
   ]
  },
  {
   "cell_type": "code",
   "execution_count": 178,
   "id": "33108fa3-06da-4d53-b0c0-5e242941c6a6",
   "metadata": {},
   "outputs": [
    {
     "data": {
      "text/plain": [
       "torch.Size([16, 2])"
      ]
     },
     "execution_count": 178,
     "metadata": {},
     "output_type": "execute_result"
    }
   ],
   "source": [
    "# Проверяем правильность построения модели\n",
    "input = torch.rand([16, 64*64], dtype=torch.float32).to(device)\n",
    "\n",
    "out = model(input)\n",
    "out.shape    # (16,2)"
   ]
  },
  {
   "cell_type": "code",
   "execution_count": 179,
   "id": "a40afccf-8b45-4b10-bbdf-59c713ac2cc4",
   "metadata": {},
   "outputs": [],
   "source": [
    "# выбираем функцию потерь и оптимизатор градиентного спуска\n",
    "loss_model = nn.MSELoss()\n",
    "opt = torch.optim.Adam(model.parameters(), lr=0.001)\n",
    "\n",
    "lr_scheduler = torch.optim.lr_scheduler.ReduceLROnPlateau(opt, patience=5)\n",
    "earlystopping = EarlyStopping(mode='min', patience=10)"
   ]
  },
  {
   "cell_type": "code",
   "execution_count": 180,
   "id": "d04af197-2d53-4712-8b95-9b7a6f7cc753",
   "metadata": {},
   "outputs": [],
   "source": [
    "EPOCHS = 100\n",
    "train_loss = []\n",
    "train_acc = []\n",
    "val_loss = []\n",
    "val_acc = []\n",
    "lr_list = []\n",
    "best_loss = None"
   ]
  },
  {
   "cell_type": "code",
   "execution_count": 181,
   "id": "52fb74bc-6786-4c5a-915b-05d7d5f36d2e",
   "metadata": {},
   "outputs": [
    {
     "name": "stderr",
     "output_type": "stream",
     "text": [
      "                                                                                "
     ]
    },
    {
     "name": "stdout",
     "output_type": "stream",
     "text": [
      "Epoch [1/100], train_loss=1.7746, train_acc=0.6183, val_loss=0.2143, val_acc=0.4341, lr=0.0010\n"
     ]
    },
    {
     "name": "stderr",
     "output_type": "stream",
     "text": [
      "                                                                                "
     ]
    },
    {
     "name": "stdout",
     "output_type": "stream",
     "text": [
      "Epoch [2/100], train_loss=0.1403, train_acc=0.6789, val_loss=0.1633, val_acc=0.5838, lr=0.0010\n",
      "На эпохе: 2, сохранена модель со значением функции потерь на валидаци: 0.1633\n",
      "\n"
     ]
    },
    {
     "name": "stderr",
     "output_type": "stream",
     "text": [
      "                                                                                "
     ]
    },
    {
     "name": "stdout",
     "output_type": "stream",
     "text": [
      "Epoch [3/100], train_loss=0.1211, train_acc=0.7327, val_loss=0.1123, val_acc=0.7274, lr=0.0010\n",
      "На эпохе: 3, сохранена модель со значением функции потерь на валидаци: 0.1123\n",
      "\n"
     ]
    },
    {
     "name": "stderr",
     "output_type": "stream",
     "text": [
      "                                                                                "
     ]
    },
    {
     "name": "stdout",
     "output_type": "stream",
     "text": [
      "Epoch [4/100], train_loss=0.1015, train_acc=0.7947, val_loss=0.0589, val_acc=0.9278, lr=0.0010\n",
      "На эпохе: 4, сохранена модель со значением функции потерь на валидаци: 0.0589\n",
      "\n"
     ]
    },
    {
     "name": "stderr",
     "output_type": "stream",
     "text": [
      "                                                                                "
     ]
    },
    {
     "name": "stdout",
     "output_type": "stream",
     "text": [
      "Epoch [5/100], train_loss=0.0916, train_acc=0.8221, val_loss=0.0714, val_acc=0.8842, lr=0.0010\n"
     ]
    },
    {
     "name": "stderr",
     "output_type": "stream",
     "text": [
      "                                                                                "
     ]
    },
    {
     "name": "stdout",
     "output_type": "stream",
     "text": [
      "Epoch [6/100], train_loss=0.0807, train_acc=0.8567, val_loss=0.0955, val_acc=0.8118, lr=0.0010\n"
     ]
    },
    {
     "name": "stderr",
     "output_type": "stream",
     "text": [
      "                                                                                "
     ]
    },
    {
     "name": "stdout",
     "output_type": "stream",
     "text": [
      "Epoch [7/100], train_loss=0.0714, train_acc=0.8852, val_loss=0.0629, val_acc=0.9161, lr=0.0010\n"
     ]
    },
    {
     "name": "stderr",
     "output_type": "stream",
     "text": [
      "                                                                                "
     ]
    },
    {
     "name": "stdout",
     "output_type": "stream",
     "text": [
      "Epoch [8/100], train_loss=0.0674, train_acc=0.8978, val_loss=0.0631, val_acc=0.9078, lr=0.0010\n"
     ]
    },
    {
     "name": "stderr",
     "output_type": "stream",
     "text": [
      "                                                                                "
     ]
    },
    {
     "name": "stdout",
     "output_type": "stream",
     "text": [
      "Epoch [9/100], train_loss=0.0651, train_acc=0.9049, val_loss=0.0705, val_acc=0.9032, lr=0.0010\n"
     ]
    },
    {
     "name": "stderr",
     "output_type": "stream",
     "text": [
      "                                                                                "
     ]
    },
    {
     "name": "stdout",
     "output_type": "stream",
     "text": [
      "Epoch [10/100], train_loss=0.0604, train_acc=0.9175, val_loss=0.0491, val_acc=0.9519, lr=0.0010\n",
      "На эпохе: 10, сохранена модель со значением функции потерь на валидаци: 0.0491\n",
      "\n"
     ]
    },
    {
     "name": "stderr",
     "output_type": "stream",
     "text": [
      "                                                                                "
     ]
    },
    {
     "name": "stdout",
     "output_type": "stream",
     "text": [
      "Epoch [11/100], train_loss=0.0584, train_acc=0.9249, val_loss=0.0425, val_acc=0.9663, lr=0.0010\n",
      "На эпохе: 11, сохранена модель со значением функции потерь на валидаци: 0.0425\n",
      "\n"
     ]
    },
    {
     "name": "stderr",
     "output_type": "stream",
     "text": [
      "                                                                                "
     ]
    },
    {
     "name": "stdout",
     "output_type": "stream",
     "text": [
      "Epoch [12/100], train_loss=0.0570, train_acc=0.9285, val_loss=0.0478, val_acc=0.9563, lr=0.0010\n"
     ]
    },
    {
     "name": "stderr",
     "output_type": "stream",
     "text": [
      "                                                                                "
     ]
    },
    {
     "name": "stdout",
     "output_type": "stream",
     "text": [
      "Epoch [13/100], train_loss=0.0554, train_acc=0.9325, val_loss=0.1027, val_acc=0.7603, lr=0.0010\n"
     ]
    },
    {
     "name": "stderr",
     "output_type": "stream",
     "text": [
      "                                                                                "
     ]
    },
    {
     "name": "stdout",
     "output_type": "stream",
     "text": [
      "Epoch [14/100], train_loss=0.0545, train_acc=0.9343, val_loss=0.0487, val_acc=0.9571, lr=0.0010\n"
     ]
    },
    {
     "name": "stderr",
     "output_type": "stream",
     "text": [
      "                                                                                "
     ]
    },
    {
     "name": "stdout",
     "output_type": "stream",
     "text": [
      "Epoch [15/100], train_loss=0.0516, train_acc=0.9447, val_loss=0.0434, val_acc=0.9650, lr=0.0010\n"
     ]
    },
    {
     "name": "stderr",
     "output_type": "stream",
     "text": [
      "                                                                                "
     ]
    },
    {
     "name": "stdout",
     "output_type": "stream",
     "text": [
      "Epoch [16/100], train_loss=0.0517, train_acc=0.9419, val_loss=0.0413, val_acc=0.9683, lr=0.0010\n",
      "На эпохе: 16, сохранена модель со значением функции потерь на валидаци: 0.0413\n",
      "\n"
     ]
    },
    {
     "name": "stderr",
     "output_type": "stream",
     "text": [
      "                                                                                "
     ]
    },
    {
     "name": "stdout",
     "output_type": "stream",
     "text": [
      "Epoch [17/100], train_loss=0.0498, train_acc=0.9480, val_loss=0.0975, val_acc=0.8042, lr=0.0010\n"
     ]
    },
    {
     "name": "stderr",
     "output_type": "stream",
     "text": [
      "                                                                                "
     ]
    },
    {
     "name": "stdout",
     "output_type": "stream",
     "text": [
      "Epoch [18/100], train_loss=0.0491, train_acc=0.9495, val_loss=0.0424, val_acc=0.9706, lr=0.0010\n"
     ]
    },
    {
     "name": "stderr",
     "output_type": "stream",
     "text": [
      "                                                                                "
     ]
    },
    {
     "name": "stdout",
     "output_type": "stream",
     "text": [
      "Epoch [19/100], train_loss=0.0479, train_acc=0.9527, val_loss=0.0538, val_acc=0.9388, lr=0.0010\n"
     ]
    },
    {
     "name": "stderr",
     "output_type": "stream",
     "text": [
      "                                                                                "
     ]
    },
    {
     "name": "stdout",
     "output_type": "stream",
     "text": [
      "Epoch [20/100], train_loss=0.0476, train_acc=0.9540, val_loss=0.0491, val_acc=0.9479, lr=0.0010\n"
     ]
    },
    {
     "name": "stderr",
     "output_type": "stream",
     "text": [
      "                                                                                "
     ]
    },
    {
     "name": "stdout",
     "output_type": "stream",
     "text": [
      "Epoch [21/100], train_loss=0.0448, train_acc=0.9605, val_loss=0.0472, val_acc=0.9548, lr=0.0010\n"
     ]
    },
    {
     "name": "stderr",
     "output_type": "stream",
     "text": [
      "                                                                                "
     ]
    },
    {
     "name": "stdout",
     "output_type": "stream",
     "text": [
      "Epoch [22/100], train_loss=0.0444, train_acc=0.9616, val_loss=0.0468, val_acc=0.9602, lr=0.0001\n"
     ]
    },
    {
     "name": "stderr",
     "output_type": "stream",
     "text": [
      "                                                                                "
     ]
    },
    {
     "name": "stdout",
     "output_type": "stream",
     "text": [
      "Epoch [23/100], train_loss=0.0272, train_acc=0.9937, val_loss=0.0371, val_acc=0.9790, lr=0.0001\n",
      "На эпохе: 23, сохранена модель со значением функции потерь на валидаци: 0.0371\n",
      "\n"
     ]
    },
    {
     "name": "stderr",
     "output_type": "stream",
     "text": [
      "                                                                                "
     ]
    },
    {
     "name": "stdout",
     "output_type": "stream",
     "text": [
      "Epoch [24/100], train_loss=0.0274, train_acc=0.9932, val_loss=0.0325, val_acc=0.9854, lr=0.0001\n",
      "На эпохе: 24, сохранена модель со значением функции потерь на валидаци: 0.0325\n",
      "\n"
     ]
    },
    {
     "name": "stderr",
     "output_type": "stream",
     "text": [
      "                                                                                "
     ]
    },
    {
     "name": "stdout",
     "output_type": "stream",
     "text": [
      "Epoch [25/100], train_loss=0.0273, train_acc=0.9937, val_loss=0.0322, val_acc=0.9858, lr=0.0001\n",
      "На эпохе: 25, сохранена модель со значением функции потерь на валидаци: 0.0322\n",
      "\n"
     ]
    },
    {
     "name": "stderr",
     "output_type": "stream",
     "text": [
      "                                                                                "
     ]
    },
    {
     "name": "stdout",
     "output_type": "stream",
     "text": [
      "Epoch [26/100], train_loss=0.0270, train_acc=0.9938, val_loss=0.0325, val_acc=0.9863, lr=0.0001\n"
     ]
    },
    {
     "name": "stderr",
     "output_type": "stream",
     "text": [
      "                                                                                "
     ]
    },
    {
     "name": "stdout",
     "output_type": "stream",
     "text": [
      "Epoch [27/100], train_loss=0.0269, train_acc=0.9939, val_loss=0.0306, val_acc=0.9878, lr=0.0001\n",
      "На эпохе: 27, сохранена модель со значением функции потерь на валидаци: 0.0306\n",
      "\n"
     ]
    },
    {
     "name": "stderr",
     "output_type": "stream",
     "text": [
      "                                                                                "
     ]
    },
    {
     "name": "stdout",
     "output_type": "stream",
     "text": [
      "Epoch [28/100], train_loss=0.0266, train_acc=0.9947, val_loss=0.0312, val_acc=0.9865, lr=0.0001\n"
     ]
    },
    {
     "name": "stderr",
     "output_type": "stream",
     "text": [
      "                                                                                "
     ]
    },
    {
     "name": "stdout",
     "output_type": "stream",
     "text": [
      "Epoch [29/100], train_loss=0.0264, train_acc=0.9946, val_loss=0.0336, val_acc=0.9842, lr=0.0001\n"
     ]
    },
    {
     "name": "stderr",
     "output_type": "stream",
     "text": [
      "                                                                                "
     ]
    },
    {
     "name": "stdout",
     "output_type": "stream",
     "text": [
      "Epoch [30/100], train_loss=0.0264, train_acc=0.9946, val_loss=0.0312, val_acc=0.9879, lr=0.0001\n"
     ]
    },
    {
     "name": "stderr",
     "output_type": "stream",
     "text": [
      "                                                                                "
     ]
    },
    {
     "name": "stdout",
     "output_type": "stream",
     "text": [
      "Epoch [31/100], train_loss=0.0261, train_acc=0.9944, val_loss=0.0330, val_acc=0.9865, lr=0.0001\n"
     ]
    },
    {
     "name": "stderr",
     "output_type": "stream",
     "text": [
      "                                                                                "
     ]
    },
    {
     "name": "stdout",
     "output_type": "stream",
     "text": [
      "Epoch [32/100], train_loss=0.0258, train_acc=0.9948, val_loss=0.0313, val_acc=0.9876, lr=0.0001\n"
     ]
    },
    {
     "name": "stderr",
     "output_type": "stream",
     "text": [
      "                                                                                "
     ]
    },
    {
     "name": "stdout",
     "output_type": "stream",
     "text": [
      "Epoch [33/100], train_loss=0.0259, train_acc=0.9948, val_loss=0.0341, val_acc=0.9851, lr=0.0000\n"
     ]
    },
    {
     "name": "stderr",
     "output_type": "stream",
     "text": [
      "                                                                                "
     ]
    },
    {
     "name": "stdout",
     "output_type": "stream",
     "text": [
      "Epoch [34/100], train_loss=0.0236, train_acc=0.9971, val_loss=0.0296, val_acc=0.9889, lr=0.0000\n",
      "На эпохе: 34, сохранена модель со значением функции потерь на валидаци: 0.0296\n",
      "\n"
     ]
    },
    {
     "name": "stderr",
     "output_type": "stream",
     "text": [
      "                                                                                "
     ]
    },
    {
     "name": "stdout",
     "output_type": "stream",
     "text": [
      "Epoch [35/100], train_loss=0.0236, train_acc=0.9970, val_loss=0.0299, val_acc=0.9888, lr=0.0000\n"
     ]
    },
    {
     "name": "stderr",
     "output_type": "stream",
     "text": [
      "                                                                                "
     ]
    },
    {
     "name": "stdout",
     "output_type": "stream",
     "text": [
      "Epoch [36/100], train_loss=0.0236, train_acc=0.9969, val_loss=0.0296, val_acc=0.9893, lr=0.0000\n"
     ]
    },
    {
     "name": "stderr",
     "output_type": "stream",
     "text": [
      "                                                                                "
     ]
    },
    {
     "name": "stdout",
     "output_type": "stream",
     "text": [
      "Epoch [37/100], train_loss=0.0236, train_acc=0.9971, val_loss=0.0295, val_acc=0.9892, lr=0.0000\n",
      "На эпохе: 37, сохранена модель со значением функции потерь на валидаци: 0.0295\n",
      "\n"
     ]
    },
    {
     "name": "stderr",
     "output_type": "stream",
     "text": [
      "                                                                                "
     ]
    },
    {
     "name": "stdout",
     "output_type": "stream",
     "text": [
      "Epoch [38/100], train_loss=0.0235, train_acc=0.9970, val_loss=0.0296, val_acc=0.9897, lr=0.0000\n"
     ]
    },
    {
     "name": "stderr",
     "output_type": "stream",
     "text": [
      "                                                                                "
     ]
    },
    {
     "name": "stdout",
     "output_type": "stream",
     "text": [
      "Epoch [39/100], train_loss=0.0236, train_acc=0.9970, val_loss=0.0299, val_acc=0.9891, lr=0.0000\n"
     ]
    },
    {
     "name": "stderr",
     "output_type": "stream",
     "text": [
      "                                                                                "
     ]
    },
    {
     "name": "stdout",
     "output_type": "stream",
     "text": [
      "Epoch [40/100], train_loss=0.0235, train_acc=0.9970, val_loss=0.0295, val_acc=0.9897, lr=0.0000\n"
     ]
    },
    {
     "name": "stderr",
     "output_type": "stream",
     "text": [
      "                                                                                "
     ]
    },
    {
     "name": "stdout",
     "output_type": "stream",
     "text": [
      "Epoch [41/100], train_loss=0.0235, train_acc=0.9971, val_loss=0.0299, val_acc=0.9891, lr=0.0000\n"
     ]
    },
    {
     "name": "stderr",
     "output_type": "stream",
     "text": [
      "                                                                                "
     ]
    },
    {
     "name": "stdout",
     "output_type": "stream",
     "text": [
      "Epoch [42/100], train_loss=0.0235, train_acc=0.9971, val_loss=0.0302, val_acc=0.9883, lr=0.0000\n"
     ]
    },
    {
     "name": "stderr",
     "output_type": "stream",
     "text": [
      "                                                                                "
     ]
    },
    {
     "name": "stdout",
     "output_type": "stream",
     "text": [
      "Epoch [43/100], train_loss=0.0235, train_acc=0.9970, val_loss=0.0296, val_acc=0.9896, lr=0.0000\n"
     ]
    },
    {
     "name": "stderr",
     "output_type": "stream",
     "text": [
      "                                                                                "
     ]
    },
    {
     "name": "stdout",
     "output_type": "stream",
     "text": [
      "Epoch [44/100], train_loss=0.0232, train_acc=0.9972, val_loss=0.0294, val_acc=0.9893, lr=0.0000\n",
      "На эпохе: 44, сохранена модель со значением функции потерь на валидаци: 0.0294\n",
      "\n"
     ]
    },
    {
     "name": "stderr",
     "output_type": "stream",
     "text": [
      "                                                                                "
     ]
    },
    {
     "name": "stdout",
     "output_type": "stream",
     "text": [
      "Epoch [45/100], train_loss=0.0232, train_acc=0.9972, val_loss=0.0293, val_acc=0.9894, lr=0.0000\n",
      "На эпохе: 45, сохранена модель со значением функции потерь на валидаци: 0.0293\n",
      "\n"
     ]
    },
    {
     "name": "stderr",
     "output_type": "stream",
     "text": [
      "                                                                                "
     ]
    },
    {
     "name": "stdout",
     "output_type": "stream",
     "text": [
      "Epoch [46/100], train_loss=0.0232, train_acc=0.9972, val_loss=0.0294, val_acc=0.9893, lr=0.0000\n"
     ]
    },
    {
     "name": "stderr",
     "output_type": "stream",
     "text": [
      "                                                                                "
     ]
    },
    {
     "name": "stdout",
     "output_type": "stream",
     "text": [
      "Epoch [47/100], train_loss=0.0232, train_acc=0.9972, val_loss=0.0294, val_acc=0.9894, lr=0.0000\n"
     ]
    },
    {
     "name": "stderr",
     "output_type": "stream",
     "text": [
      "                                                                                "
     ]
    },
    {
     "name": "stdout",
     "output_type": "stream",
     "text": [
      "Epoch [48/100], train_loss=0.0232, train_acc=0.9973, val_loss=0.0294, val_acc=0.9894, lr=0.0000\n"
     ]
    },
    {
     "name": "stderr",
     "output_type": "stream",
     "text": [
      "                                                                                "
     ]
    },
    {
     "name": "stdout",
     "output_type": "stream",
     "text": [
      "Epoch [49/100], train_loss=0.0232, train_acc=0.9972, val_loss=0.0293, val_acc=0.9894, lr=0.0000\n",
      "На эпохе: 49, сохранена модель со значением функции потерь на валидаци: 0.0293\n",
      "\n"
     ]
    },
    {
     "name": "stderr",
     "output_type": "stream",
     "text": [
      "                                                                                "
     ]
    },
    {
     "name": "stdout",
     "output_type": "stream",
     "text": [
      "Epoch [50/100], train_loss=0.0232, train_acc=0.9973, val_loss=0.0293, val_acc=0.9895, lr=0.0000\n",
      "На эпохе: 50, сохранена модель со значением функции потерь на валидаци: 0.0293\n",
      "\n"
     ]
    },
    {
     "name": "stderr",
     "output_type": "stream",
     "text": [
      "                                                                                "
     ]
    },
    {
     "name": "stdout",
     "output_type": "stream",
     "text": [
      "Epoch [51/100], train_loss=0.0232, train_acc=0.9972, val_loss=0.0293, val_acc=0.9894, lr=0.0000\n",
      "На эпохе: 51, сохранена модель со значением функции потерь на валидаци: 0.0293\n",
      "\n"
     ]
    },
    {
     "name": "stderr",
     "output_type": "stream",
     "text": [
      "                                                                                "
     ]
    },
    {
     "name": "stdout",
     "output_type": "stream",
     "text": [
      "Epoch [52/100], train_loss=0.0232, train_acc=0.9972, val_loss=0.0294, val_acc=0.9894, lr=0.0000\n"
     ]
    },
    {
     "name": "stderr",
     "output_type": "stream",
     "text": [
      "                                                                                "
     ]
    },
    {
     "name": "stdout",
     "output_type": "stream",
     "text": [
      "Epoch [53/100], train_loss=0.0232, train_acc=0.9973, val_loss=0.0293, val_acc=0.9894, lr=0.0000\n"
     ]
    },
    {
     "name": "stderr",
     "output_type": "stream",
     "text": [
      "                                                                                "
     ]
    },
    {
     "name": "stdout",
     "output_type": "stream",
     "text": [
      "Epoch [54/100], train_loss=0.0232, train_acc=0.9972, val_loss=0.0293, val_acc=0.9896, lr=0.0000\n"
     ]
    },
    {
     "name": "stderr",
     "output_type": "stream",
     "text": [
      "                                                                                "
     ]
    },
    {
     "name": "stdout",
     "output_type": "stream",
     "text": [
      "Epoch [55/100], train_loss=0.0232, train_acc=0.9972, val_loss=0.0293, val_acc=0.9896, lr=0.0000\n",
      "На эпохе: 55, сохранена модель со значением функции потерь на валидаци: 0.0293\n",
      "\n"
     ]
    },
    {
     "name": "stderr",
     "output_type": "stream",
     "text": [
      "                                                                                "
     ]
    },
    {
     "name": "stdout",
     "output_type": "stream",
     "text": [
      "Epoch [56/100], train_loss=0.0232, train_acc=0.9972, val_loss=0.0293, val_acc=0.9895, lr=0.0000\n"
     ]
    },
    {
     "name": "stderr",
     "output_type": "stream",
     "text": [
      "                                                                                "
     ]
    },
    {
     "name": "stdout",
     "output_type": "stream",
     "text": [
      "Epoch [57/100], train_loss=0.0232, train_acc=0.9972, val_loss=0.0293, val_acc=0.9894, lr=0.0000\n",
      "На эпохе: 57, сохранена модель со значением функции потерь на валидаци: 0.0293\n",
      "\n"
     ]
    },
    {
     "name": "stderr",
     "output_type": "stream",
     "text": [
      "                                                                                "
     ]
    },
    {
     "name": "stdout",
     "output_type": "stream",
     "text": [
      "Epoch [58/100], train_loss=0.0232, train_acc=0.9972, val_loss=0.0293, val_acc=0.9893, lr=0.0000\n"
     ]
    },
    {
     "name": "stderr",
     "output_type": "stream",
     "text": [
      "                                                                                "
     ]
    },
    {
     "name": "stdout",
     "output_type": "stream",
     "text": [
      "Epoch [59/100], train_loss=0.0232, train_acc=0.9971, val_loss=0.0293, val_acc=0.9894, lr=0.0000\n"
     ]
    },
    {
     "name": "stderr",
     "output_type": "stream",
     "text": [
      "                                                                                "
     ]
    },
    {
     "name": "stdout",
     "output_type": "stream",
     "text": [
      "Epoch [60/100], train_loss=0.0232, train_acc=0.9973, val_loss=0.0293, val_acc=0.9895, lr=0.0000\n"
     ]
    },
    {
     "name": "stderr",
     "output_type": "stream",
     "text": [
      "                                                                                "
     ]
    },
    {
     "name": "stdout",
     "output_type": "stream",
     "text": [
      "Epoch [61/100], train_loss=0.0232, train_acc=0.9972, val_loss=0.0293, val_acc=0.9894, lr=0.0000\n"
     ]
    },
    {
     "name": "stderr",
     "output_type": "stream",
     "text": [
      "                                                                                "
     ]
    },
    {
     "name": "stdout",
     "output_type": "stream",
     "text": [
      "Epoch [62/100], train_loss=0.0232, train_acc=0.9972, val_loss=0.0293, val_acc=0.9894, lr=0.0000\n",
      "На эпохе: 62, сохранена модель со значением функции потерь на валидаци: 0.0293\n",
      "\n"
     ]
    },
    {
     "name": "stderr",
     "output_type": "stream",
     "text": [
      "                                                                                "
     ]
    },
    {
     "name": "stdout",
     "output_type": "stream",
     "text": [
      "Epoch [63/100], train_loss=0.0232, train_acc=0.9972, val_loss=0.0293, val_acc=0.9894, lr=0.0000\n",
      "На эпохе: 63, сохранена модель со значением функции потерь на валидаци: 0.0293\n",
      "\n"
     ]
    },
    {
     "name": "stderr",
     "output_type": "stream",
     "text": [
      "                                                                                "
     ]
    },
    {
     "name": "stdout",
     "output_type": "stream",
     "text": [
      "Epoch [64/100], train_loss=0.0232, train_acc=0.9972, val_loss=0.0293, val_acc=0.9893, lr=0.0000\n"
     ]
    },
    {
     "name": "stderr",
     "output_type": "stream",
     "text": [
      "                                                                                "
     ]
    },
    {
     "name": "stdout",
     "output_type": "stream",
     "text": [
      "Epoch [65/100], train_loss=0.0232, train_acc=0.9973, val_loss=0.0293, val_acc=0.9894, lr=0.0000\n"
     ]
    },
    {
     "name": "stderr",
     "output_type": "stream",
     "text": [
      "                                                                                "
     ]
    },
    {
     "name": "stdout",
     "output_type": "stream",
     "text": [
      "Epoch [66/100], train_loss=0.0232, train_acc=0.9972, val_loss=0.0293, val_acc=0.9897, lr=0.0000\n"
     ]
    },
    {
     "name": "stderr",
     "output_type": "stream",
     "text": [
      "                                                                                "
     ]
    },
    {
     "name": "stdout",
     "output_type": "stream",
     "text": [
      "Epoch [67/100], train_loss=0.0232, train_acc=0.9972, val_loss=0.0293, val_acc=0.9895, lr=0.0000\n"
     ]
    },
    {
     "name": "stderr",
     "output_type": "stream",
     "text": [
      "                                                                                "
     ]
    },
    {
     "name": "stdout",
     "output_type": "stream",
     "text": [
      "Epoch [68/100], train_loss=0.0232, train_acc=0.9973, val_loss=0.0293, val_acc=0.9894, lr=0.0000\n"
     ]
    },
    {
     "name": "stderr",
     "output_type": "stream",
     "text": [
      "                                                                                "
     ]
    },
    {
     "name": "stdout",
     "output_type": "stream",
     "text": [
      "Epoch [69/100], train_loss=0.0232, train_acc=0.9972, val_loss=0.0293, val_acc=0.9896, lr=0.0000\n"
     ]
    },
    {
     "name": "stderr",
     "output_type": "stream",
     "text": [
      "                                                                                "
     ]
    },
    {
     "name": "stdout",
     "output_type": "stream",
     "text": [
      "Epoch [70/100], train_loss=0.0231, train_acc=0.9972, val_loss=0.0293, val_acc=0.9895, lr=0.0000\n",
      "На эпохе: 70, сохранена модель со значением функции потерь на валидаци: 0.0293\n",
      "\n"
     ]
    },
    {
     "name": "stderr",
     "output_type": "stream",
     "text": [
      "                                                                                "
     ]
    },
    {
     "name": "stdout",
     "output_type": "stream",
     "text": [
      "Epoch [71/100], train_loss=0.0231, train_acc=0.9973, val_loss=0.0293, val_acc=0.9894, lr=0.0000\n",
      "На эпохе: 71, сохранена модель со значением функции потерь на валидаци: 0.0293\n",
      "\n"
     ]
    },
    {
     "name": "stderr",
     "output_type": "stream",
     "text": [
      "                                                                                "
     ]
    },
    {
     "name": "stdout",
     "output_type": "stream",
     "text": [
      "Epoch [72/100], train_loss=0.0231, train_acc=0.9973, val_loss=0.0293, val_acc=0.9894, lr=0.0000\n"
     ]
    },
    {
     "name": "stderr",
     "output_type": "stream",
     "text": [
      "                                                                                "
     ]
    },
    {
     "name": "stdout",
     "output_type": "stream",
     "text": [
      "Epoch [73/100], train_loss=0.0231, train_acc=0.9973, val_loss=0.0293, val_acc=0.9894, lr=0.0000\n"
     ]
    },
    {
     "name": "stderr",
     "output_type": "stream",
     "text": [
      "                                                                                "
     ]
    },
    {
     "name": "stdout",
     "output_type": "stream",
     "text": [
      "Epoch [74/100], train_loss=0.0231, train_acc=0.9973, val_loss=0.0293, val_acc=0.9895, lr=0.0000\n",
      "На эпохе: 74, сохранена модель со значением функции потерь на валидаци: 0.0293\n",
      "\n"
     ]
    },
    {
     "name": "stderr",
     "output_type": "stream",
     "text": [
      "                                                                                "
     ]
    },
    {
     "name": "stdout",
     "output_type": "stream",
     "text": [
      "Epoch [75/100], train_loss=0.0231, train_acc=0.9973, val_loss=0.0293, val_acc=0.9894, lr=0.0000\n",
      "На эпохе: 75, сохранена модель со значением функции потерь на валидаци: 0.0293\n",
      "\n"
     ]
    },
    {
     "name": "stderr",
     "output_type": "stream",
     "text": [
      "                                                                                "
     ]
    },
    {
     "name": "stdout",
     "output_type": "stream",
     "text": [
      "Epoch [76/100], train_loss=0.0231, train_acc=0.9972, val_loss=0.0293, val_acc=0.9895, lr=0.0000\n",
      "На эпохе: 76, сохранена модель со значением функции потерь на валидаци: 0.0293\n",
      "\n"
     ]
    },
    {
     "name": "stderr",
     "output_type": "stream",
     "text": [
      "                                                                                "
     ]
    },
    {
     "name": "stdout",
     "output_type": "stream",
     "text": [
      "Epoch [77/100], train_loss=0.0231, train_acc=0.9973, val_loss=0.0293, val_acc=0.9897, lr=0.0000\n"
     ]
    },
    {
     "name": "stderr",
     "output_type": "stream",
     "text": [
      "                                                                                "
     ]
    },
    {
     "name": "stdout",
     "output_type": "stream",
     "text": [
      "Epoch [78/100], train_loss=0.0231, train_acc=0.9972, val_loss=0.0293, val_acc=0.9895, lr=0.0000\n"
     ]
    },
    {
     "name": "stderr",
     "output_type": "stream",
     "text": [
      "                                                                                "
     ]
    },
    {
     "name": "stdout",
     "output_type": "stream",
     "text": [
      "Epoch [79/100], train_loss=0.0231, train_acc=0.9973, val_loss=0.0293, val_acc=0.9894, lr=0.0000\n",
      "На эпохе: 79, сохранена модель со значением функции потерь на валидаци: 0.0293\n",
      "\n"
     ]
    },
    {
     "name": "stderr",
     "output_type": "stream",
     "text": [
      "                                                                                "
     ]
    },
    {
     "name": "stdout",
     "output_type": "stream",
     "text": [
      "Epoch [80/100], train_loss=0.0231, train_acc=0.9973, val_loss=0.0293, val_acc=0.9894, lr=0.0000\n"
     ]
    },
    {
     "name": "stderr",
     "output_type": "stream",
     "text": [
      "                                                                                "
     ]
    },
    {
     "name": "stdout",
     "output_type": "stream",
     "text": [
      "Epoch [81/100], train_loss=0.0231, train_acc=0.9972, val_loss=0.0293, val_acc=0.9894, lr=0.0000\n"
     ]
    },
    {
     "name": "stderr",
     "output_type": "stream",
     "text": [
      "                                                                                "
     ]
    },
    {
     "name": "stdout",
     "output_type": "stream",
     "text": [
      "Epoch [82/100], train_loss=0.0231, train_acc=0.9973, val_loss=0.0293, val_acc=0.9894, lr=0.0000\n"
     ]
    },
    {
     "name": "stderr",
     "output_type": "stream",
     "text": [
      "                                                                                "
     ]
    },
    {
     "name": "stdout",
     "output_type": "stream",
     "text": [
      "Epoch [83/100], train_loss=0.0231, train_acc=0.9973, val_loss=0.0293, val_acc=0.9894, lr=0.0000\n"
     ]
    },
    {
     "name": "stderr",
     "output_type": "stream",
     "text": [
      "                                                                                "
     ]
    },
    {
     "name": "stdout",
     "output_type": "stream",
     "text": [
      "Epoch [84/100], train_loss=0.0231, train_acc=0.9973, val_loss=0.0293, val_acc=0.9894, lr=0.0000\n"
     ]
    },
    {
     "name": "stderr",
     "output_type": "stream",
     "text": [
      "                                                                                "
     ]
    },
    {
     "name": "stdout",
     "output_type": "stream",
     "text": [
      "Epoch [85/100], train_loss=0.0231, train_acc=0.9973, val_loss=0.0293, val_acc=0.9894, lr=0.0000\n",
      "\u001b[31mОбучение остановлено на 85 эпохе.\u001b[0m\n"
     ]
    }
   ],
   "source": [
    "# Цикл обучения\n",
    "for epoch in range(EPOCHS):\n",
    "\n",
    "    # 1. Тренировка модели\n",
    "    model.train()\n",
    "    running_train_loss = []\n",
    "    true_answer = 0\n",
    "    # добавим трейн луп, чтобы видеть прогресс обучения модели\n",
    "    train_loop = tqdm(train_loader, leave=False)\n",
    "    for x, targets in train_loop:\n",
    "        # - Данные\n",
    "        # (batch.size, 1, 64, 64) --> (batch.size, 64*64)\n",
    "        x = x.reshape(-1, 64*64).to(device)\n",
    "        targets = targets.to(device)\n",
    "\n",
    "        # - Прямой проход + расчет ошибки модели\n",
    "        pred = model(x)\n",
    "        loss = loss_model(pred, targets)\n",
    "\n",
    "        # - Обратный проход\n",
    "        opt.zero_grad()\n",
    "        loss.backward()\n",
    "        # - Шаг оптимизации\n",
    "        opt.step()\n",
    "\n",
    "        running_train_loss.append(loss.item())\n",
    "        mean_train_loss = sum(running_train_loss)/len(running_train_loss)\n",
    "\n",
    "        true_answer += (torch.round(pred) == targets).all(dim=1).sum().item()\n",
    "\n",
    "        train_loop.set_description(f\"Epoch [{epoch+1}/{EPOCHS}], train_loss={mean_train_loss:.4f}\")\n",
    "\n",
    "\n",
    "    # 2. Расчет значения метрики\n",
    "    running_train_acc = true_answer / len(train_set)\n",
    "\n",
    "    # 3. Сохранение значения функции потерь и метрики\n",
    "    train_loss.append(mean_train_loss)\n",
    "    train_acc.append(running_train_acc)\n",
    "\n",
    "    # 4. Проверка модели (Валидация)\n",
    "    model.eval()\n",
    "    with torch.no_grad():\n",
    "        running_val_loss = []\n",
    "        true_answer = 0\n",
    "        for x, targets in val_loader:\n",
    "            # - Данные\n",
    "            # (batch.size, 1, 64, 64) --> (batch.size, 64*64)\n",
    "            x = x.reshape(-1, 64*64).to(device)\n",
    "            targets = targets.to(device)\n",
    "\n",
    "            # - Прямой проход + расчет ошибки модели\n",
    "            pred = model(x)\n",
    "            loss = loss_model(pred, targets)\n",
    "\n",
    "            running_val_loss.append(loss.item())\n",
    "            mean_val_loss = sum(running_val_loss)/len(running_val_loss)\n",
    "\n",
    "            true_answer += (torch.round(pred) == targets).all(dim=1).sum().item()\n",
    "\n",
    "        # 2. Расчет значения метрики\n",
    "        running_val_acc = true_answer / len(val_set)\n",
    "\n",
    "        # 3. Сохранение значения функции потерь и метрики    true_answer = 0\n",
    "\n",
    "        val_loss.append(mean_val_loss)\n",
    "        val_acc.append(running_val_acc)\n",
    "\n",
    "    lr_scheduler.step(mean_val_loss)\n",
    "    lr = lr_scheduler._last_lr[0]\n",
    "    lr_list.append(lr)\n",
    "\n",
    "    print(f\"Epoch [{epoch+1}/{EPOCHS}], train_loss={mean_train_loss:.4f}, train_acc={running_train_acc:.4f}, val_loss={mean_val_loss:.4f}, val_acc={running_val_acc:.4f}, lr={lr:.4f}\")\n",
    "\n",
    "    # добавляем две проверки, для сохранения лучшей модели\n",
    "    if best_loss is None:\n",
    "        best_loss = mean_val_loss\n",
    "    # это самое простое условие, но это неприемлемо\n",
    "    # if mean_val_loss < best_loss:\n",
    "    #     best_loss = mean_val_loss\n",
    "    # мы будем сохранять модель, чей лосс улучшился на ЗНАЧИМОЕ для нас значение\n",
    "    if mean_val_loss < best_loss:\n",
    "        best_loss = mean_val_loss\n",
    "\n",
    "        checkpoint = {\n",
    "            'state_model': model.state_dict(),\n",
    "            'state_opt': opt.state_dict(),\n",
    "            'state_lr_scheduler': lr_scheduler.state_dict(),\n",
    "            'loss':{\n",
    "                'train_loss': train_loss,\n",
    "                'val_loss': val_loss,\n",
    "                'best_loss': best_loss\n",
    "            },\n",
    "            'metric':{\n",
    "                'train_acc': train_acc,\n",
    "                'val_acc': val_acc\n",
    "            },\n",
    "            'lr': lr_list,\n",
    "            'epoch':{\n",
    "                'EPOCHS': EPOCHS,\n",
    "                'save_epoch': epoch\n",
    "            }\n",
    "        }\n",
    "        \n",
    "\n",
    "        torch.save(checkpoint, f'model_reg_state_dict_epoch_{epoch+1}.pt')\n",
    "        print(f\"На эпохе: {epoch+1}, сохранена модель со значением функции потерь на валидаци: {mean_val_loss:.4f}\", end='\\n\\n')\n",
    "\n",
    "    # здесь дописать комментарий\n",
    "    if earlystopping(mean_val_loss):\n",
    "        print(f'\\033[31mОбучение остановлено на {epoch + 1} эпохе.\\033[0m')\n",
    "        break"
   ]
  },
  {
   "cell_type": "code",
   "execution_count": 187,
   "id": "d39aa0f5-293a-4526-b9a2-5253c709eee3",
   "metadata": {},
   "outputs": [
    {
     "data": {
      "image/png": "[encoded data removed]",
      "text/plain": [
       "<Figure size 640x480 with 1 Axes>"
      ]
     },
     "metadata": {},
     "output_type": "display_data"
    }
   ],
   "source": [
    "plt.plot(lr_list)\n",
    "plt.legend(['lr_list'])\n",
    "plt.show()"
   ]
  },
  {
   "cell_type": "code",
   "execution_count": 184,
   "id": "d79e9007-ee67-446e-b7cc-0a2aff6ca4de",
   "metadata": {},
   "outputs": [
    {
     "data": {
      "image/png": "[encoded data removed]",
      "text/plain": [
       "<Figure size 640x480 with 1 Axes>"
      ]
     },
     "metadata": {},
     "output_type": "display_data"
    }
   ],
   "source": [
    "plt.plot(train_loss)\n",
    "plt.plot(val_loss)\n",
    "plt.legend(['loss_train', 'loss_val'])\n",
    "plt.show()"
   ]
  },
  {
   "cell_type": "code",
   "execution_count": 183,
   "id": "07409747-e063-4274-afbb-6ea196d30a6d",
   "metadata": {},
   "outputs": [
    {
     "data": {
      "image/png": "[encoded data removed]",
      "text/plain": [
       "<Figure size 640x480 with 1 Axes>"
      ]
     },
     "metadata": {},
     "output_type": "display_data"
    }
   ],
   "source": [
    "plt.plot(train_acc)\n",
    "plt.plot(val_acc)\n",
    "plt.legend(['acc_train', 'acc_val'])\n",
    "plt.show()"
   ]
  },
  {
   "cell_type": "markdown",
   "id": "e8d1b55c-9224-4fec-abe0-fbed700baf38",
   "metadata": {},
   "source": [
    "#### Проверка модели регрессии на тестовой выборке"
   ]
  },
  {
   "cell_type": "code",
   "execution_count": 190,
   "id": "efc41eed-b791-4541-affd-9b27edc8a3a2",
   "metadata": {},
   "outputs": [],
   "source": [
    "# создаем новую модель\n",
    "new_reg_model = MyModel(64*64, 2).to(device)"
   ]
  },
  {
   "cell_type": "code",
   "execution_count": 191,
   "id": "54317c5b-76c2-49ba-9b12-7d49769762d1",
   "metadata": {},
   "outputs": [
    {
     "name": "stderr",
     "output_type": "stream",
     "text": [
      "/tmp/ipykernel_6708/4166550582.py:1: FutureWarning: You are using `torch.load` with `weights_only=False` (the current default value), which uses the default pickle module implicitly. It is possible to construct malicious pickle data which will execute arbitrary code during unpickling (See https://github.com/pytorch/pytorch/blob/main/SECURITY.md#untrusted-models for more details). In a future release, the default value for `weights_only` will be flipped to `True`. This limits the functions that could be executed during unpickling. Arbitrary objects will no longer be allowed to be loaded via this mode unless they are explicitly allowlisted by the user via `torch.serialization.add_safe_globals`. We recommend you start setting `weights_only=True` for any use case where you don't have full control of the loaded file. Please open an issue on GitHub for any issues related to this experimental feature.\n",
      "  checkpoint = torch.load('model_reg_state_dict_epoch_79.pt')\n"
     ]
    },
    {
     "data": {
      "text/plain": [
       "<All keys matched successfully>"
      ]
     },
     "execution_count": 191,
     "metadata": {},
     "output_type": "execute_result"
    }
   ],
   "source": [
    "# подгружаем состояние уже обученной\n",
    "checkpoint = torch.load('model_reg_state_dict_epoch_79.pt')\n",
    "new_reg_model.load_state_dict(checkpoint['state_model'])"
   ]
  },
  {
   "cell_type": "code",
   "execution_count": 193,
   "id": "36ea7906-bb88-46b3-b2a1-38cb689223a4",
   "metadata": {},
   "outputs": [
    {
     "name": "stdout",
     "output_type": "stream",
     "text": [
      "test_loss=0.0291, test_acc=0.9912\n"
     ]
    }
   ],
   "source": [
    "new_reg_model.eval()\n",
    "with torch.no_grad():\n",
    "    running_test_loss = []\n",
    "    true_answer = 0\n",
    "    for x, targets in test_loader:\n",
    "        # - Данные\n",
    "        # (batch.size, 1, 64, 64) --> (batch.size, 64*64)\n",
    "        x = x.reshape(-1, 64*64).to(device)\n",
    "        targets = targets.to(device)\n",
    "\n",
    "        # - Прямой проход + расчет ошибки модели\n",
    "        pred = model(x)\n",
    "        loss = loss_model(pred, targets)\n",
    "\n",
    "        running_test_loss.append(loss.item())\n",
    "        mean_test_loss = sum(running_test_loss)/len(running_test_loss)\n",
    "\n",
    "        true_answer += (torch.round(pred) == targets).all(dim=1).sum().item()\n",
    "\n",
    "    # 2. Расчет значения метрики\n",
    "    running_test_acc = true_answer / len(test_set)\n",
    "\n",
    "\n",
    "    print(f\"test_loss={mean_test_loss:.4f}, test_acc={running_test_acc:.4f}\")"
   ]
  },
  {
   "cell_type": "markdown",
   "id": "dbc9cbb6-33c2-4c0a-879f-65cb9f2e01f7",
   "metadata": {},
   "source": [
    "Модель показывает потрясающие результаты на тестовой выборке. Это не удивительно, т.к. данные синтетические и очень похожи.\n",
    "\n",
    "В коде ниже визуализируем то, как модель ошибалась."
   ]
  },
  {
   "cell_type": "code",
   "execution_count": 198,
   "id": "f95e3b8b-f86d-4739-adf7-3218473d9012",
   "metadata": {},
   "outputs": [
    {
     "name": "stdout",
     "output_type": "stream",
     "text": [
      "Pred coord:tensor([33.2564, 34.2597])\n",
      "\u001b[31mPred round-coord:\u001b[0m tensor([33., 34.])\n",
      "\u001b[32mTrue coord:\u001b[0m tensor([33., 34.])\n"
     ]
    },
    {
     "data": {
      "image/png": "[encoded data removed]",
      "text/plain": [
       "<Figure size 640x480 with 1 Axes>"
      ]
     },
     "metadata": {},
     "output_type": "display_data"
    }
   ],
   "source": [
    "img, coord = test_set[100]\n",
    "\n",
    "new_reg_model.eval()\n",
    "\n",
    "pred = new_reg_model(img.view(1, 64*64).to(device)).detach().cpu()\n",
    "\n",
    "x_pred = torch.round(pred[0])[1].item()\n",
    "y_pred = torch.round(pred[0])[0].item()\n",
    "\n",
    "print(f'Pred coord:{pred[0]}')\n",
    "print(f'\\033[31mPred round-coord:\\033[0m {torch.round(pred[0])}')\n",
    "print(f'\\033[32mTrue coord:\\033[0m {torch.round(pred[0])}')\n",
    "\n",
    "plt.imshow(img[0].numpy(), cmap = 'gray')\n",
    "plt.plot(x_pred, y_pred, marker='o', color='red')\n",
    "plt.plot(coord[1].item(), coord[0].item(), marker='o', color='green')\n",
    "plt.show()"
   ]
  },
  {
   "cell_type": "code",
   "execution_count": 199,
   "id": "f775088e-2f7f-4d33-85a7-b51bf9cb8b2b",
   "metadata": {},
   "outputs": [
    {
     "name": "stdout",
     "output_type": "stream",
     "text": [
      "torch.Size([20000, 1, 64, 64])\n",
      "torch.Size([20000, 2])\n"
     ]
    }
   ],
   "source": [
    "new_reg_model.eval()\n",
    "test_loader = DataLoader(test_set, batch_size=len(test_set))\n",
    "\n",
    "x, targets = next(iter(test_loader))\n",
    "\n",
    "print(x.shape)\n",
    "print(targets.shape)"
   ]
  },
  {
   "cell_type": "code",
   "execution_count": 200,
   "id": "0b769110-28e0-4a45-bf2a-3c971c53f3e5",
   "metadata": {},
   "outputs": [
    {
     "name": "stdout",
     "output_type": "stream",
     "text": [
      "Из 20000 \u001b[31mНЕправильно\u001b[0m предсказано 177.\n",
      "\n"
     ]
    }
   ],
   "source": [
    "pred = new_reg_model(x.reshape(-1, 64*64).to(device)).detach().cpu()\n",
    "\n",
    "index = ~(torch.round(pred) == targets).all(dim=1)\n",
    "print(f'Из {len(test_set)} \\033[31mНЕправильно\\033[0m предсказано {index.sum()}.', end='\\n\\n')\n",
    "\n",
    "imgs_false_pred = x[index]\n",
    "false_pred = pred[index]\n",
    "rel_false_pred = targets[index]"
   ]
  },
  {
   "cell_type": "code",
   "execution_count": 203,
   "id": "b93b5fca-3f73-48e6-91fb-3ccd60886f2a",
   "metadata": {},
   "outputs": [
    {
     "name": "stdout",
     "output_type": "stream",
     "text": [
      "Pred coord:tensor([42.4866, 34.8301])\n",
      "\u001b[31mPred round-coord:\u001b[0m tensor([42., 35.])\n",
      "\u001b[32mTrue coord:\u001b[0m tensor([43., 35.])\n"
     ]
    },
    {
     "data": {
      "image/png": "[encoded data removed]",
      "text/plain": [
       "<Figure size 640x480 with 1 Axes>"
      ]
     },
     "metadata": {},
     "output_type": "display_data"
    }
   ],
   "source": [
    "index_false_pred = 125\n",
    "false_coords = false_pred[index_false_pred]\n",
    "rel_coords = rel_false_pred[index_false_pred]\n",
    "\n",
    "\n",
    "print(f'Pred coord:{false_coords}')\n",
    "print(f'\\033[31mPred round-coord:\\033[0m {torch.round(false_coords)}')\n",
    "print(f'\\033[32mTrue coord:\\033[0m {rel_coords}')\n",
    "\n",
    "x_pred = torch.round(false_coords)[1].item()\n",
    "y_pred = torch.round(false_coords)[0].item()\n",
    "\n",
    "\n",
    "plt.imshow(img[0].numpy(), cmap = 'gray')\n",
    "plt.plot(x_pred, y_pred, marker='o', color='red')\n",
    "plt.plot(coord[1].item(), coord[0].item(), marker='o', color='green')\n",
    "plt.show()"
   ]
  }
 ],
 "metadata": {
  "kernelspec": {
   "display_name": "Python 3 (ipykernel)",
   "language": "python",
   "name": "python3"
  },
  "language_info": {
   "codemirror_mode": {
    "name": "ipython",
    "version": 3
   },
   "file_extension": ".py",
   "mimetype": "text/x-python",
   "name": "python",
   "nbconvert_exporter": "python",
   "pygments_lexer": "ipython3",
   "version": "3.12.3"
  }
 },
 "nbformat": 4,
 "nbformat_minor": 5
}
