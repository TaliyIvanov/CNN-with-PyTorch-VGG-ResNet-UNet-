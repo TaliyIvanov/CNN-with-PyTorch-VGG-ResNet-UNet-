{
 "cells": [
  {
   "cell_type": "markdown",
   "id": "a33e0973-ecb6-4a5c-be31-c53d516aaff8",
   "metadata": {},
   "source": [
    "### Теория"
   ]
  },
  {
   "cell_type": "markdown",
   "id": "901a5123-0478-46ea-9230-67a8f29cd3d0",
   "metadata": {},
   "source": [
    "Что такое переобученная (overfitting) модель?\n",
    "\n",
    "Это когда значения функции потерь начинают расходиться на тренировочных и валидационных данных.\n",
    "\n",
    "Причин переобучения может быть много:\n",
    "- Слишком сложная модель;\n",
    "- Недостаток данных;\n",
    "- Неправильное разделение данных;\n",
    "- Неподходящая архитектура модели;\n",
    "- Некорректные гиперпараметры.\n",
    "\n",
    "Наша модель слишком сложная для данной задачи, поэтому может переобучаться. Грубоговоря, сейчас мы стреляем из танка по воробьям =)\n",
    "\n",
    "С помощью слоя nn.Dropout() мы упростим нашу модель.\n",
    "\n",
    "Суть метода заключается в том, что мы:\n",
    "- можем убрать некоторые слои;\n",
    "- можем убрать некоторые нейроны;\n",
    "- комбинация вышеперечисленного.\n",
    "\n",
    "Минусы способа:\n",
    "- не всегда работает;\n",
    "- снижение точности.\n",
    "\n",
    "**О том, как работает слой nn.Dropout().**\n",
    "\n",
    "Поскольку нейронная сеть полносвязная, то каждый элемент на входе (input) взаимодействует с каждым элементом первого линейного слоя. Все элементы первого линейного слоя взаимодействуют со всем элементами второго линейного слоя.\n",
    "\n",
    "При применении слоя nn.Dropout() к первому линейному сигнал до первого слоя будет распространяться без изменений. Далее, с указанной долей вероятности (обычно p=0.2-0.5) отключается случайно каждый нейрон на первом линейном слое. И так при каждом новом бачте.\n",
    "\n",
    "Оставшиеся включенными нейроны будут брать функцию отключенных на себя, тем самым расширяя свою функциональность, что как правило приводит к улучшению модели.\n",
    "\n",
    "**ВАЖНЫЙ НЮАНС**\n",
    "\n",
    "Данный слой нужен только, чтобы обучать модель!\n",
    "\n",
    "На валидации и тестировании его необходимо отключать. В этих случаях необходима вся сеть полностью!\n",
    "\n",
    "Включать и отключать Dropout() мы можем с помощью уже известных методов:\n",
    "- model.train() - переводит модель в режим тренировки (nn.Dropout() - активен)\n",
    "- model.eval() - переводит модель в режим предсказаний (nn.Dropout() - выключен)"
   ]
  },
  {
   "cell_type": "code",
   "execution_count": null,
   "id": "8b69d1a4-b3e7-420b-947b-a3a3d6e419a1",
   "metadata": {},
   "outputs": [],
   "source": [
    "# Пример использования nn.Dropout()\n",
    "\n",
    "import torch.nn as nn\n",
    "\n",
    "model = nn.Sequential(\n",
    "    nn.Linear(10, 20),\n",
    "    nn.ReLU(),\n",
    "    nn.Dropout(p=0.5),  # Dropout слой с вероятностью отключения 50%\n",
    "    nn.Linear(20, 10),\n",
    "    nn.Softmax(dim=1)\n",
    ")"
   ]
  },
  {
   "cell_type": "markdown",
   "id": "08803e2b-b8f3-446e-8555-35546b28b94c",
   "metadata": {},
   "source": [
    "### Импорты"
   ]
  },
  {
   "cell_type": "code",
   "execution_count": 2,
   "id": "ebf39c8d-2df5-4d0a-a1d6-342268abe5cf",
   "metadata": {},
   "outputs": [],
   "source": [
    "import torch\n",
    "import torch.nn as nn\n",
    "\n",
    "from torch.utils.data import Dataset, DataLoader, random_split\n",
    "\n",
    "import torchvision\n",
    "from torchvision.transforms import v2\n",
    "\n",
    "import os\n",
    "import matplotlib.pyplot as plt\n",
    "import numpy as np\n",
    "\n",
    "import json\n",
    "from tqdm import tqdm\n",
    "from PIL import Image\n",
    "\n",
    "plt.style.use('dark_background')"
   ]
  },
  {
   "cell_type": "markdown",
   "id": "c1f0a8f3-863f-4dc2-a0e4-84897b4b64d8",
   "metadata": {},
   "source": [
    "### Рассмотрим на примере задачи классификации"
   ]
  },
  {
   "cell_type": "markdown",
   "id": "c00f7d27-1c64-45bd-a366-d916a15cc0fc",
   "metadata": {},
   "source": [
    "#### Подготовка данных для обучения"
   ]
  },
  {
   "cell_type": "code",
   "execution_count": 3,
   "id": "61236d04-cb04-4995-ab47-8ee4b612e63c",
   "metadata": {},
   "outputs": [
    {
     "data": {
      "text/plain": [
       "'cuda'"
      ]
     },
     "execution_count": 3,
     "metadata": {},
     "output_type": "execute_result"
    }
   ],
   "source": [
    "device = 'cuda' if torch.cuda.is_available() else 'cpu'\n",
    "device"
   ]
  },
  {
   "cell_type": "code",
   "execution_count": 4,
   "id": "dd83ce59-f02e-4805-9f62-6503a1935263",
   "metadata": {},
   "outputs": [],
   "source": [
    "### Пробуем для 'cuda'\n",
    "class MNISTDataset(Dataset):\n",
    "    def __init__(self, path, transform=None):\n",
    "        self.path = path\n",
    "        self.transform = transform\n",
    "\n",
    "        self.len_dataset = 0 # длина датасет\n",
    "        self.data_list = [] # список кортежей путей до файла и позиции в onehot векторе\n",
    "\n",
    "        # итерируемся по папке с основными файлами\n",
    "        for path_dir, dir_list, file_list in os.walk(path):\n",
    "            if path_dir == path:\n",
    "                self.classes = sorted(dir_list)\n",
    "                self.class_to_idx = {\n",
    "                    cls_name: i for i, cls_name in enumerate(self.classes)\n",
    "                    }\n",
    "                continue\n",
    "\n",
    "            cls = path_dir.split('/')[-1]\n",
    "\n",
    "            for name_file in file_list:\n",
    "                file_path = os.path.join(path_dir, name_file)\n",
    "                self.data_list.append((file_path, self.class_to_idx[cls]))\n",
    "\n",
    "            self.len_dataset += len(file_list)\n",
    "\n",
    "    def __len__(self):\n",
    "        return self.len_dataset\n",
    "\n",
    "    def __getitem__(self, index):\n",
    "        file_path, target = self.data_list[index]\n",
    "        sample = Image.open(file_path)\n",
    "\n",
    "        if self.transform is not None:\n",
    "            sample = self.transform(sample)\n",
    "            target = self.transform(target)\n",
    "\n",
    "        return sample, target"
   ]
  },
  {
   "cell_type": "code",
   "execution_count": 5,
   "id": "646f38df-32bb-4c47-b3f0-647e52a0fe57",
   "metadata": {},
   "outputs": [],
   "source": [
    "# Преобразование для изображений\n",
    "transform = v2.Compose(\n",
    "    [\n",
    "        v2.ToImage(),\n",
    "        v2.ToDtype(torch.float32, scale=True),\n",
    "        v2.Normalize(mean=(0.5, ), std=(0.5, ))\n",
    "    ]\n",
    ")"
   ]
  },
  {
   "cell_type": "code",
   "execution_count": 6,
   "id": "b1bf4a39-7754-4cc2-abbe-c4b12525b40d",
   "metadata": {},
   "outputs": [],
   "source": [
    "# создание датасетов\n",
    "train_data = MNISTDataset('mnist/training', transform=transform)\n",
    "test_data = MNISTDataset('mnist/testing', transform=transform)"
   ]
  },
  {
   "cell_type": "code",
   "execution_count": 7,
   "id": "67644850-16fd-4df4-a3c8-8abee66284d6",
   "metadata": {},
   "outputs": [],
   "source": [
    "train_data, val_data = random_split(train_data, [0.7, 0.3])"
   ]
  },
  {
   "cell_type": "code",
   "execution_count": 8,
   "id": "9b793b11-61e9-4e4d-8824-7f1bb52a7410",
   "metadata": {},
   "outputs": [],
   "source": [
    "# Создание загрузчиков\n",
    "train_loader = DataLoader(train_data, batch_size=64, shuffle=True)\n",
    "val_loader = DataLoader(val_data, batch_size=64, shuffle=False)\n",
    "test_loader = DataLoader(test_data, batch_size=64, shuffle=False)"
   ]
  },
  {
   "cell_type": "markdown",
   "id": "98a7fe60-aebc-4773-91fe-9e185b4d67fa",
   "metadata": {},
   "source": [
    "#### Создание модели с nn.Dropout()"
   ]
  },
  {
   "cell_type": "code",
   "execution_count": 36,
   "id": "3e3f0a74-b50c-475e-85a7-be61e4745b23",
   "metadata": {},
   "outputs": [],
   "source": [
    "# создаем наш класс с dropout()\n",
    "class MyModel(nn.Module):\n",
    "    def __init__(self, input, output):\n",
    "        super().__init__()\n",
    "        self.layer_1 = nn.Linear(input, 256)\n",
    "        self.layer_2 = nn.Linear(256, output)\n",
    "        self.dropout = nn.Dropout(0.25)\n",
    "        self.act = nn.ReLU()\n",
    "\n",
    "    def forward(self, x):\n",
    "        x = self.layer_1(x)\n",
    "        x = self.act(x)\n",
    "        x = self.dropout(x)\n",
    "        out = self.layer_2(x)\n",
    "\n",
    "        return out"
   ]
  },
  {
   "cell_type": "code",
   "execution_count": 37,
   "id": "46bfca2f-d4b7-45e8-8865-9a6577f67e17",
   "metadata": {},
   "outputs": [],
   "source": [
    "# инициализируем модель\n",
    "model = MyModel(784, 10).to(device)"
   ]
  },
  {
   "cell_type": "code",
   "execution_count": 38,
   "id": "8afa5bb3-5202-4cec-b22f-86cce61822e1",
   "metadata": {},
   "outputs": [
    {
     "data": {
      "text/plain": [
       "torch.Size([16, 10])"
      ]
     },
     "execution_count": 38,
     "metadata": {},
     "output_type": "execute_result"
    }
   ],
   "source": [
    "# Проверяем правильность построения модели\n",
    "input = torch.rand([16, 784], dtype=torch.float32).to(device)\n",
    "\n",
    "out = model(input)\n",
    "out.shape    # (16,10)"
   ]
  },
  {
   "cell_type": "code",
   "execution_count": 39,
   "id": "e848e6d4-edd5-4cc6-8b5c-fe29d28e1c5e",
   "metadata": {},
   "outputs": [],
   "source": [
    "# выбираем функцию потерь и оптимизатор градиентного спуска\n",
    "loss_model = nn.CrossEntropyLoss()\n",
    "opt = torch.optim.Adam(model.parameters(), lr=0.001)\n",
    "lr_scheduler = torch.optim.lr_scheduler.ReduceLROnPlateau(opt, patience=5)"
   ]
  },
  {
   "cell_type": "code",
   "execution_count": 40,
   "id": "409a4396-4dd4-451d-8b2f-cb62360b628c",
   "metadata": {},
   "outputs": [],
   "source": [
    "EPOCHS = 100\n",
    "train_loss = []\n",
    "train_acc = []\n",
    "val_loss = []\n",
    "val_acc = []\n",
    "lr_list = []\n",
    "best_loss = None\n",
    "count = 0"
   ]
  },
  {
   "cell_type": "code",
   "execution_count": 41,
   "id": "06f889a1-7cf8-4572-ba9d-a46fa3e922df",
   "metadata": {},
   "outputs": [
    {
     "name": "stderr",
     "output_type": "stream",
     "text": [
      "                                                                                "
     ]
    },
    {
     "name": "stdout",
     "output_type": "stream",
     "text": [
      "Epoch [1/100], train_loss=0.4370, train_acc=0.8678, val_loss=0.2538, val_acc=0.9221\n"
     ]
    },
    {
     "name": "stderr",
     "output_type": "stream",
     "text": [
      "                                                                                "
     ]
    },
    {
     "name": "stdout",
     "output_type": "stream",
     "text": [
      "Epoch [2/100], train_loss=0.2372, train_acc=0.9292, val_loss=0.1769, val_acc=0.9461\n",
      "На эпохе: 2, сохранена модель со значением функции потерь на валидаци: 0.1769\n",
      "\n"
     ]
    },
    {
     "name": "stderr",
     "output_type": "stream",
     "text": [
      "                                                                                "
     ]
    },
    {
     "name": "stdout",
     "output_type": "stream",
     "text": [
      "Epoch [3/100], train_loss=0.1837, train_acc=0.9446, val_loss=0.1384, val_acc=0.9578\n",
      "На эпохе: 3, сохранена модель со значением функции потерь на валидаци: 0.1384\n",
      "\n"
     ]
    },
    {
     "name": "stderr",
     "output_type": "stream",
     "text": [
      "                                                                                "
     ]
    },
    {
     "name": "stdout",
     "output_type": "stream",
     "text": [
      "Epoch [4/100], train_loss=0.1534, train_acc=0.9530, val_loss=0.1264, val_acc=0.9619\n",
      "На эпохе: 4, сохранена модель со значением функции потерь на валидаци: 0.1264\n",
      "\n"
     ]
    },
    {
     "name": "stderr",
     "output_type": "stream",
     "text": [
      "                                                                                "
     ]
    },
    {
     "name": "stdout",
     "output_type": "stream",
     "text": [
      "Epoch [5/100], train_loss=0.1404, train_acc=0.9575, val_loss=0.1178, val_acc=0.9667\n",
      "На эпохе: 5, сохранена модель со значением функции потерь на валидаци: 0.1178\n",
      "\n"
     ]
    },
    {
     "name": "stderr",
     "output_type": "stream",
     "text": [
      "                                                                                "
     ]
    },
    {
     "name": "stdout",
     "output_type": "stream",
     "text": [
      "Epoch [6/100], train_loss=0.1269, train_acc=0.9620, val_loss=0.1131, val_acc=0.9669\n",
      "На эпохе: 6, сохранена модель со значением функции потерь на валидаци: 0.1131\n",
      "\n"
     ]
    },
    {
     "name": "stderr",
     "output_type": "stream",
     "text": [
      "                                                                                "
     ]
    },
    {
     "name": "stdout",
     "output_type": "stream",
     "text": [
      "Epoch [7/100], train_loss=0.1155, train_acc=0.9645, val_loss=0.1086, val_acc=0.9690\n",
      "На эпохе: 7, сохранена модель со значением функции потерь на валидаци: 0.1086\n",
      "\n"
     ]
    },
    {
     "name": "stderr",
     "output_type": "stream",
     "text": [
      "                                                                                "
     ]
    },
    {
     "name": "stdout",
     "output_type": "stream",
     "text": [
      "Epoch [8/100], train_loss=0.1070, train_acc=0.9665, val_loss=0.1108, val_acc=0.9668\n"
     ]
    },
    {
     "name": "stderr",
     "output_type": "stream",
     "text": [
      "                                                                                "
     ]
    },
    {
     "name": "stdout",
     "output_type": "stream",
     "text": [
      "Epoch [9/100], train_loss=0.1039, train_acc=0.9671, val_loss=0.0972, val_acc=0.9717\n",
      "На эпохе: 9, сохранена модель со значением функции потерь на валидаци: 0.0972\n",
      "\n"
     ]
    },
    {
     "name": "stderr",
     "output_type": "stream",
     "text": [
      "                                                                                "
     ]
    },
    {
     "name": "stdout",
     "output_type": "stream",
     "text": [
      "Epoch [10/100], train_loss=0.0945, train_acc=0.9695, val_loss=0.1061, val_acc=0.9669\n"
     ]
    },
    {
     "name": "stderr",
     "output_type": "stream",
     "text": [
      "                                                                                "
     ]
    },
    {
     "name": "stdout",
     "output_type": "stream",
     "text": [
      "Epoch [11/100], train_loss=0.0953, train_acc=0.9694, val_loss=0.0971, val_acc=0.9717\n",
      "На эпохе: 11, сохранена модель со значением функции потерь на валидаци: 0.0971\n",
      "\n"
     ]
    },
    {
     "name": "stderr",
     "output_type": "stream",
     "text": [
      "                                                                                "
     ]
    },
    {
     "name": "stdout",
     "output_type": "stream",
     "text": [
      "Epoch [12/100], train_loss=0.0886, train_acc=0.9723, val_loss=0.0968, val_acc=0.9726\n",
      "На эпохе: 12, сохранена модель со значением функции потерь на валидаци: 0.0968\n",
      "\n"
     ]
    },
    {
     "name": "stderr",
     "output_type": "stream",
     "text": [
      "                                                                                "
     ]
    },
    {
     "name": "stdout",
     "output_type": "stream",
     "text": [
      "Epoch [13/100], train_loss=0.0878, train_acc=0.9724, val_loss=0.1086, val_acc=0.9707\n"
     ]
    },
    {
     "name": "stderr",
     "output_type": "stream",
     "text": [
      "                                                                                "
     ]
    },
    {
     "name": "stdout",
     "output_type": "stream",
     "text": [
      "Epoch [14/100], train_loss=0.0856, train_acc=0.9729, val_loss=0.0950, val_acc=0.9733\n",
      "На эпохе: 14, сохранена модель со значением функции потерь на валидаци: 0.0950\n",
      "\n"
     ]
    },
    {
     "name": "stderr",
     "output_type": "stream",
     "text": [
      "                                                                                "
     ]
    },
    {
     "name": "stdout",
     "output_type": "stream",
     "text": [
      "Epoch [15/100], train_loss=0.0784, train_acc=0.9746, val_loss=0.0889, val_acc=0.9754\n",
      "На эпохе: 15, сохранена модель со значением функции потерь на валидаци: 0.0889\n",
      "\n"
     ]
    },
    {
     "name": "stderr",
     "output_type": "stream",
     "text": [
      "                                                                                "
     ]
    },
    {
     "name": "stdout",
     "output_type": "stream",
     "text": [
      "Epoch [16/100], train_loss=0.0771, train_acc=0.9745, val_loss=0.0905, val_acc=0.9741\n"
     ]
    },
    {
     "name": "stderr",
     "output_type": "stream",
     "text": [
      "                                                                                "
     ]
    },
    {
     "name": "stdout",
     "output_type": "stream",
     "text": [
      "Epoch [17/100], train_loss=0.0716, train_acc=0.9765, val_loss=0.0879, val_acc=0.9754\n",
      "На эпохе: 17, сохранена модель со значением функции потерь на валидаци: 0.0879\n",
      "\n"
     ]
    },
    {
     "name": "stderr",
     "output_type": "stream",
     "text": [
      "                                                                                "
     ]
    },
    {
     "name": "stdout",
     "output_type": "stream",
     "text": [
      "Epoch [18/100], train_loss=0.0673, train_acc=0.9776, val_loss=0.0935, val_acc=0.9737\n"
     ]
    },
    {
     "name": "stderr",
     "output_type": "stream",
     "text": [
      "                                                                                "
     ]
    },
    {
     "name": "stdout",
     "output_type": "stream",
     "text": [
      "Epoch [19/100], train_loss=0.0664, train_acc=0.9783, val_loss=0.0904, val_acc=0.9763\n"
     ]
    },
    {
     "name": "stderr",
     "output_type": "stream",
     "text": [
      "                                                                                "
     ]
    },
    {
     "name": "stdout",
     "output_type": "stream",
     "text": [
      "Epoch [20/100], train_loss=0.0663, train_acc=0.9788, val_loss=0.0848, val_acc=0.9769\n",
      "На эпохе: 20, сохранена модель со значением функции потерь на валидаци: 0.0848\n",
      "\n"
     ]
    },
    {
     "name": "stderr",
     "output_type": "stream",
     "text": [
      "                                                                                "
     ]
    },
    {
     "name": "stdout",
     "output_type": "stream",
     "text": [
      "Epoch [21/100], train_loss=0.0619, train_acc=0.9791, val_loss=0.0920, val_acc=0.9756\n"
     ]
    },
    {
     "name": "stderr",
     "output_type": "stream",
     "text": [
      "                                                                                "
     ]
    },
    {
     "name": "stdout",
     "output_type": "stream",
     "text": [
      "Epoch [22/100], train_loss=0.0632, train_acc=0.9792, val_loss=0.0925, val_acc=0.9754\n"
     ]
    },
    {
     "name": "stderr",
     "output_type": "stream",
     "text": [
      "                                                                                "
     ]
    },
    {
     "name": "stdout",
     "output_type": "stream",
     "text": [
      "Epoch [23/100], train_loss=0.0609, train_acc=0.9792, val_loss=0.0961, val_acc=0.9745\n"
     ]
    },
    {
     "name": "stderr",
     "output_type": "stream",
     "text": [
      "                                                                                "
     ]
    },
    {
     "name": "stdout",
     "output_type": "stream",
     "text": [
      "Epoch [24/100], train_loss=0.0570, train_acc=0.9812, val_loss=0.0866, val_acc=0.9776\n"
     ]
    },
    {
     "name": "stderr",
     "output_type": "stream",
     "text": [
      "                                                                                "
     ]
    },
    {
     "name": "stdout",
     "output_type": "stream",
     "text": [
      "Epoch [25/100], train_loss=0.0552, train_acc=0.9814, val_loss=0.1052, val_acc=0.9719\n"
     ]
    },
    {
     "name": "stderr",
     "output_type": "stream",
     "text": [
      "                                                                                "
     ]
    },
    {
     "name": "stdout",
     "output_type": "stream",
     "text": [
      "Epoch [26/100], train_loss=0.0578, train_acc=0.9807, val_loss=0.0961, val_acc=0.9769\n"
     ]
    },
    {
     "name": "stderr",
     "output_type": "stream",
     "text": [
      "                                                                                "
     ]
    },
    {
     "name": "stdout",
     "output_type": "stream",
     "text": [
      "Epoch [27/100], train_loss=0.0321, train_acc=0.9888, val_loss=0.0797, val_acc=0.9802\n",
      "На эпохе: 27, сохранена модель со значением функции потерь на валидаци: 0.0797\n",
      "\n"
     ]
    },
    {
     "name": "stderr",
     "output_type": "stream",
     "text": [
      "                                                                                "
     ]
    },
    {
     "name": "stdout",
     "output_type": "stream",
     "text": [
      "Epoch [28/100], train_loss=0.0243, train_acc=0.9922, val_loss=0.0779, val_acc=0.9809\n",
      "На эпохе: 28, сохранена модель со значением функции потерь на валидаци: 0.0779\n",
      "\n"
     ]
    },
    {
     "name": "stderr",
     "output_type": "stream",
     "text": [
      "                                                                                "
     ]
    },
    {
     "name": "stdout",
     "output_type": "stream",
     "text": [
      "Epoch [29/100], train_loss=0.0233, train_acc=0.9923, val_loss=0.0777, val_acc=0.9816\n",
      "На эпохе: 29, сохранена модель со значением функции потерь на валидаци: 0.0777\n",
      "\n"
     ]
    },
    {
     "name": "stderr",
     "output_type": "stream",
     "text": [
      "                                                                                "
     ]
    },
    {
     "name": "stdout",
     "output_type": "stream",
     "text": [
      "Epoch [30/100], train_loss=0.0229, train_acc=0.9923, val_loss=0.0785, val_acc=0.9808\n"
     ]
    },
    {
     "name": "stderr",
     "output_type": "stream",
     "text": [
      "                                                                                "
     ]
    },
    {
     "name": "stdout",
     "output_type": "stream",
     "text": [
      "Epoch [31/100], train_loss=0.0204, train_acc=0.9932, val_loss=0.0802, val_acc=0.9810\n"
     ]
    },
    {
     "name": "stderr",
     "output_type": "stream",
     "text": [
      "                                                                                "
     ]
    },
    {
     "name": "stdout",
     "output_type": "stream",
     "text": [
      "Epoch [32/100], train_loss=0.0213, train_acc=0.9927, val_loss=0.0781, val_acc=0.9814\n"
     ]
    },
    {
     "name": "stderr",
     "output_type": "stream",
     "text": [
      "                                                                                "
     ]
    },
    {
     "name": "stdout",
     "output_type": "stream",
     "text": [
      "Epoch [33/100], train_loss=0.0204, train_acc=0.9935, val_loss=0.0807, val_acc=0.9815\n"
     ]
    },
    {
     "name": "stderr",
     "output_type": "stream",
     "text": [
      "                                                                                "
     ]
    },
    {
     "name": "stdout",
     "output_type": "stream",
     "text": [
      "Epoch [34/100], train_loss=0.0192, train_acc=0.9932, val_loss=0.0795, val_acc=0.9809\n"
     ]
    },
    {
     "name": "stderr",
     "output_type": "stream",
     "text": [
      "                                                                                "
     ]
    },
    {
     "name": "stdout",
     "output_type": "stream",
     "text": [
      "Epoch [35/100], train_loss=0.0186, train_acc=0.9937, val_loss=0.0797, val_acc=0.9811\n"
     ]
    },
    {
     "name": "stderr",
     "output_type": "stream",
     "text": [
      "                                                                                "
     ]
    },
    {
     "name": "stdout",
     "output_type": "stream",
     "text": [
      "Epoch [36/100], train_loss=0.0193, train_acc=0.9938, val_loss=0.0782, val_acc=0.9815\n"
     ]
    },
    {
     "name": "stderr",
     "output_type": "stream",
     "text": [
      "                                                                                "
     ]
    },
    {
     "name": "stdout",
     "output_type": "stream",
     "text": [
      "Epoch [37/100], train_loss=0.0178, train_acc=0.9939, val_loss=0.0781, val_acc=0.9817\n"
     ]
    },
    {
     "name": "stderr",
     "output_type": "stream",
     "text": [
      "                                                                                "
     ]
    },
    {
     "name": "stdout",
     "output_type": "stream",
     "text": [
      "Epoch [38/100], train_loss=0.0180, train_acc=0.9939, val_loss=0.0778, val_acc=0.9816\n"
     ]
    },
    {
     "name": "stderr",
     "output_type": "stream",
     "text": [
      "                                                                                "
     ]
    },
    {
     "name": "stdout",
     "output_type": "stream",
     "text": [
      "Epoch [39/100], train_loss=0.0167, train_acc=0.9949, val_loss=0.0779, val_acc=0.9814\n",
      "\u001b[31mОбучение остановлено на 39 эпохе.\u001b[0m\n"
     ]
    }
   ],
   "source": [
    "# Цикл обучения\n",
    "for epoch in range(EPOCHS):\n",
    "\n",
    "    # Тренировка модели\n",
    "    model.train()\n",
    "    running_train_loss = []\n",
    "    true_answer = 0\n",
    "    # добавим трейн луп, чтобы видеть прогресс обучения модели\n",
    "    train_loop = tqdm(train_loader, leave=False)\n",
    "    for x, targets in train_loop:\n",
    "        # Данные\n",
    "        # (batch.size, 1, 28, 28) --> (batch.size, 784)\n",
    "        x = x.reshape(-1, 28*28).to(device)\n",
    "        # (batch.size, int) --> (batch.size, 10), dtype=float32\n",
    "        targets = targets.reshape(-1).to(torch.int32)\n",
    "        targets = torch.eye(10)[targets].to(device)\n",
    "\n",
    "        # Прямой проход + расчет ошибки модели\n",
    "        pred = model(x)\n",
    "        loss = loss_model(pred, targets)\n",
    "\n",
    "        # Обратный проход\n",
    "        opt.zero_grad()\n",
    "        loss.backward()\n",
    "        \n",
    "        # Шаг оптимизации\n",
    "        opt.step()\n",
    "\n",
    "        running_train_loss.append(loss.item())\n",
    "        mean_train_loss = sum(running_train_loss)/len(running_train_loss)\n",
    "\n",
    "        true_answer += (pred.argmax(dim=1) == targets.argmax(dim=1)).sum().item()\n",
    "\n",
    "        train_loop.set_description(f\"Epoch [{epoch+1}/{EPOCHS}], train_loss={mean_train_loss:.4f}\")\n",
    "\n",
    "\n",
    "    # Расчет значения метрики\n",
    "    running_train_acc = true_answer / len(train_data)\n",
    "\n",
    "    # Сохранение значения функции потерь и метрики\n",
    "    train_loss.append(mean_train_loss)\n",
    "    train_acc.append(running_train_acc)\n",
    "\n",
    "    # Проверка модели (Валидация)\n",
    "    model.eval()\n",
    "    with torch.no_grad():\n",
    "        running_val_loss = []\n",
    "        true_answer = 0\n",
    "        for x, targets in val_loader:\n",
    "            # Данные\n",
    "            # (batch.size, 1, 28, 28) --> (batch.size, 784)\n",
    "            x = x.reshape(-1, 28*28).to(device)\n",
    "            # (batch.size, int) --> (batch.size, 10), dtype=float32\n",
    "            targets = targets.reshape(-1).to(torch.int32)\n",
    "            targets = torch.eye(10)[targets].to(device)\n",
    "\n",
    "            # Прямой проход + расчет ошибки модели\n",
    "            pred = model(x)\n",
    "            loss = loss_model(pred, targets)\n",
    "\n",
    "            running_val_loss.append(loss.item())\n",
    "            mean_val_loss = sum(running_val_loss)/len(running_val_loss)\n",
    "\n",
    "            true_answer += (pred.argmax(dim=1) == targets.argmax(dim=1)).sum().item()\n",
    "\n",
    "        # Расчет значения метрики\n",
    "        running_val_acc = true_answer / len(val_data)\n",
    "\n",
    "        # Сохранение значения функции потерь и метрики\n",
    "        val_loss.append(mean_val_loss)\n",
    "        val_acc.append(running_val_acc)\n",
    "\n",
    "        lr_scheduler.step(mean_val_loss)\n",
    "        lr = lr_scheduler._last_lr[0]\n",
    "        lr_list.append(lr)\n",
    "\n",
    "        print(f\"Epoch [{epoch+1}/{EPOCHS}], train_loss={mean_train_loss:.4f}, train_acc={running_train_acc:.4f}, val_loss={mean_val_loss:.4f}, val_acc={running_val_acc:.4f}\")\n",
    "\n",
    "        # добавляем две проверки, для сохранения лучшей модели\n",
    "        if best_loss is None:\n",
    "            best_loss = mean_val_loss\n",
    "      \n",
    "        if mean_val_loss < best_loss:\n",
    "            best_loss = mean_val_loss\n",
    "            \n",
    "            # если модель улучшила свои показатели, то отсчет эпох пойдет заново\n",
    "            # обнуляем счетчик\n",
    "            count = 0\n",
    "            \n",
    "            # так же сохраняем словарь в случае улучшения модели\n",
    "            checkpoint = {\n",
    "                'state_model': model.state_dict(),\n",
    "                'state_opt': opt.state_dict(),\n",
    "                'state_lr_scheduler': lr_scheduler.state_dict(),\n",
    "                'loss':{\n",
    "                    'train_loss': train_loss,\n",
    "                    'val_loss': val_loss,\n",
    "                    'best_loss': best_loss\n",
    "                },\n",
    "                'metric':{\n",
    "                    'train_acc': train_acc,\n",
    "                    'val_acc': val_acc\n",
    "                },\n",
    "                'lr': lr_list,\n",
    "                'epoch':{\n",
    "                    'EPOCHS': EPOCHS,\n",
    "                    'save_epoch': epoch\n",
    "                }\n",
    "            }\n",
    "    \n",
    "            \n",
    "    \n",
    "            torch.save(checkpoint, f'model_state_dict_epoch_{epoch+1}.pt')\n",
    "            print(f\"На эпохе: {epoch+1}, сохранена модель со значением функции потерь на валидаци: {mean_val_loss:.4f}\", end='\\n\\n')\n",
    "\n",
    "        # условие, для остановки обучения по достижению счетчиком определенного значения!\n",
    "        if count >= 10:\n",
    "            print(f'\\033[31mОбучение остановлено на {epoch + 1} эпохе.\\033[0m')\n",
    "            break\n",
    "            \n",
    "        # в конце каждой эпохи увеличиваем счетчик на 1\n",
    "        count += 1"
   ]
  },
  {
   "cell_type": "code",
   "execution_count": 42,
   "id": "3d85826f-6bc1-4b50-894d-e7bfad839397",
   "metadata": {},
   "outputs": [
    {
     "data": {
      "image/png": "[encoded data removed]",
      "text/plain": [
       "<Figure size 640x480 with 1 Axes>"
      ]
     },
     "metadata": {},
     "output_type": "display_data"
    }
   ],
   "source": [
    "plt.plot(lr_list)\n",
    "plt.legend('lr_list')\n",
    "plt.show()"
   ]
  },
  {
   "cell_type": "code",
   "execution_count": 43,
   "id": "c626a99d-1498-47fe-9795-8788f3347cf0",
   "metadata": {},
   "outputs": [
    {
     "data": {
      "image/png": "[encoded data removed]",
      "text/plain": [
       "<Figure size 640x480 with 1 Axes>"
      ]
     },
     "metadata": {},
     "output_type": "display_data"
    }
   ],
   "source": [
    "plt.plot(train_loss)\n",
    "plt.plot(val_loss)\n",
    "plt.legend(['loss_train', 'loss_val'])\n",
    "plt.show()"
   ]
  },
  {
   "cell_type": "code",
   "execution_count": 44,
   "id": "8d14edef-c704-4ec2-b910-8856a8c914fd",
   "metadata": {},
   "outputs": [
    {
     "data": {
      "image/png": "[encoded data removed]",
      "text/plain": [
       "<Figure size 640x480 with 1 Axes>"
      ]
     },
     "metadata": {},
     "output_type": "display_data"
    }
   ],
   "source": [
    "plt.plot(train_acc)\n",
    "plt.plot(val_acc)\n",
    "plt.legend(['acc_train', 'acc_val'])\n",
    "plt.show()"
   ]
  },
  {
   "cell_type": "markdown",
   "id": "93e965cb-84bc-48b6-943a-7d5f61849ea1",
   "metadata": {},
   "source": [
    "Хоть мы и можем наблюдать некоторое переобучение модели.\n",
    "\n",
    "Оно не настолько существенное, как было в первых созданных моделях нейронных сетей.\n",
    "\n",
    "Далее необходимо уже включать различные вероятности для отключения нейронов и проводить эксперименты)"
   ]
  }
 ],
 "metadata": {
  "kernelspec": {
   "display_name": "Python 3 (ipykernel)",
   "language": "python",
   "name": "python3"
  },
  "language_info": {
   "codemirror_mode": {
    "name": "ipython",
    "version": 3
   },
   "file_extension": ".py",
   "mimetype": "text/x-python",
   "name": "python",
   "nbconvert_exporter": "python",
   "pygments_lexer": "ipython3",
   "version": "3.12.3"
  }
 },
 "nbformat": 4,
 "nbformat_minor": 5
}
